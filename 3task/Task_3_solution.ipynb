{
 "cells": [
  {
   "cell_type": "markdown",
   "metadata": {
    "id": "d0ADTojbpfLt"
   },
   "source": [
    "# Обучение классификаторов отзывов"
   ]
  },
  {
   "cell_type": "markdown",
   "metadata": {
    "id": "rh9ZXSeCpng9"
   },
   "source": [
    "Импорт необходимых библиотек"
   ]
  },
  {
   "cell_type": "code",
   "execution_count": 6,
   "metadata": {},
   "outputs": [],
   "source": [
    "import pandas as pd\n",
    "from sklearn.model_selection import train_test_split, GridSearchCV, learning_curve\n",
    "from sklearn.feature_extraction.text import TfidfVectorizer\n",
    "from sklearn.svm import SVC\n",
    "from sklearn.metrics import accuracy_score\n",
    "from nltk.tokenize import word_tokenize\n",
    "from nltk.corpus import stopwords\n",
    "from nltk.stem import WordNetLemmatizer\n",
    "import string"
   ]
  },
  {
   "cell_type": "code",
   "execution_count": 2,
   "metadata": {},
   "outputs": [],
   "source": [
    "# Загрузка данных\n",
    "data = pd.read_csv('task-3-dataset.csv')\n",
    "# замена + на 1, - на 0\n",
    "data['разметка'] = data['разметка'].apply(lambda x: 0 if x == '-' else 1)\n",
    "\n"
   ]
  },
  {
   "cell_type": "code",
   "execution_count": 7,
   "metadata": {},
   "outputs": [],
   "source": [
    "# Предобработка текста\n",
    "def preprocess_text(text):\n",
    "    # Токенизация\n",
    "    tokens = word_tokenize(text.lower().translate( str.maketrans('', '', string.punctuation)))\n",
    "\n",
    "    # Удаление стоп-слов\n",
    "    stop_words = set(stopwords.words('russian'))\n",
    "    tokens = [token for token in tokens if token not in stop_words]\n",
    "\n",
    "    # Лемматизация\n",
    "    lemmatizer = WordNetLemmatizer()\n",
    "    tokens = [lemmatizer.lemmatize(token) for token in tokens]\n",
    "\n",
    "    return ' '.join(tokens)\n",
    "\n",
    "data['отзывы'] = data['отзывы'].apply(preprocess_text)"
   ]
  },
  {
   "cell_type": "markdown",
   "metadata": {},
   "source": [
    "## TF-IDF токенизация"
   ]
  },
  {
   "cell_type": "code",
   "execution_count": 8,
   "metadata": {},
   "outputs": [],
   "source": [
    "# Разделение данных на обучающий и тестовый наборы\n",
    "X_train, X_test, y_train, y_test = train_test_split(data['отзывы'], data['разметка'], test_size=0.2, random_state=42)\n",
    "\n",
    "# Преобразование текстовых данных в числовые признаки с помощью TF-IDF\n",
    "vectorizer = TfidfVectorizer()\n",
    "X_train_tfidf = vectorizer.fit_transform(X_train)\n",
    "X_test_tfidf = vectorizer.transform(X_test)"
   ]
  },
  {
   "cell_type": "markdown",
   "metadata": {},
   "source": [
    "## RandomForest"
   ]
  },
  {
   "cell_type": "code",
   "execution_count": 9,
   "metadata": {},
   "outputs": [
    {
     "name": "stdout",
     "output_type": "stream",
     "text": [
      "Лучшие параметры: {'max_depth': 15, 'min_samples_split': 10, 'n_estimators': 50}\n",
      "Лучшая оценка: 0.6666666666666666\n",
      "Точность модели на тестовом наборе: 0.7619047619047619\n"
     ]
    }
   ],
   "source": [
    "from sklearn.ensemble import RandomForestClassifier\n",
    "# Определение параметров для GridSearchCV\n",
    "param_grid = {\n",
    "    'n_estimators': [50, 100, 200],  # Количество деревьев в лесу\n",
    "    'max_depth': [5, 10, 15],       # Максимальная глубина каждого дерева\n",
    "    'min_samples_split': [2, 5, 10] # Минимальное количество образцов для разделения узла\n",
    "}\n",
    "\n",
    "# Создание и обучение модели RandomForestClassifier с GridSearchCV\n",
    "model = RandomForestClassifier()\n",
    "grid_search = GridSearchCV(model, param_grid, cv=5, scoring='accuracy')\n",
    "grid_search.fit(X_train_tfidf, y_train)\n",
    "\n",
    "# Вывод лучших параметров и оценки\n",
    "print(\"Лучшие параметры:\", grid_search.best_params_)\n",
    "print(\"Лучшая оценка:\", grid_search.best_score_)\n",
    "\n",
    "# Предсказание на тестовом наборе с лучшей моделью\n",
    "best_model = grid_search.best_estimator_\n",
    "y_pred = best_model.predict(X_test_tfidf)\n",
    "\n",
    "# Оценка модели\n",
    "accuracy = accuracy_score(y_test, y_pred)\n",
    "\n",
    "print(f\"Точность модели на тестовом наборе: {accuracy}\")\n"
   ]
  },
  {
   "cell_type": "markdown",
   "metadata": {},
   "source": [
    "## Support Vector Classifier\n",
    "https://scikit-learn.org/stable/modules/generated/sklearn.svm.SVC.html"
   ]
  },
  {
   "cell_type": "code",
   "execution_count": 12,
   "metadata": {},
   "outputs": [
    {
     "name": "stdout",
     "output_type": "stream",
     "text": [
      "Accuracy:  0.8809523809523809\n"
     ]
    }
   ],
   "source": [
    "# Обучение классификатора SVM\n",
    "classifier = SVC()\n",
    "classifier.fit(X_train_tfidf, y_train)\n",
    "\n",
    "# Предсказание на тестовом наборе\n",
    "y_pred = classifier.predict(X_test_tfidf)\n",
    "\n",
    "# Оценка точности классификатора\n",
    "accuracy = accuracy_score(y_test, y_pred)\n",
    "print(\"Accuracy: \", accuracy)"
   ]
  },
  {
   "cell_type": "markdown",
   "metadata": {},
   "source": [
    "## Logistic Regression\n",
    "https://scikit-learn.org/stable/modules/generated/sklearn.linear_model.LogisticRegression.html"
   ]
  },
  {
   "cell_type": "code",
   "execution_count": 11,
   "metadata": {},
   "outputs": [
    {
     "name": "stdout",
     "output_type": "stream",
     "text": [
      "Лучшие параметры: {'C': 10.0, 'penalty': 'l2'}\n",
      "Лучшая оценка: 0.7552584670231728\n",
      "Точность модели на тестовом наборе: 0.7380952380952381\n"
     ]
    },
    {
     "name": "stderr",
     "output_type": "stream",
     "text": [
      "D:\\Soft\\miniforge\\lib\\site-packages\\sklearn\\model_selection\\_validation.py:425: FitFailedWarning: \n",
      "15 fits failed out of a total of 30.\n",
      "The score on these train-test partitions for these parameters will be set to nan.\n",
      "If these failures are not expected, you can try to debug them by setting error_score='raise'.\n",
      "\n",
      "Below are more details about the failures:\n",
      "--------------------------------------------------------------------------------\n",
      "15 fits failed with the following error:\n",
      "Traceback (most recent call last):\n",
      "  File \"D:\\Soft\\miniforge\\lib\\site-packages\\sklearn\\model_selection\\_validation.py\", line 729, in _fit_and_score\n",
      "    estimator.fit(X_train, y_train, **fit_params)\n",
      "  File \"D:\\Soft\\miniforge\\lib\\site-packages\\sklearn\\base.py\", line 1152, in wrapper\n",
      "    return fit_method(estimator, *args, **kwargs)\n",
      "  File \"D:\\Soft\\miniforge\\lib\\site-packages\\sklearn\\linear_model\\_logistic.py\", line 1169, in fit\n",
      "    solver = _check_solver(self.solver, self.penalty, self.dual)\n",
      "  File \"D:\\Soft\\miniforge\\lib\\site-packages\\sklearn\\linear_model\\_logistic.py\", line 56, in _check_solver\n",
      "    raise ValueError(\n",
      "ValueError: Solver lbfgs supports only 'l2' or 'none' penalties, got l1 penalty.\n",
      "\n",
      "  warnings.warn(some_fits_failed_message, FitFailedWarning)\n",
      "D:\\Soft\\miniforge\\lib\\site-packages\\sklearn\\model_selection\\_search.py:979: UserWarning: One or more of the test scores are non-finite: [       nan 0.55347594        nan 0.65490196        nan 0.75525847]\n",
      "  warnings.warn(\n"
     ]
    }
   ],
   "source": [
    "from sklearn.linear_model import LogisticRegression\n",
    "\n",
    "# Определение параметров для GridSearchCV\n",
    "param_grid = {\n",
    "    'C': [0.1, 1.0, 10.0],  # Параметр регуляризации\n",
    "    'penalty': ['l1', 'l2']  # Тип регуляризации\n",
    "}\n",
    "\n",
    "# Создание и обучение модели LogisticRegression с GridSearchCV\n",
    "model = LogisticRegression()\n",
    "grid_search = GridSearchCV(model, param_grid, cv=5, scoring='accuracy')\n",
    "grid_search.fit(X_train_tfidf, y_train)\n",
    "\n",
    "# Вывод лучших параметров и оценки\n",
    "print(\"Лучшие параметры:\", grid_search.best_params_)\n",
    "print(\"Лучшая оценка:\", grid_search.best_score_)\n",
    "\n",
    "# Предсказание на тестовом наборе с лучшей моделью\n",
    "best_model = grid_search.best_estimator_\n",
    "y_pred = best_model.predict(X_test_tfidf)\n",
    "\n",
    "# Оценка модели\n",
    "accuracy = accuracy_score(y_test, y_pred)\n",
    "\n",
    "print(f\"Точность модели на тестовом наборе: {accuracy}\")"
   ]
  },
  {
   "cell_type": "markdown",
   "metadata": {},
   "source": [
    "# Нейросетевые подходы"
   ]
  },
  {
   "cell_type": "code",
   "execution_count": 50,
   "metadata": {
    "id": "XOJi16bLpd_O"
   },
   "outputs": [],
   "source": [
    "import torch\n",
    "import torch.nn as nn\n",
    "from torch.utils.data import Dataset, DataLoader\n",
    "\n",
    "import numpy as np\n",
    "import matplotlib.pyplot as plt\n",
    "\n",
    "from tqdm.auto import tqdm\n",
    "from datasets import load_dataset\n",
    "from nltk.tokenize import word_tokenize\n",
    "from sklearn.model_selection import train_test_split\n",
    "import nltk\n",
    "\n",
    "from collections import Counter\n",
    "from typing import List\n",
    "import string\n",
    "\n",
    "import seaborn\n",
    "seaborn.set(palette='summer')"
   ]
  },
  {
   "cell_type": "code",
   "execution_count": 51,
   "metadata": {
    "colab": {
     "base_uri": "https://localhost:8080/"
    },
    "id": "91JuM0SQvXud",
    "outputId": "0846c6da-f75a-4651-b7c1-31f270aad706"
   },
   "outputs": [
    {
     "name": "stderr",
     "output_type": "stream",
     "text": [
      "[nltk_data] Downloading package punkt to\n",
      "[nltk_data]     C:\\Users\\1317404\\AppData\\Roaming\\nltk_data...\n",
      "[nltk_data]   Package punkt is already up-to-date!\n"
     ]
    },
    {
     "data": {
      "text/plain": [
       "True"
      ]
     },
     "execution_count": 51,
     "metadata": {},
     "output_type": "execute_result"
    }
   ],
   "source": [
    "nltk.download('punkt')"
   ]
  },
  {
   "cell_type": "code",
   "execution_count": 52,
   "metadata": {
    "colab": {
     "base_uri": "https://localhost:8080/",
     "height": 35
    },
    "id": "adJC8ShFq9HM",
    "outputId": "fb3a50d9-6c7f-4af1-b070-7e27942c9e4a"
   },
   "outputs": [
    {
     "data": {
      "text/plain": [
       "'cuda'"
      ]
     },
     "execution_count": 52,
     "metadata": {},
     "output_type": "execute_result"
    }
   ],
   "source": [
    "device = 'cuda' if torch.cuda.is_available() else 'cpu'\n",
    "device"
   ]
  },
  {
   "cell_type": "markdown",
   "metadata": {
    "id": "pwsfS1ENq5ig"
   },
   "source": [
    "## Подготовка данных"
   ]
  },
  {
   "cell_type": "code",
   "execution_count": 53,
   "metadata": {},
   "outputs": [],
   "source": [
    "import pandas as pd\n",
    "dataset = pd.read_csv(\"task-3-dataset.csv\")\n",
    "dataset['разметка'] = dataset['разметка'].apply(lambda x: 0 if x == '-' else 1)\n",
    "Train, Test = train_test_split(dataset, test_size =  0.2, random_state=42)"
   ]
  },
  {
   "cell_type": "code",
   "execution_count": 54,
   "metadata": {
    "colab": {
     "base_uri": "https://localhost:8080/",
     "height": 49,
     "referenced_widgets": [
      "7046940e6910483ab956bbecf28304db",
      "c0abb69ec0e4491287aa31bad7e7849e",
      "a08440885cfe4eba9d5cca3b24009f52",
      "3c1a0b63e99241a6b156a29b9e151984",
      "9cdf88dfc18c4a249798269edfd01ca7",
      "7c2bf69f1e224e5fb5825206d40f63df",
      "8dbbd8b3d5374ce29f90ea1ddf921519",
      "f67374547a194ab6bcc55bc11dcec68c",
      "9cf94ccc7bfd494aaabab548adac9a2d",
      "b04f3a4f231e43dcb8379dff0c1e2456",
      "58d8c6f1ba1d4423b5c2c712fe4e3439"
     ]
    },
    "id": "nEvCN0Y1w1yH",
    "outputId": "75a87f63-bd7b-4e01-f002-3fb959b95afe"
   },
   "outputs": [
    {
     "data": {
      "application/vnd.jupyter.widget-view+json": {
       "model_id": "8c80d301251f43aa9f6a42d7405f4c8b",
       "version_major": 2,
       "version_minor": 0
      },
      "text/plain": [
       "  0%|          | 0/210 [00:00<?, ?it/s]"
      ]
     },
     "metadata": {},
     "output_type": "display_data"
    }
   ],
   "source": [
    "words = Counter()\n",
    "\n",
    "for example in tqdm(dataset['отзывы']):\n",
    "    # Приводим к нижнему регистру и убираем пунктуацию\n",
    "    processed_text = example.lower().translate( str.maketrans('', '', string.punctuation))\n",
    "\n",
    "    for word in word_tokenize(processed_text):\n",
    "        words[word] += 1"
   ]
  },
  {
   "cell_type": "code",
   "execution_count": 55,
   "metadata": {
    "id": "oUBNwsK9xLIu"
   },
   "outputs": [],
   "source": [
    "vocab = set(['<unk>', '<bos>', '<eos>', '<pad>'])\n",
    "\n",
    "for char, cnt in words.items():\n",
    "    vocab.add(char)"
   ]
  },
  {
   "cell_type": "code",
   "execution_count": 56,
   "metadata": {
    "colab": {
     "base_uri": "https://localhost:8080/"
    },
    "id": "JhACW2CQyck5",
    "outputId": "8cbd177f-15fd-4064-b6fa-c5900749fc1b"
   },
   "outputs": [
    {
     "data": {
      "text/plain": [
       "1266"
      ]
     },
     "execution_count": 56,
     "metadata": {},
     "output_type": "execute_result"
    }
   ],
   "source": [
    "len(vocab)"
   ]
  },
  {
   "cell_type": "code",
   "execution_count": 57,
   "metadata": {
    "id": "iD7SmSy3v2dl"
   },
   "outputs": [],
   "source": [
    "word2ind = {char: i for i, char in enumerate(vocab)}\n",
    "ind2word = {i: char for char, i in word2ind.items()}"
   ]
  },
  {
   "cell_type": "code",
   "execution_count": 100,
   "metadata": {
    "id": "FVzXL17PzC7K"
   },
   "outputs": [],
   "source": [
    "class WordDataset:\n",
    "    def __init__(self, sentences):\n",
    "        self.data = sentences\n",
    "        self.unk_id = word2ind['<unk>']\n",
    "        self.bos_id = word2ind['<bos>']\n",
    "        self.eos_id = word2ind['<eos>']\n",
    "        self.pad_id = word2ind['<pad>']\n",
    "\n",
    "    def __getitem__(self, idx: int) -> List[int]:\n",
    "        processed_text = self.data['отзывы'].tolist()[idx].lower().translate(str.maketrans('', '', string.punctuation))\n",
    "        tokenized_sentence = [self.bos_id]\n",
    "        tokenized_sentence += [\n",
    "            word2ind.get(word, self.unk_id) for word in word_tokenize(processed_text)\n",
    "            ]\n",
    "        tokenized_sentence += [self.eos_id]\n",
    "\n",
    "        train_sample = {\n",
    "            \"text\": tokenized_sentence,\n",
    "            \"label\": self.data['разметка'].tolist()[idx]\n",
    "        }\n",
    "\n",
    "        return train_sample\n",
    "\n",
    "    def __len__(self) -> int:\n",
    "        return len(self.data)"
   ]
  },
  {
   "cell_type": "code",
   "execution_count": 101,
   "metadata": {
    "id": "I6CtYNMp2_g0"
   },
   "outputs": [],
   "source": [
    "def collate_fn_with_padding(\n",
    "    input_batch: List[List[int]], pad_id=word2ind['<pad>'], max_len=256) -> torch.Tensor:\n",
    "    seq_lens = [len(x['text']) for x in input_batch]\n",
    "    max_seq_len = min(max(seq_lens), max_len)\n",
    "\n",
    "    new_batch = []\n",
    "    for sequence in input_batch:\n",
    "        sequence['text'] = sequence['text'][:max_seq_len]\n",
    "        for _ in range(max_seq_len - len(sequence['text'])):\n",
    "            sequence['text'].append(pad_id)\n",
    "\n",
    "        new_batch.append(sequence['text'])\n",
    "\n",
    "    sequences = torch.LongTensor(new_batch).to(device)\n",
    "    labels = torch.LongTensor([x['label'] for x in input_batch]).to(device)\n",
    "\n",
    "    new_batch = {\n",
    "        'input_ids': sequences,\n",
    "        'label': labels\n",
    "    }\n",
    "\n",
    "    return new_batch"
   ]
  },
  {
   "cell_type": "code",
   "execution_count": 102,
   "metadata": {
    "id": "6xmeK9Ys1BIG"
   },
   "outputs": [],
   "source": [
    "train_dataset = WordDataset(Train)\n",
    "\n",
    "np.random.seed(42)\n",
    "idx = np.random.choice(np.arange(len(Test)), len(Test))\n",
    "eval_dataset = WordDataset(Test)\n",
    "\n",
    "batch_size = 8\n",
    "train_dataloader = DataLoader(\n",
    "    train_dataset, shuffle=True, collate_fn=collate_fn_with_padding, batch_size=batch_size)\n",
    "\n",
    "eval_dataloader = DataLoader(\n",
    "    eval_dataset, shuffle=False, collate_fn=collate_fn_with_padding, batch_size=batch_size)"
   ]
  },
  {
   "cell_type": "markdown",
   "metadata": {
    "id": "SMAexY7Y45E4"
   },
   "source": [
    "## Архитектура модели"
   ]
  },
  {
   "cell_type": "code",
   "execution_count": 103,
   "metadata": {
    "id": "Vbr92JnX4bzN"
   },
   "outputs": [],
   "source": [
    "class CharLM(nn.Module):\n",
    "    def __init__(\n",
    "        self, hidden_dim: int, vocab_size: int, num_classes: int = 2,\n",
    "        aggregation_type: str = 'max'\n",
    "        ):\n",
    "        super().__init__()\n",
    "        self.embedding = nn.Embedding(vocab_size, hidden_dim)\n",
    "        self.rnn = nn.RNN(hidden_dim, hidden_dim, batch_first=True)\n",
    "        self.linear = nn.Linear(hidden_dim, hidden_dim)\n",
    "        self.projection = nn.Linear(hidden_dim, num_classes)\n",
    "\n",
    "        self.non_lin = nn.Tanh()\n",
    "        self.dropout = nn.Dropout(p=0.1)\n",
    "\n",
    "        self.aggregation_type = aggregation_type\n",
    "\n",
    "    def forward(self, input_batch) -> torch.Tensor:\n",
    "        embeddings = self.embedding(input_batch)  # [batch_size, seq_len, hidden_dim]\n",
    "        output, _ = self.rnn(embeddings)  # [batch_size, seq_len, hidden_dim]\n",
    "\n",
    "        if self.aggregation_type == 'max':\n",
    "            output = output.max(dim=1)[0] #[batch_size, hidden_dim]\n",
    "        elif self.aggregation_type == 'mean':\n",
    "            output = output.mean(dim=1) #[batch_size, hidden_dim]\n",
    "        else:\n",
    "            raise ValueError(\"Invalid aggregation_type\")\n",
    "\n",
    "        output = self.dropout(self.linear(self.non_lin(output)))  # [batch_size, hidden_dim]\n",
    "        prediction = self.projection(self.non_lin(output))  # [batch_size, num_classes]\n",
    "\n",
    "        return prediction"
   ]
  },
  {
   "cell_type": "markdown",
   "metadata": {
    "id": "bLV63Vsk7loy"
   },
   "source": [
    "## Train loop"
   ]
  },
  {
   "cell_type": "code",
   "execution_count": 104,
   "metadata": {
    "id": "Ak-CGxJ_reWK"
   },
   "outputs": [],
   "source": [
    "def evaluate(model) -> float:\n",
    "    \"\"\"\n",
    "    Calculate accuracy on validation dataloader.\n",
    "    \"\"\"\n",
    "\n",
    "    predictions = []\n",
    "    target = []\n",
    "    with torch.no_grad():\n",
    "        for batch in eval_dataloader:\n",
    "            logits = model(batch['input_ids'])\n",
    "            predictions.append(logits.argmax(dim=1))\n",
    "            target.append(batch['label'])\n",
    "\n",
    "    predictions = torch.cat(predictions)\n",
    "    target = torch.cat(target)\n",
    "    accuracy = (predictions == target).float().mean().item()\n",
    "\n",
    "    return accuracy"
   ]
  },
  {
   "cell_type": "code",
   "execution_count": 105,
   "metadata": {
    "id": "kZT0IgoW7jel"
   },
   "outputs": [],
   "source": [
    "model = CharLM(hidden_dim=256, vocab_size=len(vocab)).to(device)\n",
    "criterion = nn.CrossEntropyLoss(ignore_index=word2ind['<pad>'])\n",
    "optimizer = torch.optim.Adam(model.parameters())"
   ]
  },
  {
   "cell_type": "code",
   "execution_count": 112,
   "metadata": {
    "colab": {
     "base_uri": "https://localhost:8080/",
     "height": 372,
     "referenced_widgets": [
      "b7a891c19bcb4ae49d3e40d4a7eb8e99",
      "51a0a02c62914bc4b68cb9f0bd989c7f",
      "a529c28475d6427e823006bd4e58ff7d",
      "2a66b9f484b844c0b4447efcac6fbdca",
      "a6e5cb2ee00b4f34934257187dcd38fe",
      "864c3ca6643d4c0c8b81c2ab092e4e41",
      "6a3abf946ef5473db978508cb35cb207",
      "35b8652a722747da8a3f30c7dbaa8ac7",
      "85751d5c52de450dbe3ee0980c6d6209",
      "29889972197c43cfaa20f8057c033ab5",
      "f792bb3cf4f045228617c45bf3675956",
      "a3938ee86e77421492ab9f02bcbd2b0b",
      "7edf1d5607bf4ffbafab752323a3a981",
      "a39e2b428d214ca19f37f958d963d8e5",
      "4c72067599d64ca78cc74d0c223525e0",
      "2fbd0690956d47d98e031a5be26bc9b3",
      "213ad2e74f334f89911dcee4792962b2",
      "6c3f56ea01fe4e7fb2009e31842120eb",
      "38d3e76ff99d4263be9e0b95119eff8e",
      "594f343a4195436e9c12973f56555f93",
      "ff11d07358dd4bfd8d85c56b17971f76",
      "4751d600cb974a09abe8b043097a2e7d",
      "43ee71f957d34f80b7724b37912f86be",
      "ecdd5be451764fefa040c081ed203341",
      "f662b61b09b945fb80eaaecaaca20a0e",
      "32e363c6d4df4a0aad4336d8a507e9fe",
      "9ee6edf2ee2d4a0ca041f177cb24adef",
      "faf2c306812644139f8bab56e2ef447b",
      "e4050da259264993ad659431b6f05bdd",
      "0758aee9b50f428fb4b903bcf6eacb42",
      "8728b1bd9455445ca3e19bbac698fbee",
      "85a9415481374bd1a9fb5e5a42d0b667",
      "43fcf00c25b548f38c72ad65801bbc3b",
      "ab2f8971591449668d79e15ea2c84f39",
      "112e804953a14681b96b9f1dc400dd3d",
      "4c9d0522738240ff814d77a0e9043b4d",
      "cfb1b0ff813a44739ea1a429fa80e97c",
      "258c608d733a4ac3a641b80056a91311",
      "78aa109ad69d4b06941078dc44835e1a",
      "525dba37d9b6419d86e5aea5c9a33133",
      "14c61796d00f43ae9e1a0694a0c03618",
      "0c33dd7fe827456883d945b46c3cfb0f",
      "3ef4bbf665224226a40325fd7b8caf91",
      "023ecded2a4840f99d20105fca7cd95d",
      "a8d3fd6fe39c4fecadd51ed00b78707b",
      "4c9c211beb084b3783f2cb2674c97f30",
      "4822e59688a24d148be5dc3f56aee1eb",
      "fb4e483fb3f3463f8018a09fe288b5be",
      "ec9fc909f7dd4a51b00dda07bf76aac8",
      "ad064898fabc429b93ff8bda73a7b64f",
      "5399fdfab95547a388b1bc1212e0ac53",
      "e353887a89014b49b5b20e164536602c",
      "5715385a06b74ab98bf81056289f0d8f",
      "b82fb329e11749d7a91c5f96afb79b31",
      "25e8b4bee71d47df977db6e3888a7c95",
      "1c7746b6d0384c138025bdf0a6c77942",
      "8e783828b2184f05bd7d7f06e36f945a",
      "ab42750cd08e423c9433e381c278da92",
      "6f4f1140a5bc4359a1a5e4777877d856",
      "949b787ca27b41f587b164e669dda257",
      "c76c952d76eb4ebb9ae49095b34f3420",
      "d15d2f259b53470d8aa44564b9d1a3eb",
      "44b8f439dd424f30b167958f8d7db4d3",
      "63ca3d940bf548a1a889caa5355f46c8",
      "a96d7404a9704adf921f3bcbb0e3f231",
      "4e1720745446422ba4d19356a2b42449",
      "141df194e7e145868cbda2b386e01766",
      "04bdffb1c7b742b8aa7280251bfb6e0f",
      "3b286802472244d0be169362a5ed4ec1",
      "4bab945549cb4faebe72231e26e641d0",
      "404fba4bd83b4116801b45135a381dc7",
      "4a0612bbf0064e88921171486bd7e8c5",
      "62ab73b3c7a1484eba73dfea849c4d9a",
      "1ffcecdd5ed4444b8722ab7f74b69dcb",
      "d7d9a404caad44a384111850f41634bf",
      "43eed75e816e48ba8529f303fbd530e4",
      "6a915a0a17e241659246275464b34053",
      "c5b1a9a122e748e983a30c0db43cd00e",
      "76bed2046dc54c6d815ef13d87c07e70",
      "8b196412b114401ab4a1148eef47ad1a",
      "2f8095bdcf0749f9b2e03c8127527f07",
      "4aa58740465a44ff98d26d968086a1c7",
      "ada7c94563154c39ba5fe6b3d3da40c7",
      "40f9f16872b84957b3d78e2794da4278",
      "84592b7fe38a4821ab3a075fd1e61288",
      "4980907a0a1a4d8dbeb19d62e002d107",
      "dc4b3be34fef4d33bc2c9ca6b02519a6",
      "c24e0a8070334d5b81c9d6ed00388e68",
      "7b3a7b9485224b23b8eae36e2fe9989b",
      "36f08b751ba9458ba1ce02c50801e9bb",
      "65542002c4fc47cf94af0632096a0d07",
      "58bf0ebcf4314d77a84ffc16c576274a",
      "08b20e3a99d34acdb528933282a5b597",
      "ed070ae21ff6447f81e84d1ebeb522fc",
      "2654499bd1f844e3a735decd194ee7a7",
      "5c3739a34c87470a85916ab91259fae7",
      "8025796386a544b7ba3d8922d068d2e9",
      "2a7e3c6bd4934002a942a7495229babd",
      "04a9eb70dab84646b576d126924c12c4",
      "26570316de484e0b855d291125024f72",
      "a91c3767e5bd41ea9063d7510e045a12",
      "cff1988bf3b945d0a102ae846efd8325",
      "41b935a61f6847ce94e4ce3568cc1c71",
      "833a9262c2904d56aa831ede95addfde",
      "b23e82f9ba5f45f4898379260841eb9a",
      "1b7f996d8bd5423499e92a83f71236ac",
      "44fb7318dba249088fd5e737d32710f5",
      "13e4bdec6eb540cbb5f8afe8335c71fd",
      "820a98ad34904a31a374f6a0e8c5586b",
      "804a4bc356bb44fd804d08b41fdfd7e0"
     ]
    },
    "id": "XM8gJPdM8HuT",
    "outputId": "88366968-fd39-4b06-f201-0818d45243c5"
   },
   "outputs": [
    {
     "name": "stdout",
     "output_type": "stream",
     "text": [
      "Starting training for max\n"
     ]
    },
    {
     "data": {
      "application/vnd.jupyter.widget-view+json": {
       "model_id": "88e58612da67438b94079c1af4516054",
       "version_major": 2,
       "version_minor": 0
      },
      "text/plain": [
       "Training epoch 0::   0%|          | 0/21 [00:00<?, ?it/s]"
      ]
     },
     "metadata": {},
     "output_type": "display_data"
    },
    {
     "data": {
      "application/vnd.jupyter.widget-view+json": {
       "model_id": "e36ed0f96e154208a0eefd5d75bc0a4b",
       "version_major": 2,
       "version_minor": 0
      },
      "text/plain": [
       "Training epoch 1::   0%|          | 0/21 [00:00<?, ?it/s]"
      ]
     },
     "metadata": {},
     "output_type": "display_data"
    },
    {
     "data": {
      "application/vnd.jupyter.widget-view+json": {
       "model_id": "e96b84550c54415d94d538cc19caf395",
       "version_major": 2,
       "version_minor": 0
      },
      "text/plain": [
       "Training epoch 2::   0%|          | 0/21 [00:00<?, ?it/s]"
      ]
     },
     "metadata": {},
     "output_type": "display_data"
    },
    {
     "data": {
      "application/vnd.jupyter.widget-view+json": {
       "model_id": "8899d63dda114b4798ce3046be5b8cf6",
       "version_major": 2,
       "version_minor": 0
      },
      "text/plain": [
       "Training epoch 3::   0%|          | 0/21 [00:00<?, ?it/s]"
      ]
     },
     "metadata": {},
     "output_type": "display_data"
    },
    {
     "data": {
      "application/vnd.jupyter.widget-view+json": {
       "model_id": "3e823f76ac4046bcaad1f3f82755f634",
       "version_major": 2,
       "version_minor": 0
      },
      "text/plain": [
       "Training epoch 4::   0%|          | 0/21 [00:00<?, ?it/s]"
      ]
     },
     "metadata": {},
     "output_type": "display_data"
    },
    {
     "data": {
      "application/vnd.jupyter.widget-view+json": {
       "model_id": "77387313b8a144f8828db3c48909e3d9",
       "version_major": 2,
       "version_minor": 0
      },
      "text/plain": [
       "Training epoch 5::   0%|          | 0/21 [00:00<?, ?it/s]"
      ]
     },
     "metadata": {},
     "output_type": "display_data"
    },
    {
     "data": {
      "application/vnd.jupyter.widget-view+json": {
       "model_id": "d14da5cd427a456da0980a43c545f229",
       "version_major": 2,
       "version_minor": 0
      },
      "text/plain": [
       "Training epoch 6::   0%|          | 0/21 [00:00<?, ?it/s]"
      ]
     },
     "metadata": {},
     "output_type": "display_data"
    },
    {
     "data": {
      "application/vnd.jupyter.widget-view+json": {
       "model_id": "9c781fd0c16f4b8bbc16bc81780ce0c9",
       "version_major": 2,
       "version_minor": 0
      },
      "text/plain": [
       "Training epoch 7::   0%|          | 0/21 [00:00<?, ?it/s]"
      ]
     },
     "metadata": {},
     "output_type": "display_data"
    },
    {
     "data": {
      "application/vnd.jupyter.widget-view+json": {
       "model_id": "bd486bda6fd647a8b0d3d0de1cba64c6",
       "version_major": 2,
       "version_minor": 0
      },
      "text/plain": [
       "Training epoch 8::   0%|          | 0/21 [00:00<?, ?it/s]"
      ]
     },
     "metadata": {},
     "output_type": "display_data"
    },
    {
     "data": {
      "application/vnd.jupyter.widget-view+json": {
       "model_id": "1f7fc8cf75d447ad864b7de190f65d43",
       "version_major": 2,
       "version_minor": 0
      },
      "text/plain": [
       "Training epoch 9::   0%|          | 0/21 [00:00<?, ?it/s]"
      ]
     },
     "metadata": {},
     "output_type": "display_data"
    },
    {
     "data": {
      "application/vnd.jupyter.widget-view+json": {
       "model_id": "de4e2a2d2852485b847ae1257868c64a",
       "version_major": 2,
       "version_minor": 0
      },
      "text/plain": [
       "Training epoch 10::   0%|          | 0/21 [00:00<?, ?it/s]"
      ]
     },
     "metadata": {},
     "output_type": "display_data"
    },
    {
     "data": {
      "application/vnd.jupyter.widget-view+json": {
       "model_id": "29ddcc2e05794741a352d1abc4bd5049",
       "version_major": 2,
       "version_minor": 0
      },
      "text/plain": [
       "Training epoch 11::   0%|          | 0/21 [00:00<?, ?it/s]"
      ]
     },
     "metadata": {},
     "output_type": "display_data"
    },
    {
     "data": {
      "application/vnd.jupyter.widget-view+json": {
       "model_id": "bf5fbb889874463ebb0acd439343891c",
       "version_major": 2,
       "version_minor": 0
      },
      "text/plain": [
       "Training epoch 12::   0%|          | 0/21 [00:00<?, ?it/s]"
      ]
     },
     "metadata": {},
     "output_type": "display_data"
    },
    {
     "data": {
      "application/vnd.jupyter.widget-view+json": {
       "model_id": "f589d0681b2b4471bf0ec0046287c508",
       "version_major": 2,
       "version_minor": 0
      },
      "text/plain": [
       "Training epoch 13::   0%|          | 0/21 [00:00<?, ?it/s]"
      ]
     },
     "metadata": {},
     "output_type": "display_data"
    },
    {
     "data": {
      "application/vnd.jupyter.widget-view+json": {
       "model_id": "06199c78386b440aacbc6d254b6d0652",
       "version_major": 2,
       "version_minor": 0
      },
      "text/plain": [
       "Training epoch 14::   0%|          | 0/21 [00:00<?, ?it/s]"
      ]
     },
     "metadata": {},
     "output_type": "display_data"
    },
    {
     "data": {
      "application/vnd.jupyter.widget-view+json": {
       "model_id": "3d421564b2ad42528510038b27191183",
       "version_major": 2,
       "version_minor": 0
      },
      "text/plain": [
       "Training epoch 15::   0%|          | 0/21 [00:00<?, ?it/s]"
      ]
     },
     "metadata": {},
     "output_type": "display_data"
    },
    {
     "data": {
      "application/vnd.jupyter.widget-view+json": {
       "model_id": "bccf20d341c44440b6915b8314632d7a",
       "version_major": 2,
       "version_minor": 0
      },
      "text/plain": [
       "Training epoch 16::   0%|          | 0/21 [00:00<?, ?it/s]"
      ]
     },
     "metadata": {},
     "output_type": "display_data"
    },
    {
     "data": {
      "application/vnd.jupyter.widget-view+json": {
       "model_id": "d1e75cb3b9d749618e39c8b3c4f5c9cd",
       "version_major": 2,
       "version_minor": 0
      },
      "text/plain": [
       "Training epoch 17::   0%|          | 0/21 [00:00<?, ?it/s]"
      ]
     },
     "metadata": {},
     "output_type": "display_data"
    },
    {
     "data": {
      "application/vnd.jupyter.widget-view+json": {
       "model_id": "c552602030ab4d96b45e73c0afc40fd1",
       "version_major": 2,
       "version_minor": 0
      },
      "text/plain": [
       "Training epoch 18::   0%|          | 0/21 [00:00<?, ?it/s]"
      ]
     },
     "metadata": {},
     "output_type": "display_data"
    },
    {
     "data": {
      "application/vnd.jupyter.widget-view+json": {
       "model_id": "b250e5ce527544adb6f39c9ba1a341f4",
       "version_major": 2,
       "version_minor": 0
      },
      "text/plain": [
       "Training epoch 19::   0%|          | 0/21 [00:00<?, ?it/s]"
      ]
     },
     "metadata": {},
     "output_type": "display_data"
    }
   ],
   "source": [
    "num_epoch = 20\n",
    "eval_steps = len(train_dataloader) // 2\n",
    "\n",
    "\n",
    "losses_type = {}\n",
    "acc_type = {}\n",
    "\n",
    "for aggregation_type in ['max']:\n",
    "    print(f\"Starting training for {aggregation_type}\")\n",
    "    losses = []\n",
    "    acc = []\n",
    "\n",
    "    model = CharLM(\n",
    "        hidden_dim=256, vocab_size=len(vocab), aggregation_type=aggregation_type).to(device)\n",
    "    criterion = nn.CrossEntropyLoss(ignore_index=word2ind['<pad>'])\n",
    "    optimizer = torch.optim.Adam(model.parameters())\n",
    "\n",
    "    for epoch in range(num_epoch):\n",
    "        epoch_losses = []\n",
    "        model.train()\n",
    "        for i, batch in enumerate(tqdm(train_dataloader, desc=f'Training epoch {epoch}:')):\n",
    "            optimizer.zero_grad()\n",
    "            logits = model(batch['input_ids'])\n",
    "            loss = criterion(logits, batch['label'])\n",
    "            loss.backward()\n",
    "            optimizer.step()\n",
    "\n",
    "            epoch_losses.append(loss.item())\n",
    "            if i % eval_steps == 0:\n",
    "                model.eval()\n",
    "                acc.append(evaluate(model))\n",
    "                model.train()\n",
    "\n",
    "        losses.append(sum(epoch_losses) / len(epoch_losses))\n",
    "\n",
    "    losses_type[aggregation_type] = losses\n",
    "    acc_type[aggregation_type] = acc"
   ]
  },
  {
   "cell_type": "code",
   "execution_count": 113,
   "metadata": {
    "colab": {
     "base_uri": "https://localhost:8080/",
     "height": 301
    },
    "id": "NLbm0RZZ-tqe",
    "outputId": "dcf70eab-b757-4702-90a2-b1af5f5c1abf"
   },
   "outputs": [
    {
     "data": {
      "image/png": "[encoded data removed]",
      "text/plain": [
       "<Figure size 640x480 with 1 Axes>"
      ]
     },
     "metadata": {},
     "output_type": "display_data"
    }
   ],
   "source": [
    "for (name, values), color in zip(losses_type.items(), ['red', 'blue']):\n",
    "    plt.plot(np.arange(len(losses_type[name])), losses_type[name], color=color, label=name)\n",
    "\n",
    "plt.title('Losses')\n",
    "plt.xlabel(\"epoch\")\n",
    "plt.legend()\n",
    "plt.show()"
   ]
  },
  {
   "cell_type": "code",
   "execution_count": 114,
   "metadata": {
    "colab": {
     "base_uri": "https://localhost:8080/",
     "height": 336
    },
    "id": "2RENKFrH-Ppw",
    "outputId": "8870cb4d-62ec-44ad-d994-70bb8f9228d1"
   },
   "outputs": [
    {
     "name": "stdout",
     "output_type": "stream",
     "text": [
      "Лучшая accuracy для подхода max: 73.81\n"
     ]
    },
    {
     "data": {
      "image/png": "[encoded data removed]",
      "text/plain": [
       "<Figure size 640x480 with 1 Axes>"
      ]
     },
     "metadata": {},
     "output_type": "display_data"
    }
   ],
   "source": [
    "for (name, values), color in zip(losses_type.items(), ['red', 'blue']):\n",
    "    plt.plot(np.arange(len(acc_type[name][1:])), acc_type[name][1:], color=color, label=name)\n",
    "    print(f\"Лучшая accuracy для подхода {name}: {(max(acc_type[name]) * 100):.2f}\")\n",
    "\n",
    "plt.title('Accuracy')\n",
    "plt.xlabel(\"epoch\")\n",
    "plt.legend()\n",
    "plt.show()"
   ]
  },
  {
   "cell_type": "code",
   "execution_count": null,
   "metadata": {},
   "outputs": [],
   "source": []
  },
  {
   "cell_type": "code",
   "execution_count": null,
   "metadata": {},
   "outputs": [],
   "source": []
  },
  {
   "cell_type": "code",
   "execution_count": null,
   "metadata": {},
   "outputs": [],
   "source": []
  }
 ],
 "metadata": {
  "accelerator": "GPU",
  "colab": {
   "provenance": []
  },
  "gpuClass": "standard",
  "kernelspec": {
   "display_name": "Python (base)",
   "language": "python",
   "name": "base"
  },
  "language_info": {
   "codemirror_mode": {
    "name": "ipython",
    "version": 3
   },
   "file_extension": ".py",
   "mimetype": "text/x-python",
   "name": "python",
   "nbconvert_exporter": "python",
   "pygments_lexer": "ipython3",
   "version": "3.10.15"
  },
  "widgets": {
   "application/vnd.jupyter.widget-state+json": {
    "state": {
     "00aacc48557e40d5ac8aaa9140aff2f5": {
      "model_module": "@jupyter-widgets/base",
      "model_module_version": "2.0.0",
      "model_name": "LayoutModel",
      "state": {}
     },
     "0166fe84104e46bdae3f2bfba6c37e0f": {
      "model_module": "@jupyter-widgets/controls",
      "model_module_version": "2.0.0",
      "model_name": "FloatProgressModel",
      "state": {
       "bar_style": "success",
       "layout": "IPY_MODEL_43b93c78aeab442b99388e1ae141d41d",
       "max": 21,
       "style": "IPY_MODEL_a371ecc30d824b6eaaa45b05cc3e4585",
       "value": 21
      }
     },
     "025fa403fb3a488e821fd43925af4600": {
      "model_module": "@jupyter-widgets/controls",
      "model_module_version": "2.0.0",
      "model_name": "HTMLModel",
      "state": {
       "layout": "IPY_MODEL_39590e51d1bc4244a694c2f6c9e1f255",
       "style": "IPY_MODEL_4b9f50160fe14afb90ef03ccd2e4ceef",
       "value": "Training epoch 0::   0%"
      }
     },
     "028d5529d74a4f72ab7821f0b8392535": {
      "model_module": "@jupyter-widgets/controls",
      "model_module_version": "2.0.0",
      "model_name": "HTMLModel",
      "state": {
       "layout": "IPY_MODEL_cf00198399ed431e9d49d49b05d88cff",
       "style": "IPY_MODEL_04757ee8600641bf9afa42892d29f6f8",
       "value": " 21/21 [00:00&lt;00:00, 46.09it/s]"
      }
     },
     "02fe872b4ef44ea1be7f7c0fccf210be": {
      "model_module": "@jupyter-widgets/controls",
      "model_module_version": "2.0.0",
      "model_name": "HTMLModel",
      "state": {
       "layout": "IPY_MODEL_713a1529d2744c5f890921178b48c3ca",
       "style": "IPY_MODEL_67781bba8b7f47d4836cfb16d3e122dc",
       "value": "Training epoch 8:: 100%"
      }
     },
     "0325f54f5e8f41fbb576e7e72387be2a": {
      "model_module": "@jupyter-widgets/base",
      "model_module_version": "2.0.0",
      "model_name": "LayoutModel",
      "state": {}
     },
     "03ae64b8425148158e45dbd98fbbb91e": {
      "model_module": "@jupyter-widgets/base",
      "model_module_version": "2.0.0",
      "model_name": "LayoutModel",
      "state": {}
     },
     "04757ee8600641bf9afa42892d29f6f8": {
      "model_module": "@jupyter-widgets/controls",
      "model_module_version": "2.0.0",
      "model_name": "HTMLStyleModel",
      "state": {
       "description_width": "",
       "font_size": null,
       "text_color": null
      }
     },
     "05b29efb494d4b49878f4a36b70adb98": {
      "model_module": "@jupyter-widgets/controls",
      "model_module_version": "2.0.0",
      "model_name": "FloatProgressModel",
      "state": {
       "bar_style": "success",
       "layout": "IPY_MODEL_22554c93aef140cb8cedf5cabfdaf057",
       "max": 21,
       "style": "IPY_MODEL_ef44ce0e124641f2806259b2311e3265",
       "value": 21
      }
     },
     "06199c78386b440aacbc6d254b6d0652": {
      "model_module": "@jupyter-widgets/controls",
      "model_module_version": "2.0.0",
      "model_name": "HBoxModel",
      "state": {
       "children": [
        "IPY_MODEL_efbaf07def454109b34501c200a60dc6",
        "IPY_MODEL_05b29efb494d4b49878f4a36b70adb98",
        "IPY_MODEL_6290ecbeaf0c47b1947f6f745a78b360"
       ],
       "layout": "IPY_MODEL_47a436a5f66c49e1ad275fa88aabd225"
      }
     },
     "07eb5b73ff494baf97a6a89d5dbe668f": {
      "model_module": "@jupyter-widgets/base",
      "model_module_version": "2.0.0",
      "model_name": "LayoutModel",
      "state": {}
     },
     "08aee562ec8e4855ac6b092814efa03f": {
      "model_module": "@jupyter-widgets/controls",
      "model_module_version": "2.0.0",
      "model_name": "HBoxModel",
      "state": {
       "children": [
        "IPY_MODEL_025fa403fb3a488e821fd43925af4600",
        "IPY_MODEL_bec668d2613f473e9eb354c1213d3962",
        "IPY_MODEL_b231feaed5d14d068eec3d800e97ac08"
       ],
       "layout": "IPY_MODEL_0ef9bf67d75142acaf9d162a5570b367"
      }
     },
     "08b6ced6f7244979b42c39e0a5e76331": {
      "model_module": "@jupyter-widgets/base",
      "model_module_version": "2.0.0",
      "model_name": "LayoutModel",
      "state": {}
     },
     "08cd344577384697adf7fa7b37b2e542": {
      "model_module": "@jupyter-widgets/controls",
      "model_module_version": "2.0.0",
      "model_name": "FloatProgressModel",
      "state": {
       "bar_style": "success",
       "layout": "IPY_MODEL_869d30c98deb476099bd03e781af6a9e",
       "max": 210,
       "style": "IPY_MODEL_c39306d0c1ad4ceba86184a80ae227a0",
       "value": 210
      }
     },
     "093b92a99b054a33b586a312be628a33": {
      "model_module": "@jupyter-widgets/controls",
      "model_module_version": "2.0.0",
      "model_name": "HTMLModel",
      "state": {
       "layout": "IPY_MODEL_77ec2597dcfa466db2f0ed9e5b5001e5",
       "style": "IPY_MODEL_6c7aaac7496e477892800225e5fb87de",
       "value": "100%"
      }
     },
     "09fbd135fd64486185805c6050240668": {
      "model_module": "@jupyter-widgets/base",
      "model_module_version": "2.0.0",
      "model_name": "LayoutModel",
      "state": {}
     },
     "0a6f688006a5463a879c5238e162388a": {
      "model_module": "@jupyter-widgets/base",
      "model_module_version": "2.0.0",
      "model_name": "LayoutModel",
      "state": {}
     },
     "0a871ba3a6504066ae4b76f544160fa7": {
      "model_module": "@jupyter-widgets/base",
      "model_module_version": "2.0.0",
      "model_name": "LayoutModel",
      "state": {}
     },
     "0bd29158e83c4109b124fb876569a7cb": {
      "model_module": "@jupyter-widgets/controls",
      "model_module_version": "2.0.0",
      "model_name": "FloatProgressModel",
      "state": {
       "bar_style": "success",
       "layout": "IPY_MODEL_e738c024dfff42d99e33d630f05d28a0",
       "max": 21,
       "style": "IPY_MODEL_8b514c439cfd4ae3a1b1b24fda9e9236",
       "value": 21
      }
     },
     "0c70347f1ddd4fcb871faadd8b235a51": {
      "model_module": "@jupyter-widgets/base",
      "model_module_version": "2.0.0",
      "model_name": "LayoutModel",
      "state": {}
     },
     "0ca4267366e0457893324e00266b45c4": {
      "model_module": "@jupyter-widgets/controls",
      "model_module_version": "2.0.0",
      "model_name": "HTMLModel",
      "state": {
       "layout": "IPY_MODEL_3233c713c77e49c298002d8d7d7a6682",
       "style": "IPY_MODEL_d835be99f3c2491589db49e080a5921a",
       "value": " 21/21 [00:00&lt;00:00, 106.04it/s]"
      }
     },
     "0cd0e5900488485581f58b1a1142a876": {
      "model_module": "@jupyter-widgets/controls",
      "model_module_version": "2.0.0",
      "model_name": "HTMLModel",
      "state": {
       "layout": "IPY_MODEL_5679cf624995431a85fbdb03ffc29ead",
       "style": "IPY_MODEL_2bce519539274060a94704e194d71836",
       "value": "Training epoch 2:: 100%"
      }
     },
     "0d7cc5e952c34d5cb7512c7369a8ee2a": {
      "model_module": "@jupyter-widgets/base",
      "model_module_version": "2.0.0",
      "model_name": "LayoutModel",
      "state": {}
     },
     "0e1823873a9445689a09c09d29c7685f": {
      "model_module": "@jupyter-widgets/controls",
      "model_module_version": "2.0.0",
      "model_name": "HTMLStyleModel",
      "state": {
       "description_width": "",
       "font_size": null,
       "text_color": null
      }
     },
     "0e1f71725c0f43c1ab25fe42367ee17b": {
      "model_module": "@jupyter-widgets/base",
      "model_module_version": "2.0.0",
      "model_name": "LayoutModel",
      "state": {}
     },
     "0e96bf7d5e3947b3900312328762ab17": {
      "model_module": "@jupyter-widgets/controls",
      "model_module_version": "2.0.0",
      "model_name": "ProgressStyleModel",
      "state": {
       "description_width": ""
      }
     },
     "0ea9d32bd23f4c648266b48e3176c77e": {
      "model_module": "@jupyter-widgets/controls",
      "model_module_version": "2.0.0",
      "model_name": "HTMLStyleModel",
      "state": {
       "description_width": "",
       "font_size": null,
       "text_color": null
      }
     },
     "0eba4b68f9534635a178a1cfd40e13df": {
      "model_module": "@jupyter-widgets/base",
      "model_module_version": "2.0.0",
      "model_name": "LayoutModel",
      "state": {}
     },
     "0ef9bf67d75142acaf9d162a5570b367": {
      "model_module": "@jupyter-widgets/base",
      "model_module_version": "2.0.0",
      "model_name": "LayoutModel",
      "state": {}
     },
     "0ff915d8a3b54908bc0ee5f30b7720f3": {
      "model_module": "@jupyter-widgets/base",
      "model_module_version": "2.0.0",
      "model_name": "LayoutModel",
      "state": {}
     },
     "1161c2dd880748e094a86509541e734f": {
      "model_module": "@jupyter-widgets/controls",
      "model_module_version": "2.0.0",
      "model_name": "ProgressStyleModel",
      "state": {
       "description_width": ""
      }
     },
     "117d84861c604938955c695080e627b8": {
      "model_module": "@jupyter-widgets/base",
      "model_module_version": "2.0.0",
      "model_name": "LayoutModel",
      "state": {}
     },
     "127a9931fbd74504a3a1c5805fc4e6f6": {
      "model_module": "@jupyter-widgets/controls",
      "model_module_version": "2.0.0",
      "model_name": "HTMLStyleModel",
      "state": {
       "description_width": "",
       "font_size": null,
       "text_color": null
      }
     },
     "127b747875d945678711c50237209087": {
      "model_module": "@jupyter-widgets/controls",
      "model_module_version": "2.0.0",
      "model_name": "HTMLModel",
      "state": {
       "layout": "IPY_MODEL_a0fa895d054c407c847aad281c913ac9",
       "style": "IPY_MODEL_cb63faabc14a4f4b93eafaed1c53c014",
       "value": "Training epoch 2:: 100%"
      }
     },
     "12e74a8dafd4439aa185c76ecd3b7669": {
      "model_module": "@jupyter-widgets/base",
      "model_module_version": "2.0.0",
      "model_name": "LayoutModel",
      "state": {}
     },
     "13189821dd894aefbbfcbbb1aff9d635": {
      "model_module": "@jupyter-widgets/base",
      "model_module_version": "2.0.0",
      "model_name": "LayoutModel",
      "state": {}
     },
     "13d4c72a287d4efdb17ef65501e3d845": {
      "model_module": "@jupyter-widgets/base",
      "model_module_version": "2.0.0",
      "model_name": "LayoutModel",
      "state": {}
     },
     "16ee73fde5a742cd88fff5e36819c968": {
      "model_module": "@jupyter-widgets/controls",
      "model_module_version": "2.0.0",
      "model_name": "HTMLStyleModel",
      "state": {
       "description_width": "",
       "font_size": null,
       "text_color": null
      }
     },
     "18078102cd9d4c4488d71c2bab1358f3": {
      "model_module": "@jupyter-widgets/controls",
      "model_module_version": "2.0.0",
      "model_name": "HTMLModel",
      "state": {
       "layout": "IPY_MODEL_0e1f71725c0f43c1ab25fe42367ee17b",
       "style": "IPY_MODEL_c56d313df8bb47ac978669b2cca0cd86",
       "value": "Training epoch 0::   0%"
      }
     },
     "1841247738dd4345a876982d4304e25c": {
      "model_module": "@jupyter-widgets/base",
      "model_module_version": "2.0.0",
      "model_name": "LayoutModel",
      "state": {}
     },
     "196d71a02d434c528e5241179ba2ecc9": {
      "model_module": "@jupyter-widgets/controls",
      "model_module_version": "2.0.0",
      "model_name": "FloatProgressModel",
      "state": {
       "bar_style": "success",
       "layout": "IPY_MODEL_97293287a9564105b8460db9b40fdace",
       "max": 21,
       "style": "IPY_MODEL_f07ae11f52a3479ab2b3a9954969f103",
       "value": 21
      }
     },
     "19ab54bfda9a4082a1610e014a40bacf": {
      "model_module": "@jupyter-widgets/controls",
      "model_module_version": "2.0.0",
      "model_name": "FloatProgressModel",
      "state": {
       "bar_style": "success",
       "layout": "IPY_MODEL_91eb9445cb664388bdb98e4de77698c5",
       "max": 21,
       "style": "IPY_MODEL_d13fd6a03f664d97b706a6ce61f83602",
       "value": 21
      }
     },
     "19dae5a661b34b6495ee51643afc817d": {
      "model_module": "@jupyter-widgets/base",
      "model_module_version": "2.0.0",
      "model_name": "LayoutModel",
      "state": {}
     },
     "1a1fad907e984509b81c34ea66201eef": {
      "model_module": "@jupyter-widgets/controls",
      "model_module_version": "2.0.0",
      "model_name": "FloatProgressModel",
      "state": {
       "bar_style": "success",
       "layout": "IPY_MODEL_c4583f84e1e74e0fb61550e939cefc07",
       "max": 21,
       "style": "IPY_MODEL_3d247c5d02b44e9a841fcf7f7260cf48",
       "value": 21
      }
     },
     "1aba1ffa0b124711bada25e22b5e1ba4": {
      "model_module": "@jupyter-widgets/controls",
      "model_module_version": "2.0.0",
      "model_name": "HTMLStyleModel",
      "state": {
       "description_width": "",
       "font_size": null,
       "text_color": null
      }
     },
     "1b1536e48ed34429b34200e37782337a": {
      "model_module": "@jupyter-widgets/controls",
      "model_module_version": "2.0.0",
      "model_name": "HBoxModel",
      "state": {
       "children": [
        "IPY_MODEL_34bda8eb58614eb8a7f218ea35406f4c",
        "IPY_MODEL_0166fe84104e46bdae3f2bfba6c37e0f",
        "IPY_MODEL_6333ad0866ed4bed89bd1fe37de54b84"
       ],
       "layout": "IPY_MODEL_64bbbb0772f94e82984718967b37a3de"
      }
     },
     "1b2ec15b16594760954f1e9de67a22d4": {
      "model_module": "@jupyter-widgets/controls",
      "model_module_version": "2.0.0",
      "model_name": "HBoxModel",
      "state": {
       "children": [
        "IPY_MODEL_e31166e17e6a4479a6d17d853b5b39cd",
        "IPY_MODEL_fb6777e39d914baba83f22e11fa9df0d",
        "IPY_MODEL_2ff66d28404a4af38e54611beb5f1d78"
       ],
       "layout": "IPY_MODEL_6824e09877f34aa0adde40d30e073813"
      }
     },
     "1b3547c54ac64856a88a7d3f9237c6d3": {
      "model_module": "@jupyter-widgets/base",
      "model_module_version": "2.0.0",
      "model_name": "LayoutModel",
      "state": {}
     },
     "1b3e8b4d635a4b27a0a9a0e695afe6ea": {
      "model_module": "@jupyter-widgets/base",
      "model_module_version": "2.0.0",
      "model_name": "LayoutModel",
      "state": {}
     },
     "1b6ce729de27459a85533fdb13419eda": {
      "model_module": "@jupyter-widgets/controls",
      "model_module_version": "2.0.0",
      "model_name": "HTMLModel",
      "state": {
       "layout": "IPY_MODEL_1841247738dd4345a876982d4304e25c",
       "style": "IPY_MODEL_a0a911ae80d14567b47abc94a4a9b6ec",
       "value": " 21/21 [00:01&lt;00:00, 31.68it/s]"
      }
     },
     "1b96941c2e4d4443ad28e8d5b7b58f1d": {
      "model_module": "@jupyter-widgets/controls",
      "model_module_version": "2.0.0",
      "model_name": "HTMLStyleModel",
      "state": {
       "description_width": "",
       "font_size": null,
       "text_color": null
      }
     },
     "1ba40c1ea38d46d39fff038aeaefce78": {
      "model_module": "@jupyter-widgets/controls",
      "model_module_version": "2.0.0",
      "model_name": "FloatProgressModel",
      "state": {
       "bar_style": "success",
       "layout": "IPY_MODEL_09fbd135fd64486185805c6050240668",
       "max": 21,
       "style": "IPY_MODEL_7b022942a50e4e6cb8aa946455f4c434",
       "value": 21
      }
     },
     "1ba5a9f5af4b48d3a2c05fff37f5a835": {
      "model_module": "@jupyter-widgets/controls",
      "model_module_version": "2.0.0",
      "model_name": "ProgressStyleModel",
      "state": {
       "description_width": ""
      }
     },
     "1c772c08e42e4a608e28f9d8177d51c0": {
      "model_module": "@jupyter-widgets/base",
      "model_module_version": "2.0.0",
      "model_name": "LayoutModel",
      "state": {}
     },
     "1cfe1b823bda4e278dfc84d45e745857": {
      "model_module": "@jupyter-widgets/controls",
      "model_module_version": "2.0.0",
      "model_name": "FloatProgressModel",
      "state": {
       "bar_style": "success",
       "layout": "IPY_MODEL_86697ddf7f494264b5cb30ab83f5a941",
       "max": 21,
       "style": "IPY_MODEL_35772eb0a0ff4e98b02ccca9dbdc2156",
       "value": 21
      }
     },
     "1e399e9e80c24b09b73cc19aa24f9bd4": {
      "model_module": "@jupyter-widgets/controls",
      "model_module_version": "2.0.0",
      "model_name": "HTMLModel",
      "state": {
       "layout": "IPY_MODEL_bf7ba24080514a37a359b7db1bf9723c",
       "style": "IPY_MODEL_38fb1e4d39134655943e5ab57d1e131e",
       "value": " 21/21 [00:00&lt;00:00, 73.50it/s]"
      }
     },
     "1e4ca6dbd9c04c46b0a7697dc151151d": {
      "model_module": "@jupyter-widgets/base",
      "model_module_version": "2.0.0",
      "model_name": "LayoutModel",
      "state": {}
     },
     "1ef2fb35bb0d4dcfa587ab805ac760ab": {
      "model_module": "@jupyter-widgets/base",
      "model_module_version": "2.0.0",
      "model_name": "LayoutModel",
      "state": {}
     },
     "1efbbb6fed724085a869008d55be248c": {
      "model_module": "@jupyter-widgets/controls",
      "model_module_version": "2.0.0",
      "model_name": "ProgressStyleModel",
      "state": {
       "description_width": ""
      }
     },
     "1f7fc8cf75d447ad864b7de190f65d43": {
      "model_module": "@jupyter-widgets/controls",
      "model_module_version": "2.0.0",
      "model_name": "HBoxModel",
      "state": {
       "children": [
        "IPY_MODEL_dae87a86abbf438f913ad24b3af9afc2",
        "IPY_MODEL_975e943fe4fc407db4033e9ee726d398",
        "IPY_MODEL_65e105785ddf4941b2dfebd7e9351ff9"
       ],
       "layout": "IPY_MODEL_a14d3329b32d45e6b896e49a098bb29d"
      }
     },
     "20cc244fb93844a4863622b0e1fb64ab": {
      "model_module": "@jupyter-widgets/controls",
      "model_module_version": "2.0.0",
      "model_name": "HTMLStyleModel",
      "state": {
       "description_width": "",
       "font_size": null,
       "text_color": null
      }
     },
     "22554c93aef140cb8cedf5cabfdaf057": {
      "model_module": "@jupyter-widgets/base",
      "model_module_version": "2.0.0",
      "model_name": "LayoutModel",
      "state": {}
     },
     "233993e79ad447d2b50a5b206ac61cb1": {
      "model_module": "@jupyter-widgets/controls",
      "model_module_version": "2.0.0",
      "model_name": "ProgressStyleModel",
      "state": {
       "description_width": ""
      }
     },
     "23a1df5ed6ad4328a193b29f85745a0d": {
      "model_module": "@jupyter-widgets/base",
      "model_module_version": "2.0.0",
      "model_name": "LayoutModel",
      "state": {}
     },
     "2719d80d8b14453ab3a79153fc3916d5": {
      "model_module": "@jupyter-widgets/controls",
      "model_module_version": "2.0.0",
      "model_name": "HTMLModel",
      "state": {
       "layout": "IPY_MODEL_7a08d0503a2141a1b3944c9b88e5aa4d",
       "style": "IPY_MODEL_734600ddd6ef4487a1b74eb65c225eb7",
       "value": "100%"
      }
     },
     "280d3c7bc85f47998fd6822981abd24d": {
      "model_module": "@jupyter-widgets/controls",
      "model_module_version": "2.0.0",
      "model_name": "HTMLModel",
      "state": {
       "layout": "IPY_MODEL_a96818e4b75d4c3fa3949ba60d791954",
       "style": "IPY_MODEL_74448ff3fabb47b0b839bbeed257c3e3",
       "value": " 21/21 [00:00&lt;00:00, 94.70it/s]"
      }
     },
     "28823ab8291843b983a43addc2f9d056": {
      "model_module": "@jupyter-widgets/controls",
      "model_module_version": "2.0.0",
      "model_name": "HTMLStyleModel",
      "state": {
       "description_width": "",
       "font_size": null,
       "text_color": null
      }
     },
     "288a801348c441a5ada518172f2c55cf": {
      "model_module": "@jupyter-widgets/controls",
      "model_module_version": "2.0.0",
      "model_name": "ProgressStyleModel",
      "state": {
       "description_width": ""
      }
     },
     "29095c32a0d548d6aae35943101a3cbb": {
      "model_module": "@jupyter-widgets/controls",
      "model_module_version": "2.0.0",
      "model_name": "HTMLStyleModel",
      "state": {
       "description_width": "",
       "font_size": null,
       "text_color": null
      }
     },
     "29ddcc2e05794741a352d1abc4bd5049": {
      "model_module": "@jupyter-widgets/controls",
      "model_module_version": "2.0.0",
      "model_name": "HBoxModel",
      "state": {
       "children": [
        "IPY_MODEL_7908b760ccdd4d648b67e1780465d9ec",
        "IPY_MODEL_1cfe1b823bda4e278dfc84d45e745857",
        "IPY_MODEL_c07f9a7119f3401fb64a2e7bf8ab2a7e"
       ],
       "layout": "IPY_MODEL_d41deed559f84510b90559ffbce5dabe"
      }
     },
     "2a034e00b6fb4af7aa0679689248eab9": {
      "model_module": "@jupyter-widgets/base",
      "model_module_version": "2.0.0",
      "model_name": "LayoutModel",
      "state": {}
     },
     "2a11eeac84994b929da0a5d9ceba7c0e": {
      "model_module": "@jupyter-widgets/controls",
      "model_module_version": "2.0.0",
      "model_name": "HTMLModel",
      "state": {
       "layout": "IPY_MODEL_962afc87727b4c42b89ced5cbed3d765",
       "style": "IPY_MODEL_fd354b069dc74f0fb3001fc9f1f514c8",
       "value": "Training epoch 13:: 100%"
      }
     },
     "2a4137ee44254769ba99049b583679c1": {
      "model_module": "@jupyter-widgets/controls",
      "model_module_version": "2.0.0",
      "model_name": "ProgressStyleModel",
      "state": {
       "description_width": ""
      }
     },
     "2b37cabc05c84a9095b3c14cd5fc97ad": {
      "model_module": "@jupyter-widgets/controls",
      "model_module_version": "2.0.0",
      "model_name": "FloatProgressModel",
      "state": {
       "bar_style": "danger",
       "layout": "IPY_MODEL_12e74a8dafd4439aa185c76ecd3b7669",
       "max": 21,
       "style": "IPY_MODEL_3cc9d6eb9d9a48ffa605ca51655e1759"
      }
     },
     "2bc087b7dc1a4fa189e152a689450573": {
      "model_module": "@jupyter-widgets/controls",
      "model_module_version": "2.0.0",
      "model_name": "HTMLStyleModel",
      "state": {
       "description_width": "",
       "font_size": null,
       "text_color": null
      }
     },
     "2bc78614cdca41058215cc10c3e44ca1": {
      "model_module": "@jupyter-widgets/controls",
      "model_module_version": "2.0.0",
      "model_name": "ProgressStyleModel",
      "state": {
       "description_width": ""
      }
     },
     "2bce519539274060a94704e194d71836": {
      "model_module": "@jupyter-widgets/controls",
      "model_module_version": "2.0.0",
      "model_name": "HTMLStyleModel",
      "state": {
       "description_width": "",
       "font_size": null,
       "text_color": null
      }
     },
     "2d3dad647de747f7827fd735f40210df": {
      "model_module": "@jupyter-widgets/controls",
      "model_module_version": "2.0.0",
      "model_name": "ProgressStyleModel",
      "state": {
       "description_width": ""
      }
     },
     "2d43a7e74fb2447f97293e32c4d3d2e1": {
      "model_module": "@jupyter-widgets/controls",
      "model_module_version": "2.0.0",
      "model_name": "FloatProgressModel",
      "state": {
       "bar_style": "success",
       "layout": "IPY_MODEL_9623eefcdb4d4f1085d93f7855f74a75",
       "max": 21,
       "style": "IPY_MODEL_aaafe17abd954837a13a6d53f963ebaa",
       "value": 21
      }
     },
     "2da286005aaf4368a942e3f9f596de50": {
      "model_module": "@jupyter-widgets/controls",
      "model_module_version": "2.0.0",
      "model_name": "HTMLModel",
      "state": {
       "layout": "IPY_MODEL_8a6891b2b665443d9c932d980acdd26d",
       "style": "IPY_MODEL_c22e6676ba2e4ac0b601bbf6d760e25f",
       "value": " 0/21 [00:00&lt;?, ?it/s]"
      }
     },
     "2dd6b17bad6547128d0d1070596c4bdb": {
      "model_module": "@jupyter-widgets/controls",
      "model_module_version": "2.0.0",
      "model_name": "HTMLModel",
      "state": {
       "layout": "IPY_MODEL_1b3e8b4d635a4b27a0a9a0e695afe6ea",
       "style": "IPY_MODEL_4dc58c9a28c9494abc22748f0616681f",
       "value": "Training epoch 0:: 100%"
      }
     },
     "2e276fd6f41c4a60a6faa90b1e2400e9": {
      "model_module": "@jupyter-widgets/base",
      "model_module_version": "2.0.0",
      "model_name": "LayoutModel",
      "state": {}
     },
     "2e5c6db9ebbb46acb1ee6b50e67f8afa": {
      "model_module": "@jupyter-widgets/controls",
      "model_module_version": "2.0.0",
      "model_name": "ProgressStyleModel",
      "state": {
       "description_width": ""
      }
     },
     "2f1cda65b8174a178dd80f32563a2b9d": {
      "model_module": "@jupyter-widgets/controls",
      "model_module_version": "2.0.0",
      "model_name": "HTMLModel",
      "state": {
       "layout": "IPY_MODEL_d917d25a1f9d40f0aad94b1f2b24d92c",
       "style": "IPY_MODEL_857a06783a8c4bf2865722ea6f690899",
       "value": " 21/21 [00:00&lt;00:00, 71.05it/s]"
      }
     },
     "2ff66d28404a4af38e54611beb5f1d78": {
      "model_module": "@jupyter-widgets/controls",
      "model_module_version": "2.0.0",
      "model_name": "HTMLModel",
      "state": {
       "layout": "IPY_MODEL_679f74f566264886b440bcdc1fc2bc50",
       "style": "IPY_MODEL_f0088729a2de44c284d5570f7417ac89",
       "value": " 0/21 [00:00&lt;?, ?it/s]"
      }
     },
     "30c24579d41a48638bde4654c198fedb": {
      "model_module": "@jupyter-widgets/base",
      "model_module_version": "2.0.0",
      "model_name": "LayoutModel",
      "state": {}
     },
     "30e11891483f4e15a6c1b2674bac2411": {
      "model_module": "@jupyter-widgets/controls",
      "model_module_version": "2.0.0",
      "model_name": "HTMLModel",
      "state": {
       "layout": "IPY_MODEL_5b33d15efbc04c6fab95800ce5be4dfd",
       "style": "IPY_MODEL_f334e1d3e74d4996a49eae525926671d",
       "value": "Training epoch 2:: 100%"
      }
     },
     "31ae936ce3d447c18cb966e436f348c1": {
      "model_module": "@jupyter-widgets/controls",
      "model_module_version": "2.0.0",
      "model_name": "HTMLModel",
      "state": {
       "layout": "IPY_MODEL_6621616dd6444914b7770362d1a1f909",
       "style": "IPY_MODEL_690317105b774a048fa5862428645b98",
       "value": "Training epoch 4:: 100%"
      }
     },
     "31b9c35ef4c64522a9379ff2cc0403b1": {
      "model_module": "@jupyter-widgets/controls",
      "model_module_version": "2.0.0",
      "model_name": "HTMLModel",
      "state": {
       "layout": "IPY_MODEL_f942ac88e7414cebb6e0c143ace3bc58",
       "style": "IPY_MODEL_34a389f53d9349d2917c4763e52e71e7",
       "value": " 0/21 [00:00&lt;?, ?it/s]"
      }
     },
     "31d39703807b4d709187ac8d17ae0f06": {
      "model_module": "@jupyter-widgets/controls",
      "model_module_version": "2.0.0",
      "model_name": "HTMLModel",
      "state": {
       "layout": "IPY_MODEL_e872012a1a48406a93c0e0e9edca3002",
       "style": "IPY_MODEL_fdc916ec35d84856823dd23f424d0775",
       "value": " 210/210 [00:00&lt;00:00, 1776.83it/s]"
      }
     },
     "3233c713c77e49c298002d8d7d7a6682": {
      "model_module": "@jupyter-widgets/base",
      "model_module_version": "2.0.0",
      "model_name": "LayoutModel",
      "state": {}
     },
     "331ed876df2b4e2fa5aa3815619c87dd": {
      "model_module": "@jupyter-widgets/base",
      "model_module_version": "2.0.0",
      "model_name": "LayoutModel",
      "state": {}
     },
     "33ab56d614324a07a3787ff3b77b3aa1": {
      "model_module": "@jupyter-widgets/base",
      "model_module_version": "2.0.0",
      "model_name": "LayoutModel",
      "state": {}
     },
     "34045988448144c387e264a7d3b4f568": {
      "model_module": "@jupyter-widgets/base",
      "model_module_version": "2.0.0",
      "model_name": "LayoutModel",
      "state": {}
     },
     "34a389f53d9349d2917c4763e52e71e7": {
      "model_module": "@jupyter-widgets/controls",
      "model_module_version": "2.0.0",
      "model_name": "HTMLStyleModel",
      "state": {
       "description_width": "",
       "font_size": null,
       "text_color": null
      }
     },
     "34bda8eb58614eb8a7f218ea35406f4c": {
      "model_module": "@jupyter-widgets/controls",
      "model_module_version": "2.0.0",
      "model_name": "HTMLModel",
      "state": {
       "layout": "IPY_MODEL_428e6d17ce0946f1bb3c7c0ac0afd889",
       "style": "IPY_MODEL_eaf0bf49513c42259465c744e4badbcd",
       "value": "Training epoch 3:: 100%"
      }
     },
     "34f55e33be5545d49706249338a37e24": {
      "model_module": "@jupyter-widgets/controls",
      "model_module_version": "2.0.0",
      "model_name": "HTMLStyleModel",
      "state": {
       "description_width": "",
       "font_size": null,
       "text_color": null
      }
     },
     "34f61abc9bd74d9e8f51848b55ce0ca1": {
      "model_module": "@jupyter-widgets/controls",
      "model_module_version": "2.0.0",
      "model_name": "ProgressStyleModel",
      "state": {
       "description_width": ""
      }
     },
     "350a381a0cb049d3ac4628288de3cc9e": {
      "model_module": "@jupyter-widgets/base",
      "model_module_version": "2.0.0",
      "model_name": "LayoutModel",
      "state": {}
     },
     "35772eb0a0ff4e98b02ccca9dbdc2156": {
      "model_module": "@jupyter-widgets/controls",
      "model_module_version": "2.0.0",
      "model_name": "ProgressStyleModel",
      "state": {
       "description_width": ""
      }
     },
     "363f0a5e8fe24cfdb791d68a69bb77c5": {
      "model_module": "@jupyter-widgets/base",
      "model_module_version": "2.0.0",
      "model_name": "LayoutModel",
      "state": {}
     },
     "363fe97788c8457bb4402a2b149b4f4f": {
      "model_module": "@jupyter-widgets/controls",
      "model_module_version": "2.0.0",
      "model_name": "HTMLStyleModel",
      "state": {
       "description_width": "",
       "font_size": null,
       "text_color": null
      }
     },
     "3670ef600f8c4c16baaebaefebc920f5": {
      "model_module": "@jupyter-widgets/controls",
      "model_module_version": "2.0.0",
      "model_name": "FloatProgressModel",
      "state": {
       "bar_style": "success",
       "layout": "IPY_MODEL_30c24579d41a48638bde4654c198fedb",
       "max": 210,
       "style": "IPY_MODEL_5fb7553a0de1473fbc60e4ef4634f89f",
       "value": 210
      }
     },
     "3798b2df4d3d44e1a21c87bb9e17f6de": {
      "model_module": "@jupyter-widgets/controls",
      "model_module_version": "2.0.0",
      "model_name": "HTMLStyleModel",
      "state": {
       "description_width": "",
       "font_size": null,
       "text_color": null
      }
     },
     "38e2fb4c455a40f484deb549bcdb86ae": {
      "model_module": "@jupyter-widgets/controls",
      "model_module_version": "2.0.0",
      "model_name": "ProgressStyleModel",
      "state": {
       "description_width": ""
      }
     },
     "38fb1e4d39134655943e5ab57d1e131e": {
      "model_module": "@jupyter-widgets/controls",
      "model_module_version": "2.0.0",
      "model_name": "HTMLStyleModel",
      "state": {
       "description_width": "",
       "font_size": null,
       "text_color": null
      }
     },
     "393651a7ad8342a09c0e73badec1417a": {
      "model_module": "@jupyter-widgets/base",
      "model_module_version": "2.0.0",
      "model_name": "LayoutModel",
      "state": {}
     },
     "39444a9aad2347199d8a3d1bae547f09": {
      "model_module": "@jupyter-widgets/controls",
      "model_module_version": "2.0.0",
      "model_name": "HTMLModel",
      "state": {
       "layout": "IPY_MODEL_8e513aeaf83743de90ae3f7a688b13f4",
       "style": "IPY_MODEL_acb3223b2f4146318834f692cb4992ff",
       "value": "Training epoch 2:: 100%"
      }
     },
     "39590e51d1bc4244a694c2f6c9e1f255": {
      "model_module": "@jupyter-widgets/base",
      "model_module_version": "2.0.0",
      "model_name": "LayoutModel",
      "state": {}
     },
     "395f0a637ce8470fb325167a8efe9d37": {
      "model_module": "@jupyter-widgets/controls",
      "model_module_version": "2.0.0",
      "model_name": "HTMLModel",
      "state": {
       "layout": "IPY_MODEL_0325f54f5e8f41fbb576e7e72387be2a",
       "style": "IPY_MODEL_ae0c9677c39c48f0a5c6c7ada9e8e4c0",
       "value": " 21/21 [00:00&lt;00:00, 104.05it/s]"
      }
     },
     "39a9151285604c729fa62e02e92f11a3": {
      "model_module": "@jupyter-widgets/base",
      "model_module_version": "2.0.0",
      "model_name": "LayoutModel",
      "state": {}
     },
     "39aa3384f56a4e25916f3ace1424cd01": {
      "model_module": "@jupyter-widgets/base",
      "model_module_version": "2.0.0",
      "model_name": "LayoutModel",
      "state": {}
     },
     "39eb5ed2667b4b09a42115c0558db265": {
      "model_module": "@jupyter-widgets/controls",
      "model_module_version": "2.0.0",
      "model_name": "HTMLStyleModel",
      "state": {
       "description_width": "",
       "font_size": null,
       "text_color": null
      }
     },
     "3a82a6b1917f4b3ab02e2f01dc1833ed": {
      "model_module": "@jupyter-widgets/controls",
      "model_module_version": "2.0.0",
      "model_name": "ProgressStyleModel",
      "state": {
       "description_width": ""
      }
     },
     "3a94e5b8c25a4562be8087f5430b0e3d": {
      "model_module": "@jupyter-widgets/controls",
      "model_module_version": "2.0.0",
      "model_name": "HTMLModel",
      "state": {
       "layout": "IPY_MODEL_39a9151285604c729fa62e02e92f11a3",
       "style": "IPY_MODEL_3d170464a619475aab9ee5c9da5a1ec4",
       "value": "Training epoch 19:: 100%"
      }
     },
     "3b94b8bccbaf4feb9f45ecb9f8ccf06b": {
      "model_module": "@jupyter-widgets/base",
      "model_module_version": "2.0.0",
      "model_name": "LayoutModel",
      "state": {}
     },
     "3c3cd302bfb74315b8000de12292c89f": {
      "model_module": "@jupyter-widgets/controls",
      "model_module_version": "2.0.0",
      "model_name": "HBoxModel",
      "state": {
       "children": [
        "IPY_MODEL_39444a9aad2347199d8a3d1bae547f09",
        "IPY_MODEL_a568ccba419848bfac5f48992ebf02d5",
        "IPY_MODEL_2f1cda65b8174a178dd80f32563a2b9d"
       ],
       "layout": "IPY_MODEL_9865ad48c1d34ae09512f418856f5bdd"
      }
     },
     "3c935801c3564f5b9aabdae7ad48b084": {
      "model_module": "@jupyter-widgets/controls",
      "model_module_version": "2.0.0",
      "model_name": "HTMLModel",
      "state": {
       "layout": "IPY_MODEL_593dd76db5b84df39dd4897e25cd62a1",
       "style": "IPY_MODEL_a4c093f11f9c4d5ba41beda4d95cc033",
       "value": "Training epoch 6:: 100%"
      }
     },
     "3cc9d6eb9d9a48ffa605ca51655e1759": {
      "model_module": "@jupyter-widgets/controls",
      "model_module_version": "2.0.0",
      "model_name": "ProgressStyleModel",
      "state": {
       "description_width": ""
      }
     },
     "3d170464a619475aab9ee5c9da5a1ec4": {
      "model_module": "@jupyter-widgets/controls",
      "model_module_version": "2.0.0",
      "model_name": "HTMLStyleModel",
      "state": {
       "description_width": "",
       "font_size": null,
       "text_color": null
      }
     },
     "3d247c5d02b44e9a841fcf7f7260cf48": {
      "model_module": "@jupyter-widgets/controls",
      "model_module_version": "2.0.0",
      "model_name": "ProgressStyleModel",
      "state": {
       "description_width": ""
      }
     },
     "3d3cc7af63344ab2955e1c4ecba895a3": {
      "model_module": "@jupyter-widgets/base",
      "model_module_version": "2.0.0",
      "model_name": "LayoutModel",
      "state": {}
     },
     "3d421564b2ad42528510038b27191183": {
      "model_module": "@jupyter-widgets/controls",
      "model_module_version": "2.0.0",
      "model_name": "HBoxModel",
      "state": {
       "children": [
        "IPY_MODEL_50a59abe0f37409a9e00b7674d24dfb6",
        "IPY_MODEL_db4e4743061a4a8fa9d061c19c05d3cb",
        "IPY_MODEL_db9f7d7656cc4d6f8a34599e8797e3f8"
       ],
       "layout": "IPY_MODEL_f2fb735af1de4e2bacac9f976893ed0e"
      }
     },
     "3df09b407c4d46209a7de71142a0531a": {
      "model_module": "@jupyter-widgets/controls",
      "model_module_version": "2.0.0",
      "model_name": "HBoxModel",
      "state": {
       "children": [
        "IPY_MODEL_f5466c8a56fa45d685be12a5f50169f5",
        "IPY_MODEL_1ba40c1ea38d46d39fff038aeaefce78",
        "IPY_MODEL_501beaaa9ab346e1ae8d1ffd7bc7af71"
       ],
       "layout": "IPY_MODEL_92e9bbe2d3094658a98ed544f0905fe4"
      }
     },
     "3e3a20a141ef46e4a0330206c96080b4": {
      "model_module": "@jupyter-widgets/base",
      "model_module_version": "2.0.0",
      "model_name": "LayoutModel",
      "state": {}
     },
     "3e5ccf94228f4a2aaf393095339451bb": {
      "model_module": "@jupyter-widgets/base",
      "model_module_version": "2.0.0",
      "model_name": "LayoutModel",
      "state": {}
     },
     "3e6a0565fd2249d2b1e319cf9bc9db35": {
      "model_module": "@jupyter-widgets/base",
      "model_module_version": "2.0.0",
      "model_name": "LayoutModel",
      "state": {}
     },
     "3e823f76ac4046bcaad1f3f82755f634": {
      "model_module": "@jupyter-widgets/controls",
      "model_module_version": "2.0.0",
      "model_name": "HBoxModel",
      "state": {
       "children": [
        "IPY_MODEL_4075b001ae9f4c04bff5a26b245a3c58",
        "IPY_MODEL_5ef26be96ef54927afce4b35175508e4",
        "IPY_MODEL_bbb077346f624ae1ac1787fa3a88fde0"
       ],
       "layout": "IPY_MODEL_51639ea28cf34d2e8caa01b11aca76df"
      }
     },
     "3fdc8caaf6db4c05aaf9af17bee355a5": {
      "model_module": "@jupyter-widgets/controls",
      "model_module_version": "2.0.0",
      "model_name": "ProgressStyleModel",
      "state": {
       "description_width": ""
      }
     },
     "4075b001ae9f4c04bff5a26b245a3c58": {
      "model_module": "@jupyter-widgets/controls",
      "model_module_version": "2.0.0",
      "model_name": "HTMLModel",
      "state": {
       "layout": "IPY_MODEL_c138f580153a4f5480d2be7373d4b558",
       "style": "IPY_MODEL_29095c32a0d548d6aae35943101a3cbb",
       "value": "Training epoch 4:: 100%"
      }
     },
     "40dbf4a6c05a40b9bc4e45dfd1bf5773": {
      "model_module": "@jupyter-widgets/base",
      "model_module_version": "2.0.0",
      "model_name": "LayoutModel",
      "state": {}
     },
     "40e91cfc1cab4246b4639e88a9fe9e94": {
      "model_module": "@jupyter-widgets/controls",
      "model_module_version": "2.0.0",
      "model_name": "HTMLModel",
      "state": {
       "layout": "IPY_MODEL_350a381a0cb049d3ac4628288de3cc9e",
       "style": "IPY_MODEL_c32a1515b0d745de8b9c40790163d67f",
       "value": "Training epoch 1:: 100%"
      }
     },
     "4164d0b016484f4db852bca98ef40d0e": {
      "model_module": "@jupyter-widgets/controls",
      "model_module_version": "2.0.0",
      "model_name": "HTMLStyleModel",
      "state": {
       "description_width": "",
       "font_size": null,
       "text_color": null
      }
     },
     "41b4e8f7687e4b11b4730c94917b253d": {
      "model_module": "@jupyter-widgets/base",
      "model_module_version": "2.0.0",
      "model_name": "LayoutModel",
      "state": {}
     },
     "428e6d17ce0946f1bb3c7c0ac0afd889": {
      "model_module": "@jupyter-widgets/base",
      "model_module_version": "2.0.0",
      "model_name": "LayoutModel",
      "state": {}
     },
     "42de1aa101694af6a091d6e60f7a9420": {
      "model_module": "@jupyter-widgets/controls",
      "model_module_version": "2.0.0",
      "model_name": "ProgressStyleModel",
      "state": {
       "description_width": ""
      }
     },
     "43b93c78aeab442b99388e1ae141d41d": {
      "model_module": "@jupyter-widgets/base",
      "model_module_version": "2.0.0",
      "model_name": "LayoutModel",
      "state": {}
     },
     "43cdc64634434a449ddda8e3311dfbc6": {
      "model_module": "@jupyter-widgets/base",
      "model_module_version": "2.0.0",
      "model_name": "LayoutModel",
      "state": {}
     },
     "43eccf5e940740ad96c3fab9796c76bd": {
      "model_module": "@jupyter-widgets/controls",
      "model_module_version": "2.0.0",
      "model_name": "HTMLModel",
      "state": {
       "layout": "IPY_MODEL_44357953c3704e5f851fb36098906f99",
       "style": "IPY_MODEL_4c872926fa7e4702a53f628d014782a6",
       "value": "Training epoch 3:: 100%"
      }
     },
     "44109776d6674cdab4b296bed93f9cb0": {
      "model_module": "@jupyter-widgets/controls",
      "model_module_version": "2.0.0",
      "model_name": "HTMLModel",
      "state": {
       "layout": "IPY_MODEL_4b51a98ba5f5401094ead6ef7763e319",
       "style": "IPY_MODEL_75269f72c3964fa58837cf0d1b155cec",
       "value": "Training epoch 5:: 100%"
      }
     },
     "442733ad82e34f04adaa9c73d50ce732": {
      "model_module": "@jupyter-widgets/controls",
      "model_module_version": "2.0.0",
      "model_name": "HTMLModel",
      "state": {
       "layout": "IPY_MODEL_4c9d153311ee4430b1cc46713c246915",
       "style": "IPY_MODEL_8153f17cc4a94844a8cfd8acde7ee17d",
       "value": " 21/21 [00:00&lt;00:00, 65.98it/s]"
      }
     },
     "44357953c3704e5f851fb36098906f99": {
      "model_module": "@jupyter-widgets/base",
      "model_module_version": "2.0.0",
      "model_name": "LayoutModel",
      "state": {}
     },
     "460b96eb8a7f4756a41eeb46ca4ea012": {
      "model_module": "@jupyter-widgets/controls",
      "model_module_version": "2.0.0",
      "model_name": "FloatProgressModel",
      "state": {
       "bar_style": "success",
       "layout": "IPY_MODEL_3b94b8bccbaf4feb9f45ecb9f8ccf06b",
       "max": 21,
       "style": "IPY_MODEL_288a801348c441a5ada518172f2c55cf",
       "value": 21
      }
     },
     "466a9f0a4eb040dfb42726ad1d5f1765": {
      "model_module": "@jupyter-widgets/controls",
      "model_module_version": "2.0.0",
      "model_name": "HTMLModel",
      "state": {
       "layout": "IPY_MODEL_bac31cf5fc7542749f92969c945e0179",
       "style": "IPY_MODEL_34f55e33be5545d49706249338a37e24",
       "value": " 21/21 [00:00&lt;00:00, 42.53it/s]"
      }
     },
     "46f224c381424e20bb484bc63098e6a2": {
      "model_module": "@jupyter-widgets/controls",
      "model_module_version": "2.0.0",
      "model_name": "HTMLModel",
      "state": {
       "layout": "IPY_MODEL_5c25bf786b4440a592785ccb043d959a",
       "style": "IPY_MODEL_a94d91d992904bbd9eb9fa7ea5a4cb51",
       "value": "Training epoch 18:: 100%"
      }
     },
     "4789de9412dc40f2a86723d628958ecc": {
      "model_module": "@jupyter-widgets/controls",
      "model_module_version": "2.0.0",
      "model_name": "HTMLStyleModel",
      "state": {
       "description_width": "",
       "font_size": null,
       "text_color": null
      }
     },
     "47a436a5f66c49e1ad275fa88aabd225": {
      "model_module": "@jupyter-widgets/base",
      "model_module_version": "2.0.0",
      "model_name": "LayoutModel",
      "state": {}
     },
     "47f4c441d5ee4dc19b652472af8fd085": {
      "model_module": "@jupyter-widgets/base",
      "model_module_version": "2.0.0",
      "model_name": "LayoutModel",
      "state": {}
     },
     "47fcf8fc096048588f0111a4af152caa": {
      "model_module": "@jupyter-widgets/base",
      "model_module_version": "2.0.0",
      "model_name": "LayoutModel",
      "state": {}
     },
     "4a652ee1eadc45d0ac908c543a85a78d": {
      "model_module": "@jupyter-widgets/controls",
      "model_module_version": "2.0.0",
      "model_name": "HTMLStyleModel",
      "state": {
       "description_width": "",
       "font_size": null,
       "text_color": null
      }
     },
     "4adf46cbe7ae4001be807a3076b9f0e7": {
      "model_module": "@jupyter-widgets/base",
      "model_module_version": "2.0.0",
      "model_name": "LayoutModel",
      "state": {}
     },
     "4b51a98ba5f5401094ead6ef7763e319": {
      "model_module": "@jupyter-widgets/base",
      "model_module_version": "2.0.0",
      "model_name": "LayoutModel",
      "state": {}
     },
     "4b9f50160fe14afb90ef03ccd2e4ceef": {
      "model_module": "@jupyter-widgets/controls",
      "model_module_version": "2.0.0",
      "model_name": "HTMLStyleModel",
      "state": {
       "description_width": "",
       "font_size": null,
       "text_color": null
      }
     },
     "4ba3fce775584a41aade24ab67120034": {
      "model_module": "@jupyter-widgets/controls",
      "model_module_version": "2.0.0",
      "model_name": "ProgressStyleModel",
      "state": {
       "description_width": ""
      }
     },
     "4c872926fa7e4702a53f628d014782a6": {
      "model_module": "@jupyter-widgets/controls",
      "model_module_version": "2.0.0",
      "model_name": "HTMLStyleModel",
      "state": {
       "description_width": "",
       "font_size": null,
       "text_color": null
      }
     },
     "4c9d153311ee4430b1cc46713c246915": {
      "model_module": "@jupyter-widgets/base",
      "model_module_version": "2.0.0",
      "model_name": "LayoutModel",
      "state": {}
     },
     "4c9fe17054d9480f8a444900b9727ba0": {
      "model_module": "@jupyter-widgets/controls",
      "model_module_version": "2.0.0",
      "model_name": "FloatProgressModel",
      "state": {
       "bar_style": "success",
       "layout": "IPY_MODEL_714cd5ee249846b080abf578184ad0c4",
       "max": 21,
       "style": "IPY_MODEL_5241c2aa5a6649fabafcfa85bee34bdb",
       "value": 21
      }
     },
     "4d2ea855d87d43d6b3bb06780cd48953": {
      "model_module": "@jupyter-widgets/base",
      "model_module_version": "2.0.0",
      "model_name": "LayoutModel",
      "state": {}
     },
     "4dc58c9a28c9494abc22748f0616681f": {
      "model_module": "@jupyter-widgets/controls",
      "model_module_version": "2.0.0",
      "model_name": "HTMLStyleModel",
      "state": {
       "description_width": "",
       "font_size": null,
       "text_color": null
      }
     },
     "4de6485d35d14133b0289d89370af364": {
      "model_module": "@jupyter-widgets/base",
      "model_module_version": "2.0.0",
      "model_name": "LayoutModel",
      "state": {}
     },
     "4f6d22f3ed4445fea61788a1fc24e3af": {
      "model_module": "@jupyter-widgets/controls",
      "model_module_version": "2.0.0",
      "model_name": "ProgressStyleModel",
      "state": {
       "description_width": ""
      }
     },
     "4f704df78193471987ade34222c02f34": {
      "model_module": "@jupyter-widgets/controls",
      "model_module_version": "2.0.0",
      "model_name": "HTMLModel",
      "state": {
       "layout": "IPY_MODEL_671ecbfe901b451da95671fe8792bb9d",
       "style": "IPY_MODEL_0ea9d32bd23f4c648266b48e3176c77e",
       "value": "Training epoch 16:: 100%"
      }
     },
     "4ff4771f7a9948b29bc97d6e27b969a1": {
      "model_module": "@jupyter-widgets/controls",
      "model_module_version": "2.0.0",
      "model_name": "HBoxModel",
      "state": {
       "children": [
        "IPY_MODEL_b9a6f1d787434ca8ae243f1e0a131d50",
        "IPY_MODEL_2b37cabc05c84a9095b3c14cd5fc97ad",
        "IPY_MODEL_6950a8a5c11e4b59bc17fca4ba654c94"
       ],
       "layout": "IPY_MODEL_a6ff8ae4510f4b7a8370639f3b3b4d8f"
      }
     },
     "501beaaa9ab346e1ae8d1ffd7bc7af71": {
      "model_module": "@jupyter-widgets/controls",
      "model_module_version": "2.0.0",
      "model_name": "HTMLModel",
      "state": {
       "layout": "IPY_MODEL_b1e49d3e781047d2a83bfb4d2fe4faba",
       "style": "IPY_MODEL_e65791d267de422d97eff2e06175eb49",
       "value": " 21/21 [00:00&lt;00:00, 71.62it/s]"
      }
     },
     "50534f4f889140d1ba89236493789342": {
      "model_module": "@jupyter-widgets/base",
      "model_module_version": "2.0.0",
      "model_name": "LayoutModel",
      "state": {}
     },
     "50a59abe0f37409a9e00b7674d24dfb6": {
      "model_module": "@jupyter-widgets/controls",
      "model_module_version": "2.0.0",
      "model_name": "HTMLModel",
      "state": {
       "layout": "IPY_MODEL_7ebdf4bf4ec24de9b601a73b63536e9e",
       "style": "IPY_MODEL_6431c14c074d449ca53106eecb928428",
       "value": "Training epoch 15:: 100%"
      }
     },
     "50ca5590f4704bb88121969d537168c5": {
      "model_module": "@jupyter-widgets/controls",
      "model_module_version": "2.0.0",
      "model_name": "ProgressStyleModel",
      "state": {
       "description_width": ""
      }
     },
     "51639ea28cf34d2e8caa01b11aca76df": {
      "model_module": "@jupyter-widgets/base",
      "model_module_version": "2.0.0",
      "model_name": "LayoutModel",
      "state": {}
     },
     "5241c2aa5a6649fabafcfa85bee34bdb": {
      "model_module": "@jupyter-widgets/controls",
      "model_module_version": "2.0.0",
      "model_name": "ProgressStyleModel",
      "state": {
       "description_width": ""
      }
     },
     "53df281cfec0425f90f7c817d10f3e71": {
      "model_module": "@jupyter-widgets/base",
      "model_module_version": "2.0.0",
      "model_name": "LayoutModel",
      "state": {}
     },
     "5471b3d1eb824fe58f529b80313b33a3": {
      "model_module": "@jupyter-widgets/base",
      "model_module_version": "2.0.0",
      "model_name": "LayoutModel",
      "state": {}
     },
     "554da9205cc34d4daac14a1ab3078c4b": {
      "model_module": "@jupyter-widgets/base",
      "model_module_version": "2.0.0",
      "model_name": "LayoutModel",
      "state": {}
     },
     "55f5ff8675414b708931fbe23996b765": {
      "model_module": "@jupyter-widgets/controls",
      "model_module_version": "2.0.0",
      "model_name": "FloatProgressModel",
      "state": {
       "bar_style": "success",
       "layout": "IPY_MODEL_0c70347f1ddd4fcb871faadd8b235a51",
       "max": 21,
       "style": "IPY_MODEL_bf71a2e7dfbe4cb7900a69ada2232277",
       "value": 21
      }
     },
     "5679cf624995431a85fbdb03ffc29ead": {
      "model_module": "@jupyter-widgets/base",
      "model_module_version": "2.0.0",
      "model_name": "LayoutModel",
      "state": {}
     },
     "56c6510bd6ff4e5d80da6ce4e82d8efa": {
      "model_module": "@jupyter-widgets/controls",
      "model_module_version": "2.0.0",
      "model_name": "FloatProgressModel",
      "state": {
       "bar_style": "success",
       "layout": "IPY_MODEL_2e276fd6f41c4a60a6faa90b1e2400e9",
       "max": 21,
       "style": "IPY_MODEL_74768b7a24b047e58316deb60c51c0e1",
       "value": 21
      }
     },
     "57215ad174ae4dcda936eeb7f580ec22": {
      "model_module": "@jupyter-widgets/controls",
      "model_module_version": "2.0.0",
      "model_name": "HTMLStyleModel",
      "state": {
       "description_width": "",
       "font_size": null,
       "text_color": null
      }
     },
     "5757dbe7121c493d9910ffdeccd0c4af": {
      "model_module": "@jupyter-widgets/controls",
      "model_module_version": "2.0.0",
      "model_name": "HTMLModel",
      "state": {
       "layout": "IPY_MODEL_b2e148bbd295401897b3fed8214d5854",
       "style": "IPY_MODEL_ef4fbce431394bc3b5d8f5d9d4959541",
       "value": " 21/21 [00:00&lt;00:00, 68.08it/s]"
      }
     },
     "588fb0de52434675b4168d799d72395b": {
      "model_module": "@jupyter-widgets/controls",
      "model_module_version": "2.0.0",
      "model_name": "HTMLStyleModel",
      "state": {
       "description_width": "",
       "font_size": null,
       "text_color": null
      }
     },
     "593dd76db5b84df39dd4897e25cd62a1": {
      "model_module": "@jupyter-widgets/base",
      "model_module_version": "2.0.0",
      "model_name": "LayoutModel",
      "state": {}
     },
     "5940463f85f04c75a4129c04d020e725": {
      "model_module": "@jupyter-widgets/controls",
      "model_module_version": "2.0.0",
      "model_name": "HBoxModel",
      "state": {
       "children": [
        "IPY_MODEL_43eccf5e940740ad96c3fab9796c76bd",
        "IPY_MODEL_fb20d14c4ca546d29a0f2d2da3d30d71",
        "IPY_MODEL_a70727b3dd68493bb2d5cd169e4964e3"
       ],
       "layout": "IPY_MODEL_71f3c8d3811242cc8809e17958f32894"
      }
     },
     "595cd7c0c280407eb44a83d8a08d3cfb": {
      "model_module": "@jupyter-widgets/base",
      "model_module_version": "2.0.0",
      "model_name": "LayoutModel",
      "state": {}
     },
     "59b7e79edd8f4dd48b1b81f53b9feee0": {
      "model_module": "@jupyter-widgets/controls",
      "model_module_version": "2.0.0",
      "model_name": "HTMLStyleModel",
      "state": {
       "description_width": "",
       "font_size": null,
       "text_color": null
      }
     },
     "5a09f7e467ab42059b50fcbd6fb1b63a": {
      "model_module": "@jupyter-widgets/controls",
      "model_module_version": "2.0.0",
      "model_name": "HTMLModel",
      "state": {
       "layout": "IPY_MODEL_4de6485d35d14133b0289d89370af364",
       "style": "IPY_MODEL_b323057cd3db4c45ba9801db83280773",
       "value": "Training epoch 0::   0%"
      }
     },
     "5a40e8426c9a4129b50f989ff10bd355": {
      "model_module": "@jupyter-widgets/controls",
      "model_module_version": "2.0.0",
      "model_name": "HTMLStyleModel",
      "state": {
       "description_width": "",
       "font_size": null,
       "text_color": null
      }
     },
     "5b1a98182b2940318ecf265babc1901d": {
      "model_module": "@jupyter-widgets/base",
      "model_module_version": "2.0.0",
      "model_name": "LayoutModel",
      "state": {}
     },
     "5b33d15efbc04c6fab95800ce5be4dfd": {
      "model_module": "@jupyter-widgets/base",
      "model_module_version": "2.0.0",
      "model_name": "LayoutModel",
      "state": {}
     },
     "5b955de2799b489590eb282e047c7d10": {
      "model_module": "@jupyter-widgets/controls",
      "model_module_version": "2.0.0",
      "model_name": "HTMLStyleModel",
      "state": {
       "description_width": "",
       "font_size": null,
       "text_color": null
      }
     },
     "5bdfb9b5e00b49d789ab2c250348629e": {
      "model_module": "@jupyter-widgets/base",
      "model_module_version": "2.0.0",
      "model_name": "LayoutModel",
      "state": {}
     },
     "5c25bf786b4440a592785ccb043d959a": {
      "model_module": "@jupyter-widgets/base",
      "model_module_version": "2.0.0",
      "model_name": "LayoutModel",
      "state": {}
     },
     "5d86fb5515964b2b95793cdb4e102e7e": {
      "model_module": "@jupyter-widgets/controls",
      "model_module_version": "2.0.0",
      "model_name": "HBoxModel",
      "state": {
       "children": [
        "IPY_MODEL_18078102cd9d4c4488d71c2bab1358f3",
        "IPY_MODEL_e68ac102099741dabb1d43256bca7358",
        "IPY_MODEL_31b9c35ef4c64522a9379ff2cc0403b1"
       ],
       "layout": "IPY_MODEL_5f52bf296718459bbb2e95055220ae8d"
      }
     },
     "5deb47349f974c568c64e38cdda95dcb": {
      "model_module": "@jupyter-widgets/controls",
      "model_module_version": "2.0.0",
      "model_name": "HBoxModel",
      "state": {
       "children": [
        "IPY_MODEL_5a09f7e467ab42059b50fcbd6fb1b63a",
        "IPY_MODEL_fee19b1662834d2b97ea8ceec8a73aee",
        "IPY_MODEL_8bb640ca6f264f81866521d1a9c70546"
       ],
       "layout": "IPY_MODEL_aff0a078c32c48c1b48a96a5ddae456c"
      }
     },
     "5ec169b67a6e47198687a6d861406bcd": {
      "model_module": "@jupyter-widgets/controls",
      "model_module_version": "2.0.0",
      "model_name": "HTMLModel",
      "state": {
       "layout": "IPY_MODEL_393651a7ad8342a09c0e73badec1417a",
       "style": "IPY_MODEL_624f13c62b1342b6b37dff93b9f80242",
       "value": "Training epoch 1:: 100%"
      }
     },
     "5ef26be96ef54927afce4b35175508e4": {
      "model_module": "@jupyter-widgets/controls",
      "model_module_version": "2.0.0",
      "model_name": "FloatProgressModel",
      "state": {
       "bar_style": "success",
       "layout": "IPY_MODEL_c5bd59f8d2a6450eb9a57bb087f09bb5",
       "max": 21,
       "style": "IPY_MODEL_42de1aa101694af6a091d6e60f7a9420",
       "value": 21
      }
     },
     "5f52bf296718459bbb2e95055220ae8d": {
      "model_module": "@jupyter-widgets/base",
      "model_module_version": "2.0.0",
      "model_name": "LayoutModel",
      "state": {}
     },
     "5fb7553a0de1473fbc60e4ef4634f89f": {
      "model_module": "@jupyter-widgets/controls",
      "model_module_version": "2.0.0",
      "model_name": "ProgressStyleModel",
      "state": {
       "description_width": ""
      }
     },
     "606ea1af0a78444aa09492ae1ab662c6": {
      "model_module": "@jupyter-widgets/controls",
      "model_module_version": "2.0.0",
      "model_name": "HTMLModel",
      "state": {
       "layout": "IPY_MODEL_ea8a9e9b59114e2d912f3ebb83b8a1b6",
       "style": "IPY_MODEL_8eb6057c92824309984f993f1e54928c",
       "value": "Training epoch 4:: 100%"
      }
     },
     "61b4bc857f9f4c35b52987b36121c08a": {
      "model_module": "@jupyter-widgets/controls",
      "model_module_version": "2.0.0",
      "model_name": "HTMLStyleModel",
      "state": {
       "description_width": "",
       "font_size": null,
       "text_color": null
      }
     },
     "6202979e27904235925b16fd65eb09eb": {
      "model_module": "@jupyter-widgets/controls",
      "model_module_version": "2.0.0",
      "model_name": "HBoxModel",
      "state": {
       "children": [
        "IPY_MODEL_6b056c06da4a4756b394e4404a35cb93",
        "IPY_MODEL_a5fd36b9d0be477a958a1d6143ba732d",
        "IPY_MODEL_442733ad82e34f04adaa9c73d50ce732"
       ],
       "layout": "IPY_MODEL_9fd63d3594be43189f06156e014b98ba"
      }
     },
     "624f13c62b1342b6b37dff93b9f80242": {
      "model_module": "@jupyter-widgets/controls",
      "model_module_version": "2.0.0",
      "model_name": "HTMLStyleModel",
      "state": {
       "description_width": "",
       "font_size": null,
       "text_color": null
      }
     },
     "625a86df45684207ab117bc0b58565a7": {
      "model_module": "@jupyter-widgets/controls",
      "model_module_version": "2.0.0",
      "model_name": "HTMLStyleModel",
      "state": {
       "description_width": "",
       "font_size": null,
       "text_color": null
      }
     },
     "628c7f064b564742a364b45da0b2685c": {
      "model_module": "@jupyter-widgets/controls",
      "model_module_version": "2.0.0",
      "model_name": "HBoxModel",
      "state": {
       "children": [
        "IPY_MODEL_31ae936ce3d447c18cb966e436f348c1",
        "IPY_MODEL_8f69f1f6d2aa4ba59b6a459d2fc44013",
        "IPY_MODEL_775b4e7ea1334d4d8532330e1559ed96"
       ],
       "layout": "IPY_MODEL_9a2fd6e25a444c4cb5de82bfd0e9038c"
      }
     },
     "6290ecbeaf0c47b1947f6f745a78b360": {
      "model_module": "@jupyter-widgets/controls",
      "model_module_version": "2.0.0",
      "model_name": "HTMLModel",
      "state": {
       "layout": "IPY_MODEL_7b014b1c58cd4a95aa702416c556c24d",
       "style": "IPY_MODEL_39eb5ed2667b4b09a42115c0558db265",
       "value": " 21/21 [00:00&lt;00:00, 89.53it/s]"
      }
     },
     "62db20fe22af4aceaf4c0f10364f9db4": {
      "model_module": "@jupyter-widgets/base",
      "model_module_version": "2.0.0",
      "model_name": "LayoutModel",
      "state": {}
     },
     "6333ad0866ed4bed89bd1fe37de54b84": {
      "model_module": "@jupyter-widgets/controls",
      "model_module_version": "2.0.0",
      "model_name": "HTMLModel",
      "state": {
       "layout": "IPY_MODEL_e321c79a633746a084ea7814abd685e5",
       "style": "IPY_MODEL_830d9c96f2f640cbb02c03308225aa9c",
       "value": " 21/21 [00:00&lt;00:00, 47.23it/s]"
      }
     },
     "6431c14c074d449ca53106eecb928428": {
      "model_module": "@jupyter-widgets/controls",
      "model_module_version": "2.0.0",
      "model_name": "HTMLStyleModel",
      "state": {
       "description_width": "",
       "font_size": null,
       "text_color": null
      }
     },
     "646f692fb74c4042ba8cd5ba22f2ef0f": {
      "model_module": "@jupyter-widgets/controls",
      "model_module_version": "2.0.0",
      "model_name": "FloatProgressModel",
      "state": {
       "bar_style": "success",
       "layout": "IPY_MODEL_08b6ced6f7244979b42c39e0a5e76331",
       "max": 21,
       "style": "IPY_MODEL_74dffc09516a4ff19febb64faa030e08",
       "value": 21
      }
     },
     "64bbbb0772f94e82984718967b37a3de": {
      "model_module": "@jupyter-widgets/base",
      "model_module_version": "2.0.0",
      "model_name": "LayoutModel",
      "state": {}
     },
     "65559212e8c74bb2bf331d538559f562": {
      "model_module": "@jupyter-widgets/controls",
      "model_module_version": "2.0.0",
      "model_name": "HBoxModel",
      "state": {
       "children": [
        "IPY_MODEL_8790a2c8327f40649a3ec44cf64e6dea",
        "IPY_MODEL_a0cf42d5438a4ffaabc4b69ab64ef60d",
        "IPY_MODEL_6bd1480fbd36486183daab69d5d321b6"
       ],
       "layout": "IPY_MODEL_47fcf8fc096048588f0111a4af152caa"
      }
     },
     "65e105785ddf4941b2dfebd7e9351ff9": {
      "model_module": "@jupyter-widgets/controls",
      "model_module_version": "2.0.0",
      "model_name": "HTMLModel",
      "state": {
       "layout": "IPY_MODEL_6f4d4895558640cbb407e72fc4a2ad1e",
       "style": "IPY_MODEL_eaeb717b748d40b98a719bebe89a170c",
       "value": " 21/21 [00:00&lt;00:00, 28.34it/s]"
      }
     },
     "6621616dd6444914b7770362d1a1f909": {
      "model_module": "@jupyter-widgets/base",
      "model_module_version": "2.0.0",
      "model_name": "LayoutModel",
      "state": {}
     },
     "66b2be68ce0041cea3b935f59ee97e91": {
      "model_module": "@jupyter-widgets/base",
      "model_module_version": "2.0.0",
      "model_name": "LayoutModel",
      "state": {}
     },
     "6707dc387e13486688354d5603bf696a": {
      "model_module": "@jupyter-widgets/controls",
      "model_module_version": "2.0.0",
      "model_name": "HBoxModel",
      "state": {
       "children": [
        "IPY_MODEL_da9c035112894517b3b7d5abf1fd1538",
        "IPY_MODEL_a30b958954bd476cad42c9b22cf8af3d",
        "IPY_MODEL_d1f621d2d6bc44918468d2ade18ea38b"
       ],
       "layout": "IPY_MODEL_9f102ce3561141eca353c342b040d3a2"
      }
     },
     "671ecbfe901b451da95671fe8792bb9d": {
      "model_module": "@jupyter-widgets/base",
      "model_module_version": "2.0.0",
      "model_name": "LayoutModel",
      "state": {}
     },
     "67781bba8b7f47d4836cfb16d3e122dc": {
      "model_module": "@jupyter-widgets/controls",
      "model_module_version": "2.0.0",
      "model_name": "HTMLStyleModel",
      "state": {
       "description_width": "",
       "font_size": null,
       "text_color": null
      }
     },
     "679f74f566264886b440bcdc1fc2bc50": {
      "model_module": "@jupyter-widgets/base",
      "model_module_version": "2.0.0",
      "model_name": "LayoutModel",
      "state": {}
     },
     "67d0cf3610d845e4adfb29d2aa6b51fa": {
      "model_module": "@jupyter-widgets/controls",
      "model_module_version": "2.0.0",
      "model_name": "HBoxModel",
      "state": {
       "children": [
        "IPY_MODEL_30e11891483f4e15a6c1b2674bac2411",
        "IPY_MODEL_4c9fe17054d9480f8a444900b9727ba0",
        "IPY_MODEL_5757dbe7121c493d9910ffdeccd0c4af"
       ],
       "layout": "IPY_MODEL_d4f62ec72b9c4c0a9b58b3dc5cf7cf42"
      }
     },
     "67e2c79ea9404dcb9d96858041502b5f": {
      "model_module": "@jupyter-widgets/base",
      "model_module_version": "2.0.0",
      "model_name": "LayoutModel",
      "state": {}
     },
     "6824e09877f34aa0adde40d30e073813": {
      "model_module": "@jupyter-widgets/base",
      "model_module_version": "2.0.0",
      "model_name": "LayoutModel",
      "state": {}
     },
     "68a18a42964847a2bedc759f104b1953": {
      "model_module": "@jupyter-widgets/base",
      "model_module_version": "2.0.0",
      "model_name": "LayoutModel",
      "state": {}
     },
     "68b5460fbdf245f2a2c9e3ff55f9c557": {
      "model_module": "@jupyter-widgets/controls",
      "model_module_version": "2.0.0",
      "model_name": "HBoxModel",
      "state": {
       "children": [
        "IPY_MODEL_6b523c86fbce41f1b33493b83f4c7084",
        "IPY_MODEL_ed06019813be4ad994a60c5bb88f5e90",
        "IPY_MODEL_1b6ce729de27459a85533fdb13419eda"
       ],
       "layout": "IPY_MODEL_363f0a5e8fe24cfdb791d68a69bb77c5"
      }
     },
     "690317105b774a048fa5862428645b98": {
      "model_module": "@jupyter-widgets/controls",
      "model_module_version": "2.0.0",
      "model_name": "HTMLStyleModel",
      "state": {
       "description_width": "",
       "font_size": null,
       "text_color": null
      }
     },
     "6950a8a5c11e4b59bc17fca4ba654c94": {
      "model_module": "@jupyter-widgets/controls",
      "model_module_version": "2.0.0",
      "model_name": "HTMLModel",
      "state": {
       "layout": "IPY_MODEL_8cdf94852cdc41ad95eab62ade919410",
       "style": "IPY_MODEL_80384f1ed49a4da480928e67a6304503",
       "value": " 0/21 [00:00&lt;?, ?it/s]"
      }
     },
     "6b056c06da4a4756b394e4404a35cb93": {
      "model_module": "@jupyter-widgets/controls",
      "model_module_version": "2.0.0",
      "model_name": "HTMLModel",
      "state": {
       "layout": "IPY_MODEL_ef9dbb2165624f709134ff82cff981af",
       "style": "IPY_MODEL_8044d159050440c0bdaed2a5b062ad39",
       "value": "Training epoch 1:: 100%"
      }
     },
     "6b523c86fbce41f1b33493b83f4c7084": {
      "model_module": "@jupyter-widgets/controls",
      "model_module_version": "2.0.0",
      "model_name": "HTMLModel",
      "state": {
       "layout": "IPY_MODEL_b26126de92b34c72be002963f8a3cc87",
       "style": "IPY_MODEL_28823ab8291843b983a43addc2f9d056",
       "value": "Training epoch 0:: 100%"
      }
     },
     "6bd1480fbd36486183daab69d5d321b6": {
      "model_module": "@jupyter-widgets/controls",
      "model_module_version": "2.0.0",
      "model_name": "HTMLModel",
      "state": {
       "layout": "IPY_MODEL_5bdfb9b5e00b49d789ab2c250348629e",
       "style": "IPY_MODEL_c432d2dd43074de9a91df37c2f1bd5fc",
       "value": " 0/21 [00:07&lt;?, ?it/s]"
      }
     },
     "6c2c1d1e812a433e9ae02a6aec7c710c": {
      "model_module": "@jupyter-widgets/controls",
      "model_module_version": "2.0.0",
      "model_name": "FloatProgressModel",
      "state": {
       "bar_style": "success",
       "layout": "IPY_MODEL_dbe007f38533455bbc35ce9f5ac08bf0",
       "max": 21,
       "style": "IPY_MODEL_2a4137ee44254769ba99049b583679c1",
       "value": 21
      }
     },
     "6c5c5023567a47eea7a2bb042e1ae85f": {
      "model_module": "@jupyter-widgets/controls",
      "model_module_version": "2.0.0",
      "model_name": "HTMLStyleModel",
      "state": {
       "description_width": "",
       "font_size": null,
       "text_color": null
      }
     },
     "6c7aaac7496e477892800225e5fb87de": {
      "model_module": "@jupyter-widgets/controls",
      "model_module_version": "2.0.0",
      "model_name": "HTMLStyleModel",
      "state": {
       "description_width": "",
       "font_size": null,
       "text_color": null
      }
     },
     "6cd96b315e7e4c90b300d4e328ef71d4": {
      "model_module": "@jupyter-widgets/base",
      "model_module_version": "2.0.0",
      "model_name": "LayoutModel",
      "state": {}
     },
     "6cf7df9d891f460aa339e806a25b3359": {
      "model_module": "@jupyter-widgets/controls",
      "model_module_version": "2.0.0",
      "model_name": "FloatProgressModel",
      "state": {
       "bar_style": "success",
       "layout": "IPY_MODEL_331ed876df2b4e2fa5aa3815619c87dd",
       "max": 21,
       "style": "IPY_MODEL_4ba3fce775584a41aade24ab67120034",
       "value": 21
      }
     },
     "6dc821fa1f1849eea89f79b02786ad24": {
      "model_module": "@jupyter-widgets/base",
      "model_module_version": "2.0.0",
      "model_name": "LayoutModel",
      "state": {}
     },
     "6ee47de65a9f4d8a844a048e35c74ce2": {
      "model_module": "@jupyter-widgets/base",
      "model_module_version": "2.0.0",
      "model_name": "LayoutModel",
      "state": {}
     },
     "6efcf0c4a6c34ce7a42b66cc88665a52": {
      "model_module": "@jupyter-widgets/base",
      "model_module_version": "2.0.0",
      "model_name": "LayoutModel",
      "state": {}
     },
     "6f4d4895558640cbb407e72fc4a2ad1e": {
      "model_module": "@jupyter-widgets/base",
      "model_module_version": "2.0.0",
      "model_name": "LayoutModel",
      "state": {}
     },
     "6f647863c1f647058b6422161bc52da9": {
      "model_module": "@jupyter-widgets/controls",
      "model_module_version": "2.0.0",
      "model_name": "HTMLStyleModel",
      "state": {
       "description_width": "",
       "font_size": null,
       "text_color": null
      }
     },
     "6f882810b4e44f1d88a16a34b8082e0a": {
      "model_module": "@jupyter-widgets/controls",
      "model_module_version": "2.0.0",
      "model_name": "HTMLStyleModel",
      "state": {
       "description_width": "",
       "font_size": null,
       "text_color": null
      }
     },
     "6ffc83e67f854d2798836438f711a365": {
      "model_module": "@jupyter-widgets/base",
      "model_module_version": "2.0.0",
      "model_name": "LayoutModel",
      "state": {}
     },
     "702d47ab740f46d9bcfede74a7643270": {
      "model_module": "@jupyter-widgets/controls",
      "model_module_version": "2.0.0",
      "model_name": "FloatProgressModel",
      "state": {
       "bar_style": "success",
       "layout": "IPY_MODEL_b613cce0efee4a16b5b98ab12ae31081",
       "max": 21,
       "style": "IPY_MODEL_2e5c6db9ebbb46acb1ee6b50e67f8afa",
       "value": 21
      }
     },
     "70804cd628a44a8ab4eee0d89e97c06c": {
      "model_module": "@jupyter-widgets/base",
      "model_module_version": "2.0.0",
      "model_name": "LayoutModel",
      "state": {}
     },
     "70a08e9523e9423db624a38b496a81a9": {
      "model_module": "@jupyter-widgets/controls",
      "model_module_version": "2.0.0",
      "model_name": "HTMLModel",
      "state": {
       "layout": "IPY_MODEL_6efcf0c4a6c34ce7a42b66cc88665a52",
       "style": "IPY_MODEL_1b96941c2e4d4443ad28e8d5b7b58f1d",
       "value": " 21/21 [00:00&lt;00:00, 34.71it/s]"
      }
     },
     "713a1529d2744c5f890921178b48c3ca": {
      "model_module": "@jupyter-widgets/base",
      "model_module_version": "2.0.0",
      "model_name": "LayoutModel",
      "state": {}
     },
     "714cd5ee249846b080abf578184ad0c4": {
      "model_module": "@jupyter-widgets/base",
      "model_module_version": "2.0.0",
      "model_name": "LayoutModel",
      "state": {}
     },
     "71f3c8d3811242cc8809e17958f32894": {
      "model_module": "@jupyter-widgets/base",
      "model_module_version": "2.0.0",
      "model_name": "LayoutModel",
      "state": {}
     },
     "730e0106d97547e19357791eacdbca90": {
      "model_module": "@jupyter-widgets/controls",
      "model_module_version": "2.0.0",
      "model_name": "HBoxModel",
      "state": {
       "children": [
        "IPY_MODEL_5ec169b67a6e47198687a6d861406bcd",
        "IPY_MODEL_8505f41543c7412ea54f09badd134ec2",
        "IPY_MODEL_1e399e9e80c24b09b73cc19aa24f9bd4"
       ],
       "layout": "IPY_MODEL_41b4e8f7687e4b11b4730c94917b253d"
      }
     },
     "734600ddd6ef4487a1b74eb65c225eb7": {
      "model_module": "@jupyter-widgets/controls",
      "model_module_version": "2.0.0",
      "model_name": "HTMLStyleModel",
      "state": {
       "description_width": "",
       "font_size": null,
       "text_color": null
      }
     },
     "74448ff3fabb47b0b839bbeed257c3e3": {
      "model_module": "@jupyter-widgets/controls",
      "model_module_version": "2.0.0",
      "model_name": "HTMLStyleModel",
      "state": {
       "description_width": "",
       "font_size": null,
       "text_color": null
      }
     },
     "74768b7a24b047e58316deb60c51c0e1": {
      "model_module": "@jupyter-widgets/controls",
      "model_module_version": "2.0.0",
      "model_name": "ProgressStyleModel",
      "state": {
       "description_width": ""
      }
     },
     "74b9b0a400a94054b7cf6500ed4f8fb3": {
      "model_module": "@jupyter-widgets/controls",
      "model_module_version": "2.0.0",
      "model_name": "HTMLModel",
      "state": {
       "layout": "IPY_MODEL_9ea07cc82f8846fa8c936c093c3d584f",
       "style": "IPY_MODEL_363fe97788c8457bb4402a2b149b4f4f",
       "value": " 21/21 [00:00&lt;00:00, 102.09it/s]"
      }
     },
     "74c31c813ca04b8ca4b4a0e15f68ecdc": {
      "model_module": "@jupyter-widgets/controls",
      "model_module_version": "2.0.0",
      "model_name": "HTMLStyleModel",
      "state": {
       "description_width": "",
       "font_size": null,
       "text_color": null
      }
     },
     "74dffc09516a4ff19febb64faa030e08": {
      "model_module": "@jupyter-widgets/controls",
      "model_module_version": "2.0.0",
      "model_name": "ProgressStyleModel",
      "state": {
       "description_width": ""
      }
     },
     "75269f72c3964fa58837cf0d1b155cec": {
      "model_module": "@jupyter-widgets/controls",
      "model_module_version": "2.0.0",
      "model_name": "HTMLStyleModel",
      "state": {
       "description_width": "",
       "font_size": null,
       "text_color": null
      }
     },
     "75a4a13b4d434dec8aff85c9012895dd": {
      "model_module": "@jupyter-widgets/controls",
      "model_module_version": "2.0.0",
      "model_name": "HTMLModel",
      "state": {
       "layout": "IPY_MODEL_19dae5a661b34b6495ee51643afc817d",
       "style": "IPY_MODEL_4a652ee1eadc45d0ac908c543a85a78d",
       "value": " 21/21 [00:00&lt;00:00, 95.45it/s]"
      }
     },
     "77387313b8a144f8828db3c48909e3d9": {
      "model_module": "@jupyter-widgets/controls",
      "model_module_version": "2.0.0",
      "model_name": "HBoxModel",
      "state": {
       "children": [
        "IPY_MODEL_44109776d6674cdab4b296bed93f9cb0",
        "IPY_MODEL_2d43a7e74fb2447f97293e32c4d3d2e1",
        "IPY_MODEL_fda359e9fc40403babd04782c5daa69d"
       ],
       "layout": "IPY_MODEL_d7a105ca51144c59b1eedb1cdce73b78"
      }
     },
     "775b4e7ea1334d4d8532330e1559ed96": {
      "model_module": "@jupyter-widgets/controls",
      "model_module_version": "2.0.0",
      "model_name": "HTMLModel",
      "state": {
       "layout": "IPY_MODEL_6cd96b315e7e4c90b300d4e328ef71d4",
       "style": "IPY_MODEL_f5730cb28121483db8f83e7a9a97e73d",
       "value": " 21/21 [00:00&lt;00:00, 63.96it/s]"
      }
     },
     "775f3698aa6f4431b4a237c0031b359d": {
      "model_module": "@jupyter-widgets/base",
      "model_module_version": "2.0.0",
      "model_name": "LayoutModel",
      "state": {}
     },
     "7788176c4fd142c1868fe3fc7a953064": {
      "model_module": "@jupyter-widgets/base",
      "model_module_version": "2.0.0",
      "model_name": "LayoutModel",
      "state": {}
     },
     "77a987b14d934ebca4ad99342aacb19c": {
      "model_module": "@jupyter-widgets/base",
      "model_module_version": "2.0.0",
      "model_name": "LayoutModel",
      "state": {}
     },
     "77b5bef1d3aa494795365edb61a3b72d": {
      "model_module": "@jupyter-widgets/base",
      "model_module_version": "2.0.0",
      "model_name": "LayoutModel",
      "state": {}
     },
     "77ec2597dcfa466db2f0ed9e5b5001e5": {
      "model_module": "@jupyter-widgets/base",
      "model_module_version": "2.0.0",
      "model_name": "LayoutModel",
      "state": {}
     },
     "78b7c122219f418d9e032f07336b49cf": {
      "model_module": "@jupyter-widgets/controls",
      "model_module_version": "2.0.0",
      "model_name": "FloatProgressModel",
      "state": {
       "bar_style": "success",
       "layout": "IPY_MODEL_b99c1029918a4f5787f44d4da5cc793a",
       "max": 21,
       "style": "IPY_MODEL_8fe63174e113446387043dcebdc141de",
       "value": 21
      }
     },
     "78c1363e66f14a74a7af9c10e98a38e5": {
      "model_module": "@jupyter-widgets/controls",
      "model_module_version": "2.0.0",
      "model_name": "ProgressStyleModel",
      "state": {
       "description_width": ""
      }
     },
     "78fc8a3c70d549f0aab9d7afff36276a": {
      "model_module": "@jupyter-widgets/controls",
      "model_module_version": "2.0.0",
      "model_name": "HBoxModel",
      "state": {
       "children": [
        "IPY_MODEL_2719d80d8b14453ab3a79153fc3916d5",
        "IPY_MODEL_a41c94e4574a41d08ab708c10bb1966c",
        "IPY_MODEL_973fd4aab68a414dad94e60a4fc1ae5f"
       ],
       "layout": "IPY_MODEL_0d7cc5e952c34d5cb7512c7369a8ee2a"
      }
     },
     "7908b760ccdd4d648b67e1780465d9ec": {
      "model_module": "@jupyter-widgets/controls",
      "model_module_version": "2.0.0",
      "model_name": "HTMLModel",
      "state": {
       "layout": "IPY_MODEL_5471b3d1eb824fe58f529b80313b33a3",
       "style": "IPY_MODEL_127a9931fbd74504a3a1c5805fc4e6f6",
       "value": "Training epoch 11:: 100%"
      }
     },
     "799044969bb6427d99058e0767a8f227": {
      "model_module": "@jupyter-widgets/base",
      "model_module_version": "2.0.0",
      "model_name": "LayoutModel",
      "state": {}
     },
     "7a08d0503a2141a1b3944c9b88e5aa4d": {
      "model_module": "@jupyter-widgets/base",
      "model_module_version": "2.0.0",
      "model_name": "LayoutModel",
      "state": {}
     },
     "7a3cfee01c9741b4adafd3ac8b35f9ee": {
      "model_module": "@jupyter-widgets/base",
      "model_module_version": "2.0.0",
      "model_name": "LayoutModel",
      "state": {}
     },
     "7a7e74eb40df4dbca3edc537a8935676": {
      "model_module": "@jupyter-widgets/controls",
      "model_module_version": "2.0.0",
      "model_name": "HTMLModel",
      "state": {
       "layout": "IPY_MODEL_85af0a5530624daea7aa0b476794709c",
       "style": "IPY_MODEL_9ad01bc223704f10bbde0c8903b8f1d2",
       "value": " 21/21 [00:00&lt;00:00, 66.54it/s]"
      }
     },
     "7b014b1c58cd4a95aa702416c556c24d": {
      "model_module": "@jupyter-widgets/base",
      "model_module_version": "2.0.0",
      "model_name": "LayoutModel",
      "state": {}
     },
     "7b022942a50e4e6cb8aa946455f4c434": {
      "model_module": "@jupyter-widgets/controls",
      "model_module_version": "2.0.0",
      "model_name": "ProgressStyleModel",
      "state": {
       "description_width": ""
      }
     },
     "7b8f3a1dcbf0476cbb3fcbb754baa0e1": {
      "model_module": "@jupyter-widgets/controls",
      "model_module_version": "2.0.0",
      "model_name": "ProgressStyleModel",
      "state": {
       "description_width": ""
      }
     },
     "7c9dd43106544569a992ba5adfde5399": {
      "model_module": "@jupyter-widgets/base",
      "model_module_version": "2.0.0",
      "model_name": "LayoutModel",
      "state": {}
     },
     "7e81d0b962884325b9b2ef60b41e28d3": {
      "model_module": "@jupyter-widgets/base",
      "model_module_version": "2.0.0",
      "model_name": "LayoutModel",
      "state": {}
     },
     "7ebdf4bf4ec24de9b601a73b63536e9e": {
      "model_module": "@jupyter-widgets/base",
      "model_module_version": "2.0.0",
      "model_name": "LayoutModel",
      "state": {}
     },
     "80384f1ed49a4da480928e67a6304503": {
      "model_module": "@jupyter-widgets/controls",
      "model_module_version": "2.0.0",
      "model_name": "HTMLStyleModel",
      "state": {
       "description_width": "",
       "font_size": null,
       "text_color": null
      }
     },
     "8044d159050440c0bdaed2a5b062ad39": {
      "model_module": "@jupyter-widgets/controls",
      "model_module_version": "2.0.0",
      "model_name": "HTMLStyleModel",
      "state": {
       "description_width": "",
       "font_size": null,
       "text_color": null
      }
     },
     "80d4d1300fdb4519b895161808d7d2a6": {
      "model_module": "@jupyter-widgets/controls",
      "model_module_version": "2.0.0",
      "model_name": "HTMLModel",
      "state": {
       "layout": "IPY_MODEL_0ff915d8a3b54908bc0ee5f30b7720f3",
       "style": "IPY_MODEL_b3e3293923424d259c4e5ef74f37ec52",
       "value": "Training epoch 12:: 100%"
      }
     },
     "8153f17cc4a94844a8cfd8acde7ee17d": {
      "model_module": "@jupyter-widgets/controls",
      "model_module_version": "2.0.0",
      "model_name": "HTMLStyleModel",
      "state": {
       "description_width": "",
       "font_size": null,
       "text_color": null
      }
     },
     "819030f00cc748fea8f2e7151f64c76a": {
      "model_module": "@jupyter-widgets/controls",
      "model_module_version": "2.0.0",
      "model_name": "FloatProgressModel",
      "state": {
       "bar_style": "success",
       "layout": "IPY_MODEL_07eb5b73ff494baf97a6a89d5dbe668f",
       "max": 210,
       "style": "IPY_MODEL_89881a715a3445ddb164f9c69cb8b324",
       "value": 210
      }
     },
     "830d9c96f2f640cbb02c03308225aa9c": {
      "model_module": "@jupyter-widgets/controls",
      "model_module_version": "2.0.0",
      "model_name": "HTMLStyleModel",
      "state": {
       "description_width": "",
       "font_size": null,
       "text_color": null
      }
     },
     "8333025cb85149319c0b97817d919f6b": {
      "model_module": "@jupyter-widgets/base",
      "model_module_version": "2.0.0",
      "model_name": "LayoutModel",
      "state": {}
     },
     "83c0c841af374aa3a28d9d610b6c53cd": {
      "model_module": "@jupyter-widgets/controls",
      "model_module_version": "2.0.0",
      "model_name": "HTMLModel",
      "state": {
       "layout": "IPY_MODEL_117d84861c604938955c695080e627b8",
       "style": "IPY_MODEL_1aba1ffa0b124711bada25e22b5e1ba4",
       "value": "Training epoch 0:: 100%"
      }
     },
     "84f5c349d6cc4f809829d50aecc26fa9": {
      "model_module": "@jupyter-widgets/controls",
      "model_module_version": "2.0.0",
      "model_name": "FloatProgressModel",
      "state": {
       "bar_style": "danger",
       "layout": "IPY_MODEL_1b3547c54ac64856a88a7d3f9237c6d3",
       "max": 21,
       "style": "IPY_MODEL_efa81a6fbf314d98a67bf84908288463"
      }
     },
     "8505f41543c7412ea54f09badd134ec2": {
      "model_module": "@jupyter-widgets/controls",
      "model_module_version": "2.0.0",
      "model_name": "FloatProgressModel",
      "state": {
       "bar_style": "success",
       "layout": "IPY_MODEL_af9a11748e834eb5952771ba590c0d27",
       "max": 21,
       "style": "IPY_MODEL_3a82a6b1917f4b3ab02e2f01dc1833ed",
       "value": 21
      }
     },
     "8554fa8160214f26bd389f4725f59b35": {
      "model_module": "@jupyter-widgets/controls",
      "model_module_version": "2.0.0",
      "model_name": "HBoxModel",
      "state": {
       "children": [
        "IPY_MODEL_606ea1af0a78444aa09492ae1ab662c6",
        "IPY_MODEL_1a1fad907e984509b81c34ea66201eef",
        "IPY_MODEL_028d5529d74a4f72ab7821f0b8392535"
       ],
       "layout": "IPY_MODEL_00aacc48557e40d5ac8aaa9140aff2f5"
      }
     },
     "857a06783a8c4bf2865722ea6f690899": {
      "model_module": "@jupyter-widgets/controls",
      "model_module_version": "2.0.0",
      "model_name": "HTMLStyleModel",
      "state": {
       "description_width": "",
       "font_size": null,
       "text_color": null
      }
     },
     "85af0a5530624daea7aa0b476794709c": {
      "model_module": "@jupyter-widgets/base",
      "model_module_version": "2.0.0",
      "model_name": "LayoutModel",
      "state": {}
     },
     "865cdf7e0d444c3ea2d3719ac53c12a4": {
      "model_module": "@jupyter-widgets/base",
      "model_module_version": "2.0.0",
      "model_name": "LayoutModel",
      "state": {}
     },
     "86697ddf7f494264b5cb30ab83f5a941": {
      "model_module": "@jupyter-widgets/base",
      "model_module_version": "2.0.0",
      "model_name": "LayoutModel",
      "state": {}
     },
     "8684138d30b64e739f633c21fa66c921": {
      "model_module": "@jupyter-widgets/base",
      "model_module_version": "2.0.0",
      "model_name": "LayoutModel",
      "state": {}
     },
     "869d30c98deb476099bd03e781af6a9e": {
      "model_module": "@jupyter-widgets/base",
      "model_module_version": "2.0.0",
      "model_name": "LayoutModel",
      "state": {}
     },
     "8733017494b343749adade98a8c3a4d3": {
      "model_module": "@jupyter-widgets/controls",
      "model_module_version": "2.0.0",
      "model_name": "HTMLStyleModel",
      "state": {
       "description_width": "",
       "font_size": null,
       "text_color": null
      }
     },
     "8790a2c8327f40649a3ec44cf64e6dea": {
      "model_module": "@jupyter-widgets/controls",
      "model_module_version": "2.0.0",
      "model_name": "HTMLModel",
      "state": {
       "layout": "IPY_MODEL_d2251fce153b4f348181d585c1c5e123",
       "style": "IPY_MODEL_b811f4f3b9274f038c44817d8367e15f",
       "value": "Training epoch 0::   0%"
      }
     },
     "8865970a056646f5a8adfd56c18c9d0d": {
      "model_module": "@jupyter-widgets/controls",
      "model_module_version": "2.0.0",
      "model_name": "HTMLStyleModel",
      "state": {
       "description_width": "",
       "font_size": null,
       "text_color": null
      }
     },
     "8899d63dda114b4798ce3046be5b8cf6": {
      "model_module": "@jupyter-widgets/controls",
      "model_module_version": "2.0.0",
      "model_name": "HBoxModel",
      "state": {
       "children": [
        "IPY_MODEL_92962b407efb490db42d303e4f84431e",
        "IPY_MODEL_89543e15218c4c93b301bee1a1bf4806",
        "IPY_MODEL_bcf102d290c248729e4d353dee44a4f3"
       ],
       "layout": "IPY_MODEL_abaf399260944199ab22bf423b315407"
      }
     },
     "88e58612da67438b94079c1af4516054": {
      "model_module": "@jupyter-widgets/controls",
      "model_module_version": "2.0.0",
      "model_name": "HBoxModel",
      "state": {
       "children": [
        "IPY_MODEL_2dd6b17bad6547128d0d1070596c4bdb",
        "IPY_MODEL_6cf7df9d891f460aa339e806a25b3359",
        "IPY_MODEL_466a9f0a4eb040dfb42726ad1d5f1765"
       ],
       "layout": "IPY_MODEL_66b2be68ce0041cea3b935f59ee97e91"
      }
     },
     "89543e15218c4c93b301bee1a1bf4806": {
      "model_module": "@jupyter-widgets/controls",
      "model_module_version": "2.0.0",
      "model_name": "FloatProgressModel",
      "state": {
       "bar_style": "success",
       "layout": "IPY_MODEL_6ffc83e67f854d2798836438f711a365",
       "max": 21,
       "style": "IPY_MODEL_2d3dad647de747f7827fd735f40210df",
       "value": 21
      }
     },
     "89881a715a3445ddb164f9c69cb8b324": {
      "model_module": "@jupyter-widgets/controls",
      "model_module_version": "2.0.0",
      "model_name": "ProgressStyleModel",
      "state": {
       "description_width": ""
      }
     },
     "8a556b27959e40039510858290dede9a": {
      "model_module": "@jupyter-widgets/controls",
      "model_module_version": "2.0.0",
      "model_name": "ProgressStyleModel",
      "state": {
       "description_width": ""
      }
     },
     "8a6891b2b665443d9c932d980acdd26d": {
      "model_module": "@jupyter-widgets/base",
      "model_module_version": "2.0.0",
      "model_name": "LayoutModel",
      "state": {}
     },
     "8b514c439cfd4ae3a1b1b24fda9e9236": {
      "model_module": "@jupyter-widgets/controls",
      "model_module_version": "2.0.0",
      "model_name": "ProgressStyleModel",
      "state": {
       "description_width": ""
      }
     },
     "8bb640ca6f264f81866521d1a9c70546": {
      "model_module": "@jupyter-widgets/controls",
      "model_module_version": "2.0.0",
      "model_name": "HTMLModel",
      "state": {
       "layout": "IPY_MODEL_0a6f688006a5463a879c5238e162388a",
       "style": "IPY_MODEL_93d0e5bb17dc4fa6a08a947679ccaf63",
       "value": " 0/21 [00:00&lt;?, ?it/s]"
      }
     },
     "8bcca266265b47bd82b66599b569d3ad": {
      "model_module": "@jupyter-widgets/base",
      "model_module_version": "2.0.0",
      "model_name": "LayoutModel",
      "state": {}
     },
     "8c80d301251f43aa9f6a42d7405f4c8b": {
      "model_module": "@jupyter-widgets/controls",
      "model_module_version": "2.0.0",
      "model_name": "HBoxModel",
      "state": {
       "children": [
        "IPY_MODEL_093b92a99b054a33b586a312be628a33",
        "IPY_MODEL_08cd344577384697adf7fa7b37b2e542",
        "IPY_MODEL_31d39703807b4d709187ac8d17ae0f06"
       ],
       "layout": "IPY_MODEL_9ce7254bb0314c8d85ff5deb13a02ce2"
      }
     },
     "8cdf94852cdc41ad95eab62ade919410": {
      "model_module": "@jupyter-widgets/base",
      "model_module_version": "2.0.0",
      "model_name": "LayoutModel",
      "state": {}
     },
     "8d6e9862931b4fa2830a32275eab8281": {
      "model_module": "@jupyter-widgets/controls",
      "model_module_version": "2.0.0",
      "model_name": "HBoxModel",
      "state": {
       "children": [
        "IPY_MODEL_e3bc8a9ea64741e9b2b8e49af5754ff3",
        "IPY_MODEL_9fa7dcc1678742c198f75f6fb2b33e1d",
        "IPY_MODEL_e766716f154a49f2b2a6759472d399d2"
       ],
       "layout": "IPY_MODEL_4adf46cbe7ae4001be807a3076b9f0e7"
      }
     },
     "8e3ba767ce2f4651a595f1abd568404c": {
      "model_module": "@jupyter-widgets/base",
      "model_module_version": "2.0.0",
      "model_name": "LayoutModel",
      "state": {}
     },
     "8e513aeaf83743de90ae3f7a688b13f4": {
      "model_module": "@jupyter-widgets/base",
      "model_module_version": "2.0.0",
      "model_name": "LayoutModel",
      "state": {}
     },
     "8eb6057c92824309984f993f1e54928c": {
      "model_module": "@jupyter-widgets/controls",
      "model_module_version": "2.0.0",
      "model_name": "HTMLStyleModel",
      "state": {
       "description_width": "",
       "font_size": null,
       "text_color": null
      }
     },
     "8f69f1f6d2aa4ba59b6a459d2fc44013": {
      "model_module": "@jupyter-widgets/controls",
      "model_module_version": "2.0.0",
      "model_name": "FloatProgressModel",
      "state": {
       "bar_style": "success",
       "layout": "IPY_MODEL_c029c0bfdf064e1aa4afffa4e817fa79",
       "max": 21,
       "style": "IPY_MODEL_7b8f3a1dcbf0476cbb3fcbb754baa0e1",
       "value": 21
      }
     },
     "8fe63174e113446387043dcebdc141de": {
      "model_module": "@jupyter-widgets/controls",
      "model_module_version": "2.0.0",
      "model_name": "ProgressStyleModel",
      "state": {
       "description_width": ""
      }
     },
     "91eb9445cb664388bdb98e4de77698c5": {
      "model_module": "@jupyter-widgets/base",
      "model_module_version": "2.0.0",
      "model_name": "LayoutModel",
      "state": {}
     },
     "92962b407efb490db42d303e4f84431e": {
      "model_module": "@jupyter-widgets/controls",
      "model_module_version": "2.0.0",
      "model_name": "HTMLModel",
      "state": {
       "layout": "IPY_MODEL_8bcca266265b47bd82b66599b569d3ad",
       "style": "IPY_MODEL_cd71670f47034db88f4da07a0c041a14",
       "value": "Training epoch 3:: 100%"
      }
     },
     "92e9bbe2d3094658a98ed544f0905fe4": {
      "model_module": "@jupyter-widgets/base",
      "model_module_version": "2.0.0",
      "model_name": "LayoutModel",
      "state": {}
     },
     "937edd9d32f541d4a6bac345cd5864e0": {
      "model_module": "@jupyter-widgets/base",
      "model_module_version": "2.0.0",
      "model_name": "LayoutModel",
      "state": {}
     },
     "93d0e5bb17dc4fa6a08a947679ccaf63": {
      "model_module": "@jupyter-widgets/controls",
      "model_module_version": "2.0.0",
      "model_name": "HTMLStyleModel",
      "state": {
       "description_width": "",
       "font_size": null,
       "text_color": null
      }
     },
     "93ffb2f90b79463994795602d389415a": {
      "model_module": "@jupyter-widgets/base",
      "model_module_version": "2.0.0",
      "model_name": "LayoutModel",
      "state": {}
     },
     "943f767902054affb3734ebe968f5fb7": {
      "model_module": "@jupyter-widgets/base",
      "model_module_version": "2.0.0",
      "model_name": "LayoutModel",
      "state": {}
     },
     "94a9095c8e5041d989cb6157b5d863ac": {
      "model_module": "@jupyter-widgets/controls",
      "model_module_version": "2.0.0",
      "model_name": "HTMLStyleModel",
      "state": {
       "description_width": "",
       "font_size": null,
       "text_color": null
      }
     },
     "9623eefcdb4d4f1085d93f7855f74a75": {
      "model_module": "@jupyter-widgets/base",
      "model_module_version": "2.0.0",
      "model_name": "LayoutModel",
      "state": {}
     },
     "962afc87727b4c42b89ced5cbed3d765": {
      "model_module": "@jupyter-widgets/base",
      "model_module_version": "2.0.0",
      "model_name": "LayoutModel",
      "state": {}
     },
     "97293287a9564105b8460db9b40fdace": {
      "model_module": "@jupyter-widgets/base",
      "model_module_version": "2.0.0",
      "model_name": "LayoutModel",
      "state": {}
     },
     "973fd4aab68a414dad94e60a4fc1ae5f": {
      "model_module": "@jupyter-widgets/controls",
      "model_module_version": "2.0.0",
      "model_name": "HTMLModel",
      "state": {
       "layout": "IPY_MODEL_13189821dd894aefbbfcbbb1aff9d635",
       "style": "IPY_MODEL_59b7e79edd8f4dd48b1b81f53b9feee0",
       "value": " 210/210 [00:00&lt;00:00, 4209.02it/s]"
      }
     },
     "975e943fe4fc407db4033e9ee726d398": {
      "model_module": "@jupyter-widgets/controls",
      "model_module_version": "2.0.0",
      "model_name": "FloatProgressModel",
      "state": {
       "bar_style": "success",
       "layout": "IPY_MODEL_2a034e00b6fb4af7aa0679689248eab9",
       "max": 21,
       "style": "IPY_MODEL_d0d0925f9f964bd88a7d56c904ae3cfc",
       "value": 21
      }
     },
     "9865ad48c1d34ae09512f418856f5bdd": {
      "model_module": "@jupyter-widgets/base",
      "model_module_version": "2.0.0",
      "model_name": "LayoutModel",
      "state": {}
     },
     "987df56b137f4406a37fa1d5426bfda0": {
      "model_module": "@jupyter-widgets/controls",
      "model_module_version": "2.0.0",
      "model_name": "HBoxModel",
      "state": {
       "children": [
        "IPY_MODEL_fc4d6f289101460a80af54a3be7fc158",
        "IPY_MODEL_84f5c349d6cc4f809829d50aecc26fa9",
        "IPY_MODEL_e20b1366462144eabfd7858947cb6e9a"
       ],
       "layout": "IPY_MODEL_6dc821fa1f1849eea89f79b02786ad24"
      }
     },
     "9889fe1ff50d4d89bb4fd9fd658f428e": {
      "model_module": "@jupyter-widgets/controls",
      "model_module_version": "2.0.0",
      "model_name": "HTMLStyleModel",
      "state": {
       "description_width": "",
       "font_size": null,
       "text_color": null
      }
     },
     "9a2fd6e25a444c4cb5de82bfd0e9038c": {
      "model_module": "@jupyter-widgets/base",
      "model_module_version": "2.0.0",
      "model_name": "LayoutModel",
      "state": {}
     },
     "9a422814123c499db7270db0b000a1d6": {
      "model_module": "@jupyter-widgets/controls",
      "model_module_version": "2.0.0",
      "model_name": "FloatProgressModel",
      "state": {
       "bar_style": "success",
       "layout": "IPY_MODEL_554da9205cc34d4daac14a1ab3078c4b",
       "max": 21,
       "style": "IPY_MODEL_3fdc8caaf6db4c05aaf9af17bee355a5",
       "value": 21
      }
     },
     "9ac8d7b751ca47279be92fe0a7783d5e": {
      "model_module": "@jupyter-widgets/controls",
      "model_module_version": "2.0.0",
      "model_name": "HTMLModel",
      "state": {
       "layout": "IPY_MODEL_ba7fd36e8e4d4666be7ac47011bcaa6d",
       "style": "IPY_MODEL_bc696771853d4f3ca5eec5093988cbdd",
       "value": " 21/21 [00:00&lt;00:00, 102.16it/s]"
      }
     },
     "9ad01bc223704f10bbde0c8903b8f1d2": {
      "model_module": "@jupyter-widgets/controls",
      "model_module_version": "2.0.0",
      "model_name": "HTMLStyleModel",
      "state": {
       "description_width": "",
       "font_size": null,
       "text_color": null
      }
     },
     "9c781fd0c16f4b8bbc16bc81780ce0c9": {
      "model_module": "@jupyter-widgets/controls",
      "model_module_version": "2.0.0",
      "model_name": "HBoxModel",
      "state": {
       "children": [
        "IPY_MODEL_f0f35af8f41448e694d85cdbd044092a",
        "IPY_MODEL_19ab54bfda9a4082a1610e014a40bacf",
        "IPY_MODEL_74b9b0a400a94054b7cf6500ed4f8fb3"
       ],
       "layout": "IPY_MODEL_93ffb2f90b79463994795602d389415a"
      }
     },
     "9ce7254bb0314c8d85ff5deb13a02ce2": {
      "model_module": "@jupyter-widgets/base",
      "model_module_version": "2.0.0",
      "model_name": "LayoutModel",
      "state": {}
     },
     "9d7b78d15fc54326a6af08c78df8549b": {
      "model_module": "@jupyter-widgets/base",
      "model_module_version": "2.0.0",
      "model_name": "LayoutModel",
      "state": {}
     },
     "9e3bdf84749d465bafbed798650f50a3": {
      "model_module": "@jupyter-widgets/controls",
      "model_module_version": "2.0.0",
      "model_name": "HBoxModel",
      "state": {
       "children": [
        "IPY_MODEL_0cd0e5900488485581f58b1a1142a876",
        "IPY_MODEL_702d47ab740f46d9bcfede74a7643270",
        "IPY_MODEL_a07dbb735a8c41bca973b0b6945879e6"
       ],
       "layout": "IPY_MODEL_9d7b78d15fc54326a6af08c78df8549b"
      }
     },
     "9e9420c994e5446cae35c4b8c6826a7a": {
      "model_module": "@jupyter-widgets/controls",
      "model_module_version": "2.0.0",
      "model_name": "HTMLStyleModel",
      "state": {
       "description_width": "",
       "font_size": null,
       "text_color": null
      }
     },
     "9ea07cc82f8846fa8c936c093c3d584f": {
      "model_module": "@jupyter-widgets/base",
      "model_module_version": "2.0.0",
      "model_name": "LayoutModel",
      "state": {}
     },
     "9eac0947c013473aa8f9348db7fc5a6e": {
      "model_module": "@jupyter-widgets/controls",
      "model_module_version": "2.0.0",
      "model_name": "ProgressStyleModel",
      "state": {
       "description_width": ""
      }
     },
     "9f102ce3561141eca353c342b040d3a2": {
      "model_module": "@jupyter-widgets/base",
      "model_module_version": "2.0.0",
      "model_name": "LayoutModel",
      "state": {}
     },
     "9f75f0b18e314187acee0a9b651ed354": {
      "model_module": "@jupyter-widgets/base",
      "model_module_version": "2.0.0",
      "model_name": "LayoutModel",
      "state": {}
     },
     "9fa7dcc1678742c198f75f6fb2b33e1d": {
      "model_module": "@jupyter-widgets/controls",
      "model_module_version": "2.0.0",
      "model_name": "FloatProgressModel",
      "state": {
       "bar_style": "success",
       "layout": "IPY_MODEL_5b1a98182b2940318ecf265babc1901d",
       "max": 21,
       "style": "IPY_MODEL_8a556b27959e40039510858290dede9a",
       "value": 21
      }
     },
     "9fd63d3594be43189f06156e014b98ba": {
      "model_module": "@jupyter-widgets/base",
      "model_module_version": "2.0.0",
      "model_name": "LayoutModel",
      "state": {}
     },
     "a07dbb735a8c41bca973b0b6945879e6": {
      "model_module": "@jupyter-widgets/controls",
      "model_module_version": "2.0.0",
      "model_name": "HTMLModel",
      "state": {
       "layout": "IPY_MODEL_b315efd072e64752bb0e30041cd1ade5",
       "style": "IPY_MODEL_2bc087b7dc1a4fa189e152a689450573",
       "value": " 21/21 [00:00&lt;00:00, 46.63it/s]"
      }
     },
     "a0a911ae80d14567b47abc94a4a9b6ec": {
      "model_module": "@jupyter-widgets/controls",
      "model_module_version": "2.0.0",
      "model_name": "HTMLStyleModel",
      "state": {
       "description_width": "",
       "font_size": null,
       "text_color": null
      }
     },
     "a0cf42d5438a4ffaabc4b69ab64ef60d": {
      "model_module": "@jupyter-widgets/controls",
      "model_module_version": "2.0.0",
      "model_name": "FloatProgressModel",
      "state": {
       "bar_style": "danger",
       "layout": "IPY_MODEL_68a18a42964847a2bedc759f104b1953",
       "max": 21,
       "style": "IPY_MODEL_233993e79ad447d2b50a5b206ac61cb1"
      }
     },
     "a0fa895d054c407c847aad281c913ac9": {
      "model_module": "@jupyter-widgets/base",
      "model_module_version": "2.0.0",
      "model_name": "LayoutModel",
      "state": {}
     },
     "a14d3329b32d45e6b896e49a098bb29d": {
      "model_module": "@jupyter-widgets/base",
      "model_module_version": "2.0.0",
      "model_name": "LayoutModel",
      "state": {}
     },
     "a170c7a46c6f43debf2046adef01f754": {
      "model_module": "@jupyter-widgets/controls",
      "model_module_version": "2.0.0",
      "model_name": "HBoxModel",
      "state": {
       "children": [
        "IPY_MODEL_d28de763b6054cb8aee9630d0a80b3f5",
        "IPY_MODEL_819030f00cc748fea8f2e7151f64c76a",
        "IPY_MODEL_fa8dcc1f3d8743898392590c5a5fe5cf"
       ],
       "layout": "IPY_MODEL_13d4c72a287d4efdb17ef65501e3d845"
      }
     },
     "a30b958954bd476cad42c9b22cf8af3d": {
      "model_module": "@jupyter-widgets/controls",
      "model_module_version": "2.0.0",
      "model_name": "FloatProgressModel",
      "state": {
       "bar_style": "success",
       "layout": "IPY_MODEL_e4ae57b26a1545bb97cc86935e6fe3f7",
       "max": 21,
       "style": "IPY_MODEL_b89ea2c796434c03b4dd6c26ae2afc89",
       "value": 21
      }
     },
     "a31241200de5440ba99953643d5c3eae": {
      "model_module": "@jupyter-widgets/controls",
      "model_module_version": "2.0.0",
      "model_name": "HTMLModel",
      "state": {
       "layout": "IPY_MODEL_943f767902054affb3734ebe968f5fb7",
       "style": "IPY_MODEL_4164d0b016484f4db852bca98ef40d0e",
       "value": " 21/21 [00:00&lt;00:00, 95.93it/s]"
      }
     },
     "a34baaa1c5c5457bbf1a3489bc7d3922": {
      "model_module": "@jupyter-widgets/controls",
      "model_module_version": "2.0.0",
      "model_name": "HBoxModel",
      "state": {
       "children": [
        "IPY_MODEL_b61a227ef1c44a86814ab0145a5d8b53",
        "IPY_MODEL_3670ef600f8c4c16baaebaefebc920f5",
        "IPY_MODEL_b226516e6d3847f6a2edd95d44bd7506"
       ],
       "layout": "IPY_MODEL_03ae64b8425148158e45dbd98fbbb91e"
      }
     },
     "a371ecc30d824b6eaaa45b05cc3e4585": {
      "model_module": "@jupyter-widgets/controls",
      "model_module_version": "2.0.0",
      "model_name": "ProgressStyleModel",
      "state": {
       "description_width": ""
      }
     },
     "a41c94e4574a41d08ab708c10bb1966c": {
      "model_module": "@jupyter-widgets/controls",
      "model_module_version": "2.0.0",
      "model_name": "FloatProgressModel",
      "state": {
       "bar_style": "success",
       "layout": "IPY_MODEL_1c772c08e42e4a608e28f9d8177d51c0",
       "max": 210,
       "style": "IPY_MODEL_e306ef852da443a6953008f815f112c2",
       "value": 210
      }
     },
     "a4c093f11f9c4d5ba41beda4d95cc033": {
      "model_module": "@jupyter-widgets/controls",
      "model_module_version": "2.0.0",
      "model_name": "HTMLStyleModel",
      "state": {
       "description_width": "",
       "font_size": null,
       "text_color": null
      }
     },
     "a55000037837409ea0500bb8f17cbba3": {
      "model_module": "@jupyter-widgets/controls",
      "model_module_version": "2.0.0",
      "model_name": "HTMLModel",
      "state": {
       "layout": "IPY_MODEL_d8d1fdb620ba415d8a597393fe8e3ab1",
       "style": "IPY_MODEL_c91321c56b0a4cc994123643783b8e58",
       "value": " 21/21 [00:00&lt;00:00, 98.48it/s]"
      }
     },
     "a568ccba419848bfac5f48992ebf02d5": {
      "model_module": "@jupyter-widgets/controls",
      "model_module_version": "2.0.0",
      "model_name": "FloatProgressModel",
      "state": {
       "bar_style": "success",
       "layout": "IPY_MODEL_799044969bb6427d99058e0767a8f227",
       "max": 21,
       "style": "IPY_MODEL_bc42f1f380604ffaa2f5a18265e69e92",
       "value": 21
      }
     },
     "a5fd36b9d0be477a958a1d6143ba732d": {
      "model_module": "@jupyter-widgets/controls",
      "model_module_version": "2.0.0",
      "model_name": "FloatProgressModel",
      "state": {
       "bar_style": "success",
       "layout": "IPY_MODEL_def5f277e25544a3832f0e43298b58f0",
       "max": 21,
       "style": "IPY_MODEL_1ba5a9f5af4b48d3a2c05fff37f5a835",
       "value": 21
      }
     },
     "a6ff8ae4510f4b7a8370639f3b3b4d8f": {
      "model_module": "@jupyter-widgets/base",
      "model_module_version": "2.0.0",
      "model_name": "LayoutModel",
      "state": {}
     },
     "a70727b3dd68493bb2d5cd169e4964e3": {
      "model_module": "@jupyter-widgets/controls",
      "model_module_version": "2.0.0",
      "model_name": "HTMLModel",
      "state": {
       "layout": "IPY_MODEL_865cdf7e0d444c3ea2d3719ac53c12a4",
       "style": "IPY_MODEL_aa6fc4ea34934d76986a8d5e1b5a79c6",
       "value": " 21/21 [00:00&lt;00:00, 45.70it/s]"
      }
     },
     "a7a27682fa044bce81e5590564e104de": {
      "model_module": "@jupyter-widgets/controls",
      "model_module_version": "2.0.0",
      "model_name": "HTMLStyleModel",
      "state": {
       "description_width": "",
       "font_size": null,
       "text_color": null
      }
     },
     "a8191aac4d764000a5e1ecc52fb0e8a8": {
      "model_module": "@jupyter-widgets/controls",
      "model_module_version": "2.0.0",
      "model_name": "FloatProgressModel",
      "state": {
       "bar_style": "success",
       "layout": "IPY_MODEL_70804cd628a44a8ab4eee0d89e97c06c",
       "max": 21,
       "style": "IPY_MODEL_2bc78614cdca41058215cc10c3e44ca1",
       "value": 21
      }
     },
     "a8e8e7c9b58449f1b75c9c2f9be3edce": {
      "model_module": "@jupyter-widgets/controls",
      "model_module_version": "2.0.0",
      "model_name": "HTMLStyleModel",
      "state": {
       "description_width": "",
       "font_size": null,
       "text_color": null
      }
     },
     "a94d91d992904bbd9eb9fa7ea5a4cb51": {
      "model_module": "@jupyter-widgets/controls",
      "model_module_version": "2.0.0",
      "model_name": "HTMLStyleModel",
      "state": {
       "description_width": "",
       "font_size": null,
       "text_color": null
      }
     },
     "a96818e4b75d4c3fa3949ba60d791954": {
      "model_module": "@jupyter-widgets/base",
      "model_module_version": "2.0.0",
      "model_name": "LayoutModel",
      "state": {}
     },
     "aa6fc4ea34934d76986a8d5e1b5a79c6": {
      "model_module": "@jupyter-widgets/controls",
      "model_module_version": "2.0.0",
      "model_name": "HTMLStyleModel",
      "state": {
       "description_width": "",
       "font_size": null,
       "text_color": null
      }
     },
     "aaafe17abd954837a13a6d53f963ebaa": {
      "model_module": "@jupyter-widgets/controls",
      "model_module_version": "2.0.0",
      "model_name": "ProgressStyleModel",
      "state": {
       "description_width": ""
      }
     },
     "abaf399260944199ab22bf423b315407": {
      "model_module": "@jupyter-widgets/base",
      "model_module_version": "2.0.0",
      "model_name": "LayoutModel",
      "state": {}
     },
     "abf151b6ef1746b4946466047b481500": {
      "model_module": "@jupyter-widgets/controls",
      "model_module_version": "2.0.0",
      "model_name": "HTMLModel",
      "state": {
       "layout": "IPY_MODEL_ec7795a364fb41698ed7000eeb7afb9b",
       "style": "IPY_MODEL_6c5c5023567a47eea7a2bb042e1ae85f",
       "value": " 21/21 [00:00&lt;00:00, 87.19it/s]"
      }
     },
     "acb3223b2f4146318834f692cb4992ff": {
      "model_module": "@jupyter-widgets/controls",
      "model_module_version": "2.0.0",
      "model_name": "HTMLStyleModel",
      "state": {
       "description_width": "",
       "font_size": null,
       "text_color": null
      }
     },
     "ada0dca2e4174c8784fcdb1298f34bfd": {
      "model_module": "@jupyter-widgets/controls",
      "model_module_version": "2.0.0",
      "model_name": "HBoxModel",
      "state": {
       "children": [
        "IPY_MODEL_e33af0944a084e9c84f8bce1d8e90429",
        "IPY_MODEL_c12275bec523405aad808740447148ac",
        "IPY_MODEL_2da286005aaf4368a942e3f9f596de50"
       ],
       "layout": "IPY_MODEL_40dbf4a6c05a40b9bc4e45dfd1bf5773"
      }
     },
     "ae08a83469194fcc85a5a8a1b9ab194f": {
      "model_module": "@jupyter-widgets/controls",
      "model_module_version": "2.0.0",
      "model_name": "HTMLStyleModel",
      "state": {
       "description_width": "",
       "font_size": null,
       "text_color": null
      }
     },
     "ae0c9677c39c48f0a5c6c7ada9e8e4c0": {
      "model_module": "@jupyter-widgets/controls",
      "model_module_version": "2.0.0",
      "model_name": "HTMLStyleModel",
      "state": {
       "description_width": "",
       "font_size": null,
       "text_color": null
      }
     },
     "af9a11748e834eb5952771ba590c0d27": {
      "model_module": "@jupyter-widgets/base",
      "model_module_version": "2.0.0",
      "model_name": "LayoutModel",
      "state": {}
     },
     "aff0a078c32c48c1b48a96a5ddae456c": {
      "model_module": "@jupyter-widgets/base",
      "model_module_version": "2.0.0",
      "model_name": "LayoutModel",
      "state": {}
     },
     "b109fb9a719b40629068277b44bc53fb": {
      "model_module": "@jupyter-widgets/base",
      "model_module_version": "2.0.0",
      "model_name": "LayoutModel",
      "state": {}
     },
     "b1e49d3e781047d2a83bfb4d2fe4faba": {
      "model_module": "@jupyter-widgets/base",
      "model_module_version": "2.0.0",
      "model_name": "LayoutModel",
      "state": {}
     },
     "b226516e6d3847f6a2edd95d44bd7506": {
      "model_module": "@jupyter-widgets/controls",
      "model_module_version": "2.0.0",
      "model_name": "HTMLModel",
      "state": {
       "layout": "IPY_MODEL_d353935574b540a2bc0b6d4f49e8f3bf",
       "style": "IPY_MODEL_f76f79e4c78a41f0b27517380e838f8a",
       "value": " 210/210 [00:00&lt;00:00, 5398.97it/s]"
      }
     },
     "b231feaed5d14d068eec3d800e97ac08": {
      "model_module": "@jupyter-widgets/controls",
      "model_module_version": "2.0.0",
      "model_name": "HTMLModel",
      "state": {
       "layout": "IPY_MODEL_ba6691c6865346358c264825751a3e21",
       "style": "IPY_MODEL_a8e8e7c9b58449f1b75c9c2f9be3edce",
       "value": " 0/21 [00:00&lt;?, ?it/s]"
      }
     },
     "b250e5ce527544adb6f39c9ba1a341f4": {
      "model_module": "@jupyter-widgets/controls",
      "model_module_version": "2.0.0",
      "model_name": "HBoxModel",
      "state": {
       "children": [
        "IPY_MODEL_3a94e5b8c25a4562be8087f5430b0e3d",
        "IPY_MODEL_0bd29158e83c4109b124fb876569a7cb",
        "IPY_MODEL_a31241200de5440ba99953643d5c3eae"
       ],
       "layout": "IPY_MODEL_43cdc64634434a449ddda8e3311dfbc6"
      }
     },
     "b26126de92b34c72be002963f8a3cc87": {
      "model_module": "@jupyter-widgets/base",
      "model_module_version": "2.0.0",
      "model_name": "LayoutModel",
      "state": {}
     },
     "b2e148bbd295401897b3fed8214d5854": {
      "model_module": "@jupyter-widgets/base",
      "model_module_version": "2.0.0",
      "model_name": "LayoutModel",
      "state": {}
     },
     "b2efb1e952ec4c169d9a6f080ba4b053": {
      "model_module": "@jupyter-widgets/controls",
      "model_module_version": "2.0.0",
      "model_name": "HBoxModel",
      "state": {
       "children": [
        "IPY_MODEL_83c0c841af374aa3a28d9d610b6c53cd",
        "IPY_MODEL_55f5ff8675414b708931fbe23996b765",
        "IPY_MODEL_7a7e74eb40df4dbca3edc537a8935676"
       ],
       "layout": "IPY_MODEL_53df281cfec0425f90f7c817d10f3e71"
      }
     },
     "b315efd072e64752bb0e30041cd1ade5": {
      "model_module": "@jupyter-widgets/base",
      "model_module_version": "2.0.0",
      "model_name": "LayoutModel",
      "state": {}
     },
     "b323057cd3db4c45ba9801db83280773": {
      "model_module": "@jupyter-widgets/controls",
      "model_module_version": "2.0.0",
      "model_name": "HTMLStyleModel",
      "state": {
       "description_width": "",
       "font_size": null,
       "text_color": null
      }
     },
     "b3920a2a6c5a4fec8cfee31835b76d1e": {
      "model_module": "@jupyter-widgets/controls",
      "model_module_version": "2.0.0",
      "model_name": "ProgressStyleModel",
      "state": {
       "description_width": ""
      }
     },
     "b3e3293923424d259c4e5ef74f37ec52": {
      "model_module": "@jupyter-widgets/controls",
      "model_module_version": "2.0.0",
      "model_name": "HTMLStyleModel",
      "state": {
       "description_width": "",
       "font_size": null,
       "text_color": null
      }
     },
     "b613cce0efee4a16b5b98ab12ae31081": {
      "model_module": "@jupyter-widgets/base",
      "model_module_version": "2.0.0",
      "model_name": "LayoutModel",
      "state": {}
     },
     "b61a227ef1c44a86814ab0145a5d8b53": {
      "model_module": "@jupyter-widgets/controls",
      "model_module_version": "2.0.0",
      "model_name": "HTMLModel",
      "state": {
       "layout": "IPY_MODEL_67e2c79ea9404dcb9d96858041502b5f",
       "style": "IPY_MODEL_61b4bc857f9f4c35b52987b36121c08a",
       "value": "100%"
      }
     },
     "b6f100af2cce49e6a78fc16790956552": {
      "model_module": "@jupyter-widgets/base",
      "model_module_version": "2.0.0",
      "model_name": "LayoutModel",
      "state": {}
     },
     "b7ec6ef75062416b81ea81a94aea16e5": {
      "model_module": "@jupyter-widgets/controls",
      "model_module_version": "2.0.0",
      "model_name": "ProgressStyleModel",
      "state": {
       "description_width": ""
      }
     },
     "b811f4f3b9274f038c44817d8367e15f": {
      "model_module": "@jupyter-widgets/controls",
      "model_module_version": "2.0.0",
      "model_name": "HTMLStyleModel",
      "state": {
       "description_width": "",
       "font_size": null,
       "text_color": null
      }
     },
     "b89ea2c796434c03b4dd6c26ae2afc89": {
      "model_module": "@jupyter-widgets/controls",
      "model_module_version": "2.0.0",
      "model_name": "ProgressStyleModel",
      "state": {
       "description_width": ""
      }
     },
     "b94e6bff1d374e4b88f5c53b64e1bf74": {
      "model_module": "@jupyter-widgets/base",
      "model_module_version": "2.0.0",
      "model_name": "LayoutModel",
      "state": {}
     },
     "b99c1029918a4f5787f44d4da5cc793a": {
      "model_module": "@jupyter-widgets/base",
      "model_module_version": "2.0.0",
      "model_name": "LayoutModel",
      "state": {}
     },
     "b9a6f1d787434ca8ae243f1e0a131d50": {
      "model_module": "@jupyter-widgets/controls",
      "model_module_version": "2.0.0",
      "model_name": "HTMLModel",
      "state": {
       "layout": "IPY_MODEL_b109fb9a719b40629068277b44bc53fb",
       "style": "IPY_MODEL_57215ad174ae4dcda936eeb7f580ec22",
       "value": "Training epoch 0::   0%"
      }
     },
     "ba2296468fae4fe5b1fe1849bbf98495": {
      "model_module": "@jupyter-widgets/base",
      "model_module_version": "2.0.0",
      "model_name": "LayoutModel",
      "state": {}
     },
     "ba6691c6865346358c264825751a3e21": {
      "model_module": "@jupyter-widgets/base",
      "model_module_version": "2.0.0",
      "model_name": "LayoutModel",
      "state": {}
     },
     "ba7fd36e8e4d4666be7ac47011bcaa6d": {
      "model_module": "@jupyter-widgets/base",
      "model_module_version": "2.0.0",
      "model_name": "LayoutModel",
      "state": {}
     },
     "bac31cf5fc7542749f92969c945e0179": {
      "model_module": "@jupyter-widgets/base",
      "model_module_version": "2.0.0",
      "model_name": "LayoutModel",
      "state": {}
     },
     "bbb077346f624ae1ac1787fa3a88fde0": {
      "model_module": "@jupyter-widgets/controls",
      "model_module_version": "2.0.0",
      "model_name": "HTMLModel",
      "state": {
       "layout": "IPY_MODEL_3e6a0565fd2249d2b1e319cf9bc9db35",
       "style": "IPY_MODEL_9889fe1ff50d4d89bb4fd9fd658f428e",
       "value": " 21/21 [00:00&lt;00:00, 105.56it/s]"
      }
     },
     "bc42f1f380604ffaa2f5a18265e69e92": {
      "model_module": "@jupyter-widgets/controls",
      "model_module_version": "2.0.0",
      "model_name": "ProgressStyleModel",
      "state": {
       "description_width": ""
      }
     },
     "bc542159b24a4c6691bd1b9ad7943521": {
      "model_module": "@jupyter-widgets/controls",
      "model_module_version": "2.0.0",
      "model_name": "HTMLModel",
      "state": {
       "layout": "IPY_MODEL_d91c666a10d944e0b90e8cc920b41af2",
       "style": "IPY_MODEL_ccf586cd49db42da94c433a3d5c0c040",
       "value": "Training epoch 1:: 100%"
      }
     },
     "bc696771853d4f3ca5eec5093988cbdd": {
      "model_module": "@jupyter-widgets/controls",
      "model_module_version": "2.0.0",
      "model_name": "HTMLStyleModel",
      "state": {
       "description_width": "",
       "font_size": null,
       "text_color": null
      }
     },
     "bccf20d341c44440b6915b8314632d7a": {
      "model_module": "@jupyter-widgets/controls",
      "model_module_version": "2.0.0",
      "model_name": "HBoxModel",
      "state": {
       "children": [
        "IPY_MODEL_4f704df78193471987ade34222c02f34",
        "IPY_MODEL_646f692fb74c4042ba8cd5ba22f2ef0f",
        "IPY_MODEL_0ca4267366e0457893324e00266b45c4"
       ],
       "layout": "IPY_MODEL_7e81d0b962884325b9b2ef60b41e28d3"
      }
     },
     "bcf102d290c248729e4d353dee44a4f3": {
      "model_module": "@jupyter-widgets/controls",
      "model_module_version": "2.0.0",
      "model_name": "HTMLModel",
      "state": {
       "layout": "IPY_MODEL_7a3cfee01c9741b4adafd3ac8b35f9ee",
       "style": "IPY_MODEL_20cc244fb93844a4863622b0e1fb64ab",
       "value": " 21/21 [00:00&lt;00:00, 95.45it/s]"
      }
     },
     "bd486bda6fd647a8b0d3d0de1cba64c6": {
      "model_module": "@jupyter-widgets/controls",
      "model_module_version": "2.0.0",
      "model_name": "HBoxModel",
      "state": {
       "children": [
        "IPY_MODEL_02fe872b4ef44ea1be7f7c0fccf210be",
        "IPY_MODEL_460b96eb8a7f4756a41eeb46ca4ea012",
        "IPY_MODEL_d1c45f25cd614240a4f54bc1910679e3"
       ],
       "layout": "IPY_MODEL_c2c7a059f8b54a85b0602efc2c7625d1"
      }
     },
     "be1fa46beda745989721eb478685d281": {
      "model_module": "@jupyter-widgets/controls",
      "model_module_version": "2.0.0",
      "model_name": "HTMLModel",
      "state": {
       "layout": "IPY_MODEL_34045988448144c387e264a7d3b4f568",
       "style": "IPY_MODEL_a7a27682fa044bce81e5590564e104de",
       "value": " 21/21 [00:00&lt;00:00, 56.61it/s]"
      }
     },
     "bec668d2613f473e9eb354c1213d3962": {
      "model_module": "@jupyter-widgets/controls",
      "model_module_version": "2.0.0",
      "model_name": "FloatProgressModel",
      "state": {
       "bar_style": "danger",
       "layout": "IPY_MODEL_4d2ea855d87d43d6b3bb06780cd48953",
       "max": 21,
       "style": "IPY_MODEL_4f6d22f3ed4445fea61788a1fc24e3af"
      }
     },
     "bf5fbb889874463ebb0acd439343891c": {
      "model_module": "@jupyter-widgets/controls",
      "model_module_version": "2.0.0",
      "model_name": "HBoxModel",
      "state": {
       "children": [
        "IPY_MODEL_80d4d1300fdb4519b895161808d7d2a6",
        "IPY_MODEL_6c2c1d1e812a433e9ae02a6aec7c710c",
        "IPY_MODEL_395f0a637ce8470fb325167a8efe9d37"
       ],
       "layout": "IPY_MODEL_62db20fe22af4aceaf4c0f10364f9db4"
      }
     },
     "bf71a2e7dfbe4cb7900a69ada2232277": {
      "model_module": "@jupyter-widgets/controls",
      "model_module_version": "2.0.0",
      "model_name": "ProgressStyleModel",
      "state": {
       "description_width": ""
      }
     },
     "bf7ba24080514a37a359b7db1bf9723c": {
      "model_module": "@jupyter-widgets/base",
      "model_module_version": "2.0.0",
      "model_name": "LayoutModel",
      "state": {}
     },
     "c029c0bfdf064e1aa4afffa4e817fa79": {
      "model_module": "@jupyter-widgets/base",
      "model_module_version": "2.0.0",
      "model_name": "LayoutModel",
      "state": {}
     },
     "c07f9a7119f3401fb64a2e7bf8ab2a7e": {
      "model_module": "@jupyter-widgets/controls",
      "model_module_version": "2.0.0",
      "model_name": "HTMLModel",
      "state": {
       "layout": "IPY_MODEL_6ee47de65a9f4d8a844a048e35c74ce2",
       "style": "IPY_MODEL_0e1823873a9445689a09c09d29c7685f",
       "value": " 21/21 [00:00&lt;00:00, 110.78it/s]"
      }
     },
     "c12275bec523405aad808740447148ac": {
      "model_module": "@jupyter-widgets/controls",
      "model_module_version": "2.0.0",
      "model_name": "FloatProgressModel",
      "state": {
       "bar_style": "danger",
       "layout": "IPY_MODEL_c4ec0058a0c141faa844031fb2984c03",
       "max": 21,
       "style": "IPY_MODEL_78c1363e66f14a74a7af9c10e98a38e5"
      }
     },
     "c138f580153a4f5480d2be7373d4b558": {
      "model_module": "@jupyter-widgets/base",
      "model_module_version": "2.0.0",
      "model_name": "LayoutModel",
      "state": {}
     },
     "c179db6c737c42aa957e1a6475ddecfd": {
      "model_module": "@jupyter-widgets/base",
      "model_module_version": "2.0.0",
      "model_name": "LayoutModel",
      "state": {}
     },
     "c22e6676ba2e4ac0b601bbf6d760e25f": {
      "model_module": "@jupyter-widgets/controls",
      "model_module_version": "2.0.0",
      "model_name": "HTMLStyleModel",
      "state": {
       "description_width": "",
       "font_size": null,
       "text_color": null
      }
     },
     "c2c7a059f8b54a85b0602efc2c7625d1": {
      "model_module": "@jupyter-widgets/base",
      "model_module_version": "2.0.0",
      "model_name": "LayoutModel",
      "state": {}
     },
     "c32a1515b0d745de8b9c40790163d67f": {
      "model_module": "@jupyter-widgets/controls",
      "model_module_version": "2.0.0",
      "model_name": "HTMLStyleModel",
      "state": {
       "description_width": "",
       "font_size": null,
       "text_color": null
      }
     },
     "c3702e235d494b8b90eb21c55079290f": {
      "model_module": "@jupyter-widgets/base",
      "model_module_version": "2.0.0",
      "model_name": "LayoutModel",
      "state": {}
     },
     "c39306d0c1ad4ceba86184a80ae227a0": {
      "model_module": "@jupyter-widgets/controls",
      "model_module_version": "2.0.0",
      "model_name": "ProgressStyleModel",
      "state": {
       "description_width": ""
      }
     },
     "c432d2dd43074de9a91df37c2f1bd5fc": {
      "model_module": "@jupyter-widgets/controls",
      "model_module_version": "2.0.0",
      "model_name": "HTMLStyleModel",
      "state": {
       "description_width": "",
       "font_size": null,
       "text_color": null
      }
     },
     "c4583f84e1e74e0fb61550e939cefc07": {
      "model_module": "@jupyter-widgets/base",
      "model_module_version": "2.0.0",
      "model_name": "LayoutModel",
      "state": {}
     },
     "c4ec0058a0c141faa844031fb2984c03": {
      "model_module": "@jupyter-widgets/base",
      "model_module_version": "2.0.0",
      "model_name": "LayoutModel",
      "state": {}
     },
     "c552602030ab4d96b45e73c0afc40fd1": {
      "model_module": "@jupyter-widgets/controls",
      "model_module_version": "2.0.0",
      "model_name": "HBoxModel",
      "state": {
       "children": [
        "IPY_MODEL_46f224c381424e20bb484bc63098e6a2",
        "IPY_MODEL_db075c83b3cb45899b5fe7d4e0bc5762",
        "IPY_MODEL_e2708d634943420bacb83f026e068b40"
       ],
       "layout": "IPY_MODEL_39aa3384f56a4e25916f3ace1424cd01"
      }
     },
     "c56d313df8bb47ac978669b2cca0cd86": {
      "model_module": "@jupyter-widgets/controls",
      "model_module_version": "2.0.0",
      "model_name": "HTMLStyleModel",
      "state": {
       "description_width": "",
       "font_size": null,
       "text_color": null
      }
     },
     "c5bd59f8d2a6450eb9a57bb087f09bb5": {
      "model_module": "@jupyter-widgets/base",
      "model_module_version": "2.0.0",
      "model_name": "LayoutModel",
      "state": {}
     },
     "c6fcf1eb3d274ed7bea082a6b7abafb9": {
      "model_module": "@jupyter-widgets/controls",
      "model_module_version": "2.0.0",
      "model_name": "HTMLStyleModel",
      "state": {
       "description_width": "",
       "font_size": null,
       "text_color": null
      }
     },
     "c70f699ecf314326b0ec9dfe9d651109": {
      "model_module": "@jupyter-widgets/base",
      "model_module_version": "2.0.0",
      "model_name": "LayoutModel",
      "state": {}
     },
     "c868656d6ea84b14a383f1d3f5c770ed": {
      "model_module": "@jupyter-widgets/controls",
      "model_module_version": "2.0.0",
      "model_name": "HTMLStyleModel",
      "state": {
       "description_width": "",
       "font_size": null,
       "text_color": null
      }
     },
     "c91321c56b0a4cc994123643783b8e58": {
      "model_module": "@jupyter-widgets/controls",
      "model_module_version": "2.0.0",
      "model_name": "HTMLStyleModel",
      "state": {
       "description_width": "",
       "font_size": null,
       "text_color": null
      }
     },
     "cb63faabc14a4f4b93eafaed1c53c014": {
      "model_module": "@jupyter-widgets/controls",
      "model_module_version": "2.0.0",
      "model_name": "HTMLStyleModel",
      "state": {
       "description_width": "",
       "font_size": null,
       "text_color": null
      }
     },
     "ccf586cd49db42da94c433a3d5c0c040": {
      "model_module": "@jupyter-widgets/controls",
      "model_module_version": "2.0.0",
      "model_name": "HTMLStyleModel",
      "state": {
       "description_width": "",
       "font_size": null,
       "text_color": null
      }
     },
     "cd71670f47034db88f4da07a0c041a14": {
      "model_module": "@jupyter-widgets/controls",
      "model_module_version": "2.0.0",
      "model_name": "HTMLStyleModel",
      "state": {
       "description_width": "",
       "font_size": null,
       "text_color": null
      }
     },
     "cdda1d66fa0545b3a0ef5170ff1ad27f": {
      "model_module": "@jupyter-widgets/controls",
      "model_module_version": "2.0.0",
      "model_name": "HTMLStyleModel",
      "state": {
       "description_width": "",
       "font_size": null,
       "text_color": null
      }
     },
     "cf00198399ed431e9d49d49b05d88cff": {
      "model_module": "@jupyter-widgets/base",
      "model_module_version": "2.0.0",
      "model_name": "LayoutModel",
      "state": {}
     },
     "d0d0925f9f964bd88a7d56c904ae3cfc": {
      "model_module": "@jupyter-widgets/controls",
      "model_module_version": "2.0.0",
      "model_name": "ProgressStyleModel",
      "state": {
       "description_width": ""
      }
     },
     "d13fd6a03f664d97b706a6ce61f83602": {
      "model_module": "@jupyter-widgets/controls",
      "model_module_version": "2.0.0",
      "model_name": "ProgressStyleModel",
      "state": {
       "description_width": ""
      }
     },
     "d14da5cd427a456da0980a43c545f229": {
      "model_module": "@jupyter-widgets/controls",
      "model_module_version": "2.0.0",
      "model_name": "HBoxModel",
      "state": {
       "children": [
        "IPY_MODEL_3c935801c3564f5b9aabdae7ad48b084",
        "IPY_MODEL_e9c0faac1f2943d693b01b1c4f8abc88",
        "IPY_MODEL_280d3c7bc85f47998fd6822981abd24d"
       ],
       "layout": "IPY_MODEL_c70f699ecf314326b0ec9dfe9d651109"
      }
     },
     "d1c45f25cd614240a4f54bc1910679e3": {
      "model_module": "@jupyter-widgets/controls",
      "model_module_version": "2.0.0",
      "model_name": "HTMLModel",
      "state": {
       "layout": "IPY_MODEL_ef874ab26d924e1aa80d1deb3c215348",
       "style": "IPY_MODEL_8733017494b343749adade98a8c3a4d3",
       "value": " 21/21 [00:00&lt;00:00, 99.36it/s]"
      }
     },
     "d1e75cb3b9d749618e39c8b3c4f5c9cd": {
      "model_module": "@jupyter-widgets/controls",
      "model_module_version": "2.0.0",
      "model_name": "HBoxModel",
      "state": {
       "children": [
        "IPY_MODEL_d3af4be6d3f841e89fba0753c350d8e3",
        "IPY_MODEL_e75cf18921254456a1a2cfe7240df167",
        "IPY_MODEL_75a4a13b4d434dec8aff85c9012895dd"
       ],
       "layout": "IPY_MODEL_8684138d30b64e739f633c21fa66c921"
      }
     },
     "d1f621d2d6bc44918468d2ade18ea38b": {
      "model_module": "@jupyter-widgets/controls",
      "model_module_version": "2.0.0",
      "model_name": "HTMLModel",
      "state": {
       "layout": "IPY_MODEL_1ef2fb35bb0d4dcfa587ab805ac760ab",
       "style": "IPY_MODEL_ae08a83469194fcc85a5a8a1b9ab194f",
       "value": " 21/21 [00:01&lt;00:00, 15.18it/s]"
      }
     },
     "d2251fce153b4f348181d585c1c5e123": {
      "model_module": "@jupyter-widgets/base",
      "model_module_version": "2.0.0",
      "model_name": "LayoutModel",
      "state": {}
     },
     "d28de763b6054cb8aee9630d0a80b3f5": {
      "model_module": "@jupyter-widgets/controls",
      "model_module_version": "2.0.0",
      "model_name": "HTMLModel",
      "state": {
       "layout": "IPY_MODEL_7788176c4fd142c1868fe3fc7a953064",
       "style": "IPY_MODEL_588fb0de52434675b4168d799d72395b",
       "value": "100%"
      }
     },
     "d353935574b540a2bc0b6d4f49e8f3bf": {
      "model_module": "@jupyter-widgets/base",
      "model_module_version": "2.0.0",
      "model_name": "LayoutModel",
      "state": {}
     },
     "d3af4be6d3f841e89fba0753c350d8e3": {
      "model_module": "@jupyter-widgets/controls",
      "model_module_version": "2.0.0",
      "model_name": "HTMLModel",
      "state": {
       "layout": "IPY_MODEL_e9f082942d0a4ab6b405b51e768a3190",
       "style": "IPY_MODEL_cdda1d66fa0545b3a0ef5170ff1ad27f",
       "value": "Training epoch 17:: 100%"
      }
     },
     "d41deed559f84510b90559ffbce5dabe": {
      "model_module": "@jupyter-widgets/base",
      "model_module_version": "2.0.0",
      "model_name": "LayoutModel",
      "state": {}
     },
     "d4f62ec72b9c4c0a9b58b3dc5cf7cf42": {
      "model_module": "@jupyter-widgets/base",
      "model_module_version": "2.0.0",
      "model_name": "LayoutModel",
      "state": {}
     },
     "d7a105ca51144c59b1eedb1cdce73b78": {
      "model_module": "@jupyter-widgets/base",
      "model_module_version": "2.0.0",
      "model_name": "LayoutModel",
      "state": {}
     },
     "d835be99f3c2491589db49e080a5921a": {
      "model_module": "@jupyter-widgets/controls",
      "model_module_version": "2.0.0",
      "model_name": "HTMLStyleModel",
      "state": {
       "description_width": "",
       "font_size": null,
       "text_color": null
      }
     },
     "d8d1fdb620ba415d8a597393fe8e3ab1": {
      "model_module": "@jupyter-widgets/base",
      "model_module_version": "2.0.0",
      "model_name": "LayoutModel",
      "state": {}
     },
     "d917d25a1f9d40f0aad94b1f2b24d92c": {
      "model_module": "@jupyter-widgets/base",
      "model_module_version": "2.0.0",
      "model_name": "LayoutModel",
      "state": {}
     },
     "d91c666a10d944e0b90e8cc920b41af2": {
      "model_module": "@jupyter-widgets/base",
      "model_module_version": "2.0.0",
      "model_name": "LayoutModel",
      "state": {}
     },
     "da9c035112894517b3b7d5abf1fd1538": {
      "model_module": "@jupyter-widgets/controls",
      "model_module_version": "2.0.0",
      "model_name": "HTMLModel",
      "state": {
       "layout": "IPY_MODEL_7c9dd43106544569a992ba5adfde5399",
       "style": "IPY_MODEL_c868656d6ea84b14a383f1d3f5c770ed",
       "value": "Training epoch 0:: 100%"
      }
     },
     "dae87a86abbf438f913ad24b3af9afc2": {
      "model_module": "@jupyter-widgets/controls",
      "model_module_version": "2.0.0",
      "model_name": "HTMLModel",
      "state": {
       "layout": "IPY_MODEL_ec852cba3f4d4352a40c3af860a89579",
       "style": "IPY_MODEL_c6fcf1eb3d274ed7bea082a6b7abafb9",
       "value": "Training epoch 9:: 100%"
      }
     },
     "db075c83b3cb45899b5fe7d4e0bc5762": {
      "model_module": "@jupyter-widgets/controls",
      "model_module_version": "2.0.0",
      "model_name": "FloatProgressModel",
      "state": {
       "bar_style": "success",
       "layout": "IPY_MODEL_33ab56d614324a07a3787ff3b77b3aa1",
       "max": 21,
       "style": "IPY_MODEL_34f61abc9bd74d9e8f51848b55ce0ca1",
       "value": 21
      }
     },
     "db4e4743061a4a8fa9d061c19c05d3cb": {
      "model_module": "@jupyter-widgets/controls",
      "model_module_version": "2.0.0",
      "model_name": "FloatProgressModel",
      "state": {
       "bar_style": "success",
       "layout": "IPY_MODEL_77b5bef1d3aa494795365edb61a3b72d",
       "max": 21,
       "style": "IPY_MODEL_0e96bf7d5e3947b3900312328762ab17",
       "value": 21
      }
     },
     "db9f7d7656cc4d6f8a34599e8797e3f8": {
      "model_module": "@jupyter-widgets/controls",
      "model_module_version": "2.0.0",
      "model_name": "HTMLModel",
      "state": {
       "layout": "IPY_MODEL_775f3698aa6f4431b4a237c0031b359d",
       "style": "IPY_MODEL_5b955de2799b489590eb282e047c7d10",
       "value": " 21/21 [00:00&lt;00:00, 85.87it/s]"
      }
     },
     "dbe007f38533455bbc35ce9f5ac08bf0": {
      "model_module": "@jupyter-widgets/base",
      "model_module_version": "2.0.0",
      "model_name": "LayoutModel",
      "state": {}
     },
     "ddf7dc3187c448ac81e84243b0d1c19e": {
      "model_module": "@jupyter-widgets/controls",
      "model_module_version": "2.0.0",
      "model_name": "HTMLModel",
      "state": {
       "layout": "IPY_MODEL_b6f100af2cce49e6a78fc16790956552",
       "style": "IPY_MODEL_6f647863c1f647058b6422161bc52da9",
       "value": "Training epoch 10:: 100%"
      }
     },
     "de4e2a2d2852485b847ae1257868c64a": {
      "model_module": "@jupyter-widgets/controls",
      "model_module_version": "2.0.0",
      "model_name": "HBoxModel",
      "state": {
       "children": [
        "IPY_MODEL_ddf7dc3187c448ac81e84243b0d1c19e",
        "IPY_MODEL_196d71a02d434c528e5241179ba2ecc9",
        "IPY_MODEL_9ac8d7b751ca47279be92fe0a7783d5e"
       ],
       "layout": "IPY_MODEL_9f75f0b18e314187acee0a9b651ed354"
      }
     },
     "def5f277e25544a3832f0e43298b58f0": {
      "model_module": "@jupyter-widgets/base",
      "model_module_version": "2.0.0",
      "model_name": "LayoutModel",
      "state": {}
     },
     "e079cc80e4ef47fd9038947d3563212a": {
      "model_module": "@jupyter-widgets/controls",
      "model_module_version": "2.0.0",
      "model_name": "HTMLStyleModel",
      "state": {
       "description_width": "",
       "font_size": null,
       "text_color": null
      }
     },
     "e20b1366462144eabfd7858947cb6e9a": {
      "model_module": "@jupyter-widgets/controls",
      "model_module_version": "2.0.0",
      "model_name": "HTMLModel",
      "state": {
       "layout": "IPY_MODEL_937edd9d32f541d4a6bac345cd5864e0",
       "style": "IPY_MODEL_625a86df45684207ab117bc0b58565a7",
       "value": " 0/21 [00:00&lt;?, ?it/s]"
      }
     },
     "e2708d634943420bacb83f026e068b40": {
      "model_module": "@jupyter-widgets/controls",
      "model_module_version": "2.0.0",
      "model_name": "HTMLModel",
      "state": {
       "layout": "IPY_MODEL_ba2296468fae4fe5b1fe1849bbf98495",
       "style": "IPY_MODEL_3798b2df4d3d44e1a21c87bb9e17f6de",
       "value": " 21/21 [00:00&lt;00:00, 96.41it/s]"
      }
     },
     "e306ef852da443a6953008f815f112c2": {
      "model_module": "@jupyter-widgets/controls",
      "model_module_version": "2.0.0",
      "model_name": "ProgressStyleModel",
      "state": {
       "description_width": ""
      }
     },
     "e31166e17e6a4479a6d17d853b5b39cd": {
      "model_module": "@jupyter-widgets/controls",
      "model_module_version": "2.0.0",
      "model_name": "HTMLModel",
      "state": {
       "layout": "IPY_MODEL_1e4ca6dbd9c04c46b0a7697dc151151d",
       "style": "IPY_MODEL_face6c1ccc514bfdb9e2fc14a167fde7",
       "value": "Training epoch 0::   0%"
      }
     },
     "e321c79a633746a084ea7814abd685e5": {
      "model_module": "@jupyter-widgets/base",
      "model_module_version": "2.0.0",
      "model_name": "LayoutModel",
      "state": {}
     },
     "e33af0944a084e9c84f8bce1d8e90429": {
      "model_module": "@jupyter-widgets/controls",
      "model_module_version": "2.0.0",
      "model_name": "HTMLModel",
      "state": {
       "layout": "IPY_MODEL_50534f4f889140d1ba89236493789342",
       "style": "IPY_MODEL_94a9095c8e5041d989cb6157b5d863ac",
       "value": "Training epoch 0::   0%"
      }
     },
     "e36ed0f96e154208a0eefd5d75bc0a4b": {
      "model_module": "@jupyter-widgets/controls",
      "model_module_version": "2.0.0",
      "model_name": "HBoxModel",
      "state": {
       "children": [
        "IPY_MODEL_bc542159b24a4c6691bd1b9ad7943521",
        "IPY_MODEL_9a422814123c499db7270db0b000a1d6",
        "IPY_MODEL_abf151b6ef1746b4946466047b481500"
       ],
       "layout": "IPY_MODEL_fe4dace5b6804de284e1bc271b6888b6"
      }
     },
     "e3bc8a9ea64741e9b2b8e49af5754ff3": {
      "model_module": "@jupyter-widgets/controls",
      "model_module_version": "2.0.0",
      "model_name": "HTMLModel",
      "state": {
       "layout": "IPY_MODEL_8e3ba767ce2f4651a595f1abd568404c",
       "style": "IPY_MODEL_8865970a056646f5a8adfd56c18c9d0d",
       "value": "Training epoch 4:: 100%"
      }
     },
     "e4ae57b26a1545bb97cc86935e6fe3f7": {
      "model_module": "@jupyter-widgets/base",
      "model_module_version": "2.0.0",
      "model_name": "LayoutModel",
      "state": {}
     },
     "e65791d267de422d97eff2e06175eb49": {
      "model_module": "@jupyter-widgets/controls",
      "model_module_version": "2.0.0",
      "model_name": "HTMLStyleModel",
      "state": {
       "description_width": "",
       "font_size": null,
       "text_color": null
      }
     },
     "e68ac102099741dabb1d43256bca7358": {
      "model_module": "@jupyter-widgets/controls",
      "model_module_version": "2.0.0",
      "model_name": "FloatProgressModel",
      "state": {
       "bar_style": "danger",
       "layout": "IPY_MODEL_e8e792fc7c5143cc9693eb070900ed15",
       "max": 21,
       "style": "IPY_MODEL_1161c2dd880748e094a86509541e734f"
      }
     },
     "e738c024dfff42d99e33d630f05d28a0": {
      "model_module": "@jupyter-widgets/base",
      "model_module_version": "2.0.0",
      "model_name": "LayoutModel",
      "state": {}
     },
     "e75cf18921254456a1a2cfe7240df167": {
      "model_module": "@jupyter-widgets/controls",
      "model_module_version": "2.0.0",
      "model_name": "FloatProgressModel",
      "state": {
       "bar_style": "success",
       "layout": "IPY_MODEL_c3702e235d494b8b90eb21c55079290f",
       "max": 21,
       "style": "IPY_MODEL_b3920a2a6c5a4fec8cfee31835b76d1e",
       "value": 21
      }
     },
     "e766716f154a49f2b2a6759472d399d2": {
      "model_module": "@jupyter-widgets/controls",
      "model_module_version": "2.0.0",
      "model_name": "HTMLModel",
      "state": {
       "layout": "IPY_MODEL_f2488d01464841bb84f9a388bc988e9e",
       "style": "IPY_MODEL_16ee73fde5a742cd88fff5e36819c968",
       "value": " 21/21 [00:00&lt;00:00, 58.88it/s]"
      }
     },
     "e872012a1a48406a93c0e0e9edca3002": {
      "model_module": "@jupyter-widgets/base",
      "model_module_version": "2.0.0",
      "model_name": "LayoutModel",
      "state": {}
     },
     "e8e792fc7c5143cc9693eb070900ed15": {
      "model_module": "@jupyter-widgets/base",
      "model_module_version": "2.0.0",
      "model_name": "LayoutModel",
      "state": {}
     },
     "e96b84550c54415d94d538cc19caf395": {
      "model_module": "@jupyter-widgets/controls",
      "model_module_version": "2.0.0",
      "model_name": "HBoxModel",
      "state": {
       "children": [
        "IPY_MODEL_127b747875d945678711c50237209087",
        "IPY_MODEL_78b7c122219f418d9e032f07336b49cf",
        "IPY_MODEL_70a08e9523e9423db624a38b496a81a9"
       ],
       "layout": "IPY_MODEL_0a871ba3a6504066ae4b76f544160fa7"
      }
     },
     "e9c0faac1f2943d693b01b1c4f8abc88": {
      "model_module": "@jupyter-widgets/controls",
      "model_module_version": "2.0.0",
      "model_name": "FloatProgressModel",
      "state": {
       "bar_style": "success",
       "layout": "IPY_MODEL_0eba4b68f9534635a178a1cfd40e13df",
       "max": 21,
       "style": "IPY_MODEL_1efbbb6fed724085a869008d55be248c",
       "value": 21
      }
     },
     "e9f082942d0a4ab6b405b51e768a3190": {
      "model_module": "@jupyter-widgets/base",
      "model_module_version": "2.0.0",
      "model_name": "LayoutModel",
      "state": {}
     },
     "ea8a9e9b59114e2d912f3ebb83b8a1b6": {
      "model_module": "@jupyter-widgets/base",
      "model_module_version": "2.0.0",
      "model_name": "LayoutModel",
      "state": {}
     },
     "eaeb717b748d40b98a719bebe89a170c": {
      "model_module": "@jupyter-widgets/controls",
      "model_module_version": "2.0.0",
      "model_name": "HTMLStyleModel",
      "state": {
       "description_width": "",
       "font_size": null,
       "text_color": null
      }
     },
     "eaf0bf49513c42259465c744e4badbcd": {
      "model_module": "@jupyter-widgets/controls",
      "model_module_version": "2.0.0",
      "model_name": "HTMLStyleModel",
      "state": {
       "description_width": "",
       "font_size": null,
       "text_color": null
      }
     },
     "ec7795a364fb41698ed7000eeb7afb9b": {
      "model_module": "@jupyter-widgets/base",
      "model_module_version": "2.0.0",
      "model_name": "LayoutModel",
      "state": {}
     },
     "ec852cba3f4d4352a40c3af860a89579": {
      "model_module": "@jupyter-widgets/base",
      "model_module_version": "2.0.0",
      "model_name": "LayoutModel",
      "state": {}
     },
     "ed06019813be4ad994a60c5bb88f5e90": {
      "model_module": "@jupyter-widgets/controls",
      "model_module_version": "2.0.0",
      "model_name": "FloatProgressModel",
      "state": {
       "bar_style": "success",
       "layout": "IPY_MODEL_3e3a20a141ef46e4a0330206c96080b4",
       "max": 21,
       "style": "IPY_MODEL_38e2fb4c455a40f484deb549bcdb86ae",
       "value": 21
      }
     },
     "edf5a12c79eb42f789a52b0cedd3697a": {
      "model_module": "@jupyter-widgets/controls",
      "model_module_version": "2.0.0",
      "model_name": "HBoxModel",
      "state": {
       "children": [
        "IPY_MODEL_40e91cfc1cab4246b4639e88a9fe9e94",
        "IPY_MODEL_56c6510bd6ff4e5d80da6ce4e82d8efa",
        "IPY_MODEL_be1fa46beda745989721eb478685d281"
       ],
       "layout": "IPY_MODEL_f4f0527490a644d09bfca9be92174b72"
      }
     },
     "ef44ce0e124641f2806259b2311e3265": {
      "model_module": "@jupyter-widgets/controls",
      "model_module_version": "2.0.0",
      "model_name": "ProgressStyleModel",
      "state": {
       "description_width": ""
      }
     },
     "ef4fbce431394bc3b5d8f5d9d4959541": {
      "model_module": "@jupyter-widgets/controls",
      "model_module_version": "2.0.0",
      "model_name": "HTMLStyleModel",
      "state": {
       "description_width": "",
       "font_size": null,
       "text_color": null
      }
     },
     "ef874ab26d924e1aa80d1deb3c215348": {
      "model_module": "@jupyter-widgets/base",
      "model_module_version": "2.0.0",
      "model_name": "LayoutModel",
      "state": {}
     },
     "ef9dbb2165624f709134ff82cff981af": {
      "model_module": "@jupyter-widgets/base",
      "model_module_version": "2.0.0",
      "model_name": "LayoutModel",
      "state": {}
     },
     "efa81a6fbf314d98a67bf84908288463": {
      "model_module": "@jupyter-widgets/controls",
      "model_module_version": "2.0.0",
      "model_name": "ProgressStyleModel",
      "state": {
       "description_width": ""
      }
     },
     "efbaf07def454109b34501c200a60dc6": {
      "model_module": "@jupyter-widgets/controls",
      "model_module_version": "2.0.0",
      "model_name": "HTMLModel",
      "state": {
       "layout": "IPY_MODEL_8333025cb85149319c0b97817d919f6b",
       "style": "IPY_MODEL_5a40e8426c9a4129b50f989ff10bd355",
       "value": "Training epoch 14:: 100%"
      }
     },
     "f0088729a2de44c284d5570f7417ac89": {
      "model_module": "@jupyter-widgets/controls",
      "model_module_version": "2.0.0",
      "model_name": "HTMLStyleModel",
      "state": {
       "description_width": "",
       "font_size": null,
       "text_color": null
      }
     },
     "f07ae11f52a3479ab2b3a9954969f103": {
      "model_module": "@jupyter-widgets/controls",
      "model_module_version": "2.0.0",
      "model_name": "ProgressStyleModel",
      "state": {
       "description_width": ""
      }
     },
     "f0f35af8f41448e694d85cdbd044092a": {
      "model_module": "@jupyter-widgets/controls",
      "model_module_version": "2.0.0",
      "model_name": "HTMLModel",
      "state": {
       "layout": "IPY_MODEL_3d3cc7af63344ab2955e1c4ecba895a3",
       "style": "IPY_MODEL_9e9420c994e5446cae35c4b8c6826a7a",
       "value": "Training epoch 7:: 100%"
      }
     },
     "f2488d01464841bb84f9a388bc988e9e": {
      "model_module": "@jupyter-widgets/base",
      "model_module_version": "2.0.0",
      "model_name": "LayoutModel",
      "state": {}
     },
     "f2cd1e7fc8ff439f99ce9fb947c8a0e9": {
      "model_module": "@jupyter-widgets/base",
      "model_module_version": "2.0.0",
      "model_name": "LayoutModel",
      "state": {}
     },
     "f2fb735af1de4e2bacac9f976893ed0e": {
      "model_module": "@jupyter-widgets/base",
      "model_module_version": "2.0.0",
      "model_name": "LayoutModel",
      "state": {}
     },
     "f334e1d3e74d4996a49eae525926671d": {
      "model_module": "@jupyter-widgets/controls",
      "model_module_version": "2.0.0",
      "model_name": "HTMLStyleModel",
      "state": {
       "description_width": "",
       "font_size": null,
       "text_color": null
      }
     },
     "f4f0527490a644d09bfca9be92174b72": {
      "model_module": "@jupyter-widgets/base",
      "model_module_version": "2.0.0",
      "model_name": "LayoutModel",
      "state": {}
     },
     "f5466c8a56fa45d685be12a5f50169f5": {
      "model_module": "@jupyter-widgets/controls",
      "model_module_version": "2.0.0",
      "model_name": "HTMLModel",
      "state": {
       "layout": "IPY_MODEL_3e5ccf94228f4a2aaf393095339451bb",
       "style": "IPY_MODEL_4789de9412dc40f2a86723d628958ecc",
       "value": "Training epoch 3:: 100%"
      }
     },
     "f5730cb28121483db8f83e7a9a97e73d": {
      "model_module": "@jupyter-widgets/controls",
      "model_module_version": "2.0.0",
      "model_name": "HTMLStyleModel",
      "state": {
       "description_width": "",
       "font_size": null,
       "text_color": null
      }
     },
     "f589d0681b2b4471bf0ec0046287c508": {
      "model_module": "@jupyter-widgets/controls",
      "model_module_version": "2.0.0",
      "model_name": "HBoxModel",
      "state": {
       "children": [
        "IPY_MODEL_2a11eeac84994b929da0a5d9ceba7c0e",
        "IPY_MODEL_a8191aac4d764000a5e1ecc52fb0e8a8",
        "IPY_MODEL_a55000037837409ea0500bb8f17cbba3"
       ],
       "layout": "IPY_MODEL_595cd7c0c280407eb44a83d8a08d3cfb"
      }
     },
     "f76f79e4c78a41f0b27517380e838f8a": {
      "model_module": "@jupyter-widgets/controls",
      "model_module_version": "2.0.0",
      "model_name": "HTMLStyleModel",
      "state": {
       "description_width": "",
       "font_size": null,
       "text_color": null
      }
     },
     "f942ac88e7414cebb6e0c143ace3bc58": {
      "model_module": "@jupyter-widgets/base",
      "model_module_version": "2.0.0",
      "model_name": "LayoutModel",
      "state": {}
     },
     "fa8dcc1f3d8743898392590c5a5fe5cf": {
      "model_module": "@jupyter-widgets/controls",
      "model_module_version": "2.0.0",
      "model_name": "HTMLModel",
      "state": {
       "layout": "IPY_MODEL_77a987b14d934ebca4ad99342aacb19c",
       "style": "IPY_MODEL_74c31c813ca04b8ca4b4a0e15f68ecdc",
       "value": " 210/210 [00:00&lt;00:00, 4292.90it/s]"
      }
     },
     "face6c1ccc514bfdb9e2fc14a167fde7": {
      "model_module": "@jupyter-widgets/controls",
      "model_module_version": "2.0.0",
      "model_name": "HTMLStyleModel",
      "state": {
       "description_width": "",
       "font_size": null,
       "text_color": null
      }
     },
     "fb20d14c4ca546d29a0f2d2da3d30d71": {
      "model_module": "@jupyter-widgets/controls",
      "model_module_version": "2.0.0",
      "model_name": "FloatProgressModel",
      "state": {
       "bar_style": "success",
       "layout": "IPY_MODEL_c179db6c737c42aa957e1a6475ddecfd",
       "max": 21,
       "style": "IPY_MODEL_50ca5590f4704bb88121969d537168c5",
       "value": 21
      }
     },
     "fb6777e39d914baba83f22e11fa9df0d": {
      "model_module": "@jupyter-widgets/controls",
      "model_module_version": "2.0.0",
      "model_name": "FloatProgressModel",
      "state": {
       "bar_style": "danger",
       "layout": "IPY_MODEL_23a1df5ed6ad4328a193b29f85745a0d",
       "max": 21,
       "style": "IPY_MODEL_b7ec6ef75062416b81ea81a94aea16e5"
      }
     },
     "fc4d6f289101460a80af54a3be7fc158": {
      "model_module": "@jupyter-widgets/controls",
      "model_module_version": "2.0.0",
      "model_name": "HTMLModel",
      "state": {
       "layout": "IPY_MODEL_f2cd1e7fc8ff439f99ce9fb947c8a0e9",
       "style": "IPY_MODEL_6f882810b4e44f1d88a16a34b8082e0a",
       "value": "Training epoch 0::   0%"
      }
     },
     "fd354b069dc74f0fb3001fc9f1f514c8": {
      "model_module": "@jupyter-widgets/controls",
      "model_module_version": "2.0.0",
      "model_name": "HTMLStyleModel",
      "state": {
       "description_width": "",
       "font_size": null,
       "text_color": null
      }
     },
     "fda359e9fc40403babd04782c5daa69d": {
      "model_module": "@jupyter-widgets/controls",
      "model_module_version": "2.0.0",
      "model_name": "HTMLModel",
      "state": {
       "layout": "IPY_MODEL_b94e6bff1d374e4b88f5c53b64e1bf74",
       "style": "IPY_MODEL_e079cc80e4ef47fd9038947d3563212a",
       "value": " 21/21 [00:00&lt;00:00, 107.37it/s]"
      }
     },
     "fdc916ec35d84856823dd23f424d0775": {
      "model_module": "@jupyter-widgets/controls",
      "model_module_version": "2.0.0",
      "model_name": "HTMLStyleModel",
      "state": {
       "description_width": "",
       "font_size": null,
       "text_color": null
      }
     },
     "fe4dace5b6804de284e1bc271b6888b6": {
      "model_module": "@jupyter-widgets/base",
      "model_module_version": "2.0.0",
      "model_name": "LayoutModel",
      "state": {}
     },
     "fee19b1662834d2b97ea8ceec8a73aee": {
      "model_module": "@jupyter-widgets/controls",
      "model_module_version": "2.0.0",
      "model_name": "FloatProgressModel",
      "state": {
       "bar_style": "danger",
       "layout": "IPY_MODEL_47f4c441d5ee4dc19b652472af8fd085",
       "max": 21,
       "style": "IPY_MODEL_9eac0947c013473aa8f9348db7fc5a6e"
      }
     }
    },
    "version_major": 2,
    "version_minor": 0
   }
  }
 },
 "nbformat": 4,
 "nbformat_minor": 4
}
